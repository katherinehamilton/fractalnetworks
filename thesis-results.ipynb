{
 "cells": [
  {
   "cell_type": "markdown",
   "id": "bc0c8b9a-b0a4-4026-a948-7283111c0120",
   "metadata": {},
   "source": [
    "This notebook contains the functions used to generate figures and results in my MSc thesis [1]."
   ]
  },
  {
   "cell_type": "markdown",
   "id": "930e9dff-feec-4d5a-a466-8693f3400667",
   "metadata": {},
   "source": [
    "**Module Imports**"
   ]
  },
  {
   "cell_type": "code",
   "execution_count": null,
   "id": "fc499b42-e542-4b65-adfe-aea467e76c2b",
   "metadata": {
    "tags": []
   },
   "outputs": [],
   "source": [
    "import fractalnetworks\n",
    "\n",
    "# Network analysis modules\n",
    "import networkx as nx\n",
    "from igraph import Graph\n",
    "import igraph\n",
    "\n",
    "# Mathematics modules\n",
    "import math\n",
    "import matplotlib.pyplot as plt\n",
    "import matplotlib.patches as mpatches\n",
    "import matplotlib.lines as mlines\n",
    "import numpy as np\n",
    "import random"
   ]
  },
  {
   "cell_type": "markdown",
   "id": "ccb54e4b-3fad-43f5-bc39-bfb5ca59e4c1",
   "metadata": {},
   "source": [
    "<h1> Preliminaries"
   ]
  },
  {
   "cell_type": "markdown",
   "id": "31c3d914-a813-400c-b142-6f42388eebde",
   "metadata": {},
   "source": [
    "<h2> Graph Theory\n"
   ]
  },
  {
   "cell_type": "markdown",
   "id": "89d49ecc-3df6-43ed-aec7-0e9b7b8ef3ea",
   "metadata": {},
   "source": [
    "<h2> Network Science"
   ]
  },
  {
   "cell_type": "markdown",
   "id": "279d6254-c17b-4956-b8d7-60df89f34cd1",
   "metadata": {},
   "source": [
    "<h1>1 Classical Fractal Geometry"
   ]
  },
  {
   "cell_type": "markdown",
   "id": "53021def-d3cd-478b-b838-2a2203812ca7",
   "metadata": {},
   "source": [
    "<h2>1.1 Fractal Dimension"
   ]
  },
  {
   "cell_type": "markdown",
   "id": "b04f3361-4d9f-4e77-99c7-59b5858fc954",
   "metadata": {},
   "source": [
    "<h1>2 Fractal Networks"
   ]
  },
  {
   "cell_type": "markdown",
   "id": "c15afa7d-f030-4303-a60c-a094d63df583",
   "metadata": {},
   "source": [
    "<h2>2.1 Fractal Dimensions of Networks"
   ]
  },
  {
   "cell_type": "markdown",
   "id": "9a1a16bd-e9a3-4277-ac3c-99b0eca0e4a3",
   "metadata": {},
   "source": [
    "<h2>2.2 Importance of Fractal Networks"
   ]
  },
  {
   "cell_type": "code",
   "execution_count": null,
   "id": "23cb4b3c-d33e-4e5f-9ab2-45cb7f595b87",
   "metadata": {
    "tags": []
   },
   "outputs": [],
   "source": [
    "\n",
    "plt.figure(figsize=(9,3))\n",
    "x = np.linspace(1,100,1001)\n",
    "y2 = [xi ** (-2) for xi in x]\n",
    "plt.plot(x, y2, color = \"navy\", label = \"$\\delta = 2$\")\n",
    "y1 = [xi ** (-1) for xi in x]\n",
    "plt.plot(x, y1, color = \"crimson\", label = \"$\\delta = 1$\")\n",
    "y05 = [xi ** (-0.5) for xi in x]\n",
    "plt.plot(x, y05, color = \"seagreen\", label = \"$\\delta = 0.5$\")\n",
    "y025 = [xi ** (-0.25) for xi in x]\n",
    "plt.plot(x, y025, color = \"goldenrod\", label = \"$\\delta = 0.25$\")\n",
    "y0125 = [xi ** (-0.125) for xi in x]\n",
    "plt.plot(x, y0125, color = \"skyblue\", label = \"$\\delta = 0.125$\")\n",
    "plt.legend()\n",
    "plt.ylabel(\"$P(C) = C^{-\\delta}$\")\n",
    "plt.xlabel(\"Betweenness Centrality $C$\")\n",
    "plt.show()\n"
   ]
  },
  {
   "cell_type": "code",
   "execution_count": null,
   "id": "eb01382b-8b0b-426e-a39c-94bfc64ba7c3",
   "metadata": {
    "tags": []
   },
   "outputs": [],
   "source": [
    "count = 0\n",
    "num = 10000\n",
    "for _ in range(num):\n",
    "    if random.random() <= 0.1:\n",
    "        count += 1\n",
    "        \n",
    "print(count, count/num)"
   ]
  },
  {
   "cell_type": "code",
   "execution_count": null,
   "id": "f6304c3a-d898-4b4b-b0e7-fc6a7a326ba6",
   "metadata": {
    "tags": []
   },
   "outputs": [],
   "source": [
    "G = nx.read_edgelist('network-files/real-world/fb-pages-tvshow.edges', delimiter=',', nodetype=str, encoding=\"utf-8\")"
   ]
  },
  {
   "cell_type": "code",
   "execution_count": null,
   "id": "592a1b50-e79c-4f6a-9ac1-f020bc9df42a",
   "metadata": {
    "tags": []
   },
   "outputs": [],
   "source": [
    "print(len(G.nodes()), len(G.edges()))"
   ]
  },
  {
   "cell_type": "code",
   "execution_count": null,
   "id": "7838233e-aec2-4a5e-8491-bb5b512c1266",
   "metadata": {
    "tags": []
   },
   "outputs": [],
   "source": [
    "nx.write_gml(G, 'network-files/real-world/fb-pages-tvshow.gml')"
   ]
  },
  {
   "cell_type": "code",
   "execution_count": null,
   "id": "f43199ee-fb28-4b5c-a7c3-4d50f95fa65b",
   "metadata": {
    "tags": []
   },
   "outputs": [],
   "source": [
    "math.sqrt(4)"
   ]
  },
  {
   "cell_type": "code",
   "execution_count": null,
   "id": "502308e5-9d17-4ff0-ba66-37b415eb2bc2",
   "metadata": {
    "tags": []
   },
   "outputs": [],
   "source": [
    "ls = ['a', 'b', 'c']\n",
    "for i, l in enumerate(ls):\n",
    "    print(i, l)"
   ]
  },
  {
   "cell_type": "markdown",
   "id": "ce9347b0-d3ed-45cd-bf92-c51ea71b625c",
   "metadata": {},
   "source": [
    "<h1>4 Origins of Fractality"
   ]
  },
  {
   "cell_type": "markdown",
   "id": "804893a7-5e41-4acb-917f-9604b2f0ff80",
   "metadata": {},
   "source": [
    "<h2> 4.2 Fractal Skeletons"
   ]
  },
  {
   "cell_type": "markdown",
   "id": "f11250f0-8cf4-49e0-9417-f89537813e2e",
   "metadata": {},
   "source": [
    "<h1> 5 Fractal Network Models"
   ]
  },
  {
   "cell_type": "markdown",
   "id": "485a0720-da6b-4616-bcce-9f2d2a7551c8",
   "metadata": {},
   "source": [
    "<h2> 5.1 Song-Havlin-Makse (SHM) Model"
   ]
  },
  {
   "cell_type": "markdown",
   "id": "cd27a4ba-f461-4213-bebf-173f1f4c70c0",
   "metadata": {},
   "source": [
    "The following code displays the first four generations of a SHM network with $p=0$, as seen in Figure 9(a) [1] "
   ]
  },
  {
   "cell_type": "code",
   "execution_count": null,
   "id": "f81403d3-a6c1-4aff-b93b-a533d58fd5de",
   "metadata": {},
   "outputs": [],
   "source": [
    "# Initialise parameters\n",
    "m = 3\n",
    "p = 0\n",
    "N = 4\n",
    "\n",
    "# In the first generation the network is a path of length 2. \n",
    "G = nx.path_graph(2)\n",
    "nx.draw_kamada_kawai(G, node_size=50, node_color = \"black\")\n",
    "plt.show()\n",
    "\n",
    "# Generate the next generation N-1 times. \n",
    "for i in range(N-1):\n",
    "    G = SHM_iteration(G, m, p)\n",
    "    # Draw the network\n",
    "    nx.draw_kamada_kawai(G, node_size=50, node_color = \"black\")\n",
    "    plt.show()"
   ]
  },
  {
   "cell_type": "markdown",
   "id": "72d2bca0-76db-4b3d-9ac4-54f445b85576",
   "metadata": {
    "tags": []
   },
   "source": [
    "The following code displays the first four generations of a SHM network with $p=0.5$, as seen in Figure 9(b) [1] "
   ]
  },
  {
   "cell_type": "code",
   "execution_count": null,
   "id": "2b1ad4b8-e1f4-48d5-8e01-8122d8f1c989",
   "metadata": {},
   "outputs": [],
   "source": [
    "# Initialise parameters\n",
    "m = 3\n",
    "p = 0.5\n",
    "N = 4\n",
    "\n",
    "# In the first generation the network is a path of length 2. \n",
    "G = nx.path_graph(2)\n",
    "nx.draw_kamada_kawai(G, node_size=50, node_color = \"black\")\n",
    "plt.show()\n",
    "\n",
    "# Generate the next generation N-1 times. \n",
    "for i in range(N-1):\n",
    "    G = SHM_iteration(G, m, p)\n",
    "    # Draw the network\n",
    "    nx.draw_kamada_kawai(G, node_size=50, node_color = \"black\")\n",
    "    plt.show()"
   ]
  },
  {
   "cell_type": "markdown",
   "id": "355bed34-a805-42ef-b61f-3de028cb9e82",
   "metadata": {
    "tags": []
   },
   "source": [
    "The following code displays the first four generations of a SHM network with $p=1$, as seen in Figure 9(c) [1] "
   ]
  },
  {
   "cell_type": "code",
   "execution_count": null,
   "id": "7f65a6e3-b982-4d53-b88b-4841e421bf6d",
   "metadata": {},
   "outputs": [],
   "source": [
    "# Initialise parameters\n",
    "m = 3\n",
    "p = 1\n",
    "N = 4\n",
    "\n",
    "# In the first generation the network is a path of length 2. \n",
    "G = nx.path_graph(2)\n",
    "nx.draw_kamada_kawai(G, node_size=50, node_color = \"black\")\n",
    "plt.show()\n",
    "\n",
    "# Generate the next generation N-1 times. \n",
    "for i in range(N-1):\n",
    "    G = SHM_iteration(G, m, p)\n",
    "    # Draw the network\n",
    "    nx.draw_kamada_kawai(G, node_size=50, node_color = \"black\")\n",
    "    plt.show()"
   ]
  },
  {
   "cell_type": "markdown",
   "id": "1656e61d-e85b-49b0-be22-666898388de7",
   "metadata": {},
   "source": [
    "To show the scale-free property of SHM networks we use `check_SHM_p0_lambda`. This function produces the graph in Figure 10 [1]."
   ]
  },
  {
   "cell_type": "code",
   "execution_count": null,
   "id": "9f4c52b8-c338-45ae-8c17-15de2fd81fa3",
   "metadata": {},
   "outputs": [],
   "source": [
    "check_SHM_p0_lambda(50, 25, plot=True)"
   ]
  },
  {
   "cell_type": "markdown",
   "id": "559e5fda-3984-430d-98c0-b389cb13e4ea",
   "metadata": {},
   "source": [
    "<h2> 5.2 Hub Attraction Dynamical Growth (HADG) Model"
   ]
  },
  {
   "cell_type": "markdown",
   "id": "e2fb58e4-d3f7-4c32-8c48-74f67451d439",
   "metadata": {},
   "source": [
    "The following code produces examples of HADG networks which nodes coloured and sized according to the generation in which they originated. Figure 11 [1] is generated with this code. "
   ]
  },
  {
   "cell_type": "code",
   "execution_count": null,
   "id": "78ad8e33-e718-4226-873f-42d14517398f",
   "metadata": {},
   "outputs": [],
   "source": [
    "# Initialise parameters\n",
    "N = 4\n",
    "m = 3\n",
    "a = 0.25\n",
    "b = 0.75\n",
    "T = 0.5\n",
    "\n",
    "# Initialise a path network\n",
    "G = nx.path_graph(2)\n",
    "gen1_nodes = list(G.nodes()) # At each stage save a list of nodes in the network.\n",
    "    \n",
    "# Apply the generative process N times. \n",
    "G = HADG_iteration(G, m, a, b, T)\n",
    "gen2_nodes = list(G.nodes())\n",
    "\n",
    "G = HADG_iteration(G, m, a, b, T)\n",
    "gen3_nodes = list(G.nodes())\n",
    "\n",
    "G = HADG_iteration(G, m, a, b, T)\n",
    "gen4_nodes = list(G.nodes())\n",
    "\n",
    "# Initialise empty dictionaries to store the colour and size of nodes. \n",
    "colourmap = {}\n",
    "sizemap = {}\n",
    "\n",
    "for node in G:\n",
    "    \n",
    "    # Nodes from the first generation are large and red.\n",
    "    if node in gen1_nodes:\n",
    "        colourmap[node] = \"crimson\"\n",
    "        sizemap[node] = 400\n",
    "    \n",
    "    # Nodes from the second generation are medium size and purple.\n",
    "    elif node in gen2_nodes:\n",
    "        colourmap[node] = \"mediumpurple\"\n",
    "        sizemap[node] = 200\n",
    "        \n",
    "    # Nodes from the third generation are small and blue.\n",
    "    elif node in gen3_nodes:\n",
    "        colourmap[node] = \"skyblue\"\n",
    "        sizemap[node] = 100\n",
    "        \n",
    "    # Nodes from the fourth generation are tiny and green.\n",
    "    elif node in gen4_nodes:\n",
    "        colourmap[node] = \"seagreen\"\n",
    "        sizemap[node] = 50\n",
    "        \n",
    "# Make lists of sizes and colours for nodes\n",
    "# This is the format networkx takes these arguments in.\n",
    "colourlist = [colourmap[i] for i in G.nodes()]\n",
    "sizelist = [sizemap[i] for i in G.nodes()]\n",
    "\n",
    "# Calculate the position of ndoes\n",
    "pos = nx.kamada_kawai_layout(G, scale=100)\n",
    "\n",
    "# Draw network\n",
    "plt.figure(figsize=(20,9))\n",
    "nx.draw(G, pos=pos, node_size=sizelist, node_color=colourlist)\n",
    "\n",
    "# Add legend\n",
    "crimson_patch = mlines.Line2D([], [], color='crimson', fillstyle='full', marker='o', linestyle='None',\n",
    "                          markersize=10, label=\"$1^{st}$ Generation\")\n",
    "purple_patch = mlines.Line2D([], [], color='mediumpurple', fillstyle='full', marker='o', linestyle='None',\n",
    "                          markersize=10, label=\"$2^{nd}$ Generation\")\n",
    "blue_patch = mlines.Line2D([], [], color='skyblue', fillstyle='full', marker='o', linestyle='None',\n",
    "                          markersize=10, label=\"$3^{rd}$ Generation\")\n",
    "green_patch = mlines.Line2D([], [], color='seagreen', fillstyle='full', marker='o', linestyle='None',\n",
    "                          markersize=10, label=\"$4^{th}$ Generation\")\n",
    "plt.legend(handles=[crimson_patch, purple_patch, blue_patch, green_patch], fontsize=20)\n",
    "\n",
    "# Show figure\n",
    "plt.show()"
   ]
  },
  {
   "cell_type": "markdown",
   "id": "083aabc8-35b6-4a39-aa44-2771ea63ac39",
   "metadata": {},
   "source": [
    "<h2> 5.3 $(u,v)$-Flower Model"
   ]
  },
  {
   "cell_type": "markdown",
   "id": "4b48964d-c863-49d3-b616-262e4848c57f",
   "metadata": {},
   "source": [
    "The following code draws the first 4 generations of a non-fractal $(1,4)$-flower, as seen in Figure 12(a) [1]."
   ]
  },
  {
   "cell_type": "code",
   "execution_count": null,
   "id": "42272f88-d1de-4101-bfca-75e55e47caf7",
   "metadata": {},
   "outputs": [],
   "source": [
    "# Initialise parameters\n",
    "u = 1\n",
    "v = 4\n",
    "N = 4\n",
    "\n",
    "# Generate a (u,v) flower of each generation and display it\n",
    "for n in range(1, N+1):\n",
    "    G = generate_uv_flower(u, v, n)\n",
    "    nx.draw_kamada_kawai(G, node_size=50, node_color = \"black\")\n",
    "    plt.show()"
   ]
  },
  {
   "cell_type": "markdown",
   "id": "5574cb4a-404d-464d-8663-1c186a39d943",
   "metadata": {},
   "source": [
    "The following code draws the first 4 generations of a fractal $(2,3)$-flower, as seen in Figure 12(b) [1]."
   ]
  },
  {
   "cell_type": "code",
   "execution_count": null,
   "id": "b0ce813d-d8eb-4a41-93cf-38db1224bcf0",
   "metadata": {},
   "outputs": [],
   "source": [
    "# Initialise parameters\n",
    "u = 2\n",
    "v = 3\n",
    "N = 4\n",
    "\n",
    "# Generate a (u,v) flower of each generation and display it\n",
    "for n in range(1, N+1):\n",
    "    G = generate_uv_flower(u, v, n)\n",
    "    nx.draw_kamada_kawai(G, node_size=50, node_color = \"black\")\n",
    "    plt.show()"
   ]
  },
  {
   "cell_type": "markdown",
   "id": "995972b3-ceb8-4e0d-a8b5-bf2e382e11f5",
   "metadata": {},
   "source": [
    "<h1> 6 Methods"
   ]
  },
  {
   "cell_type": "markdown",
   "id": "47ca537d-7e4f-4eae-ae35-8ad56cd7a125",
   "metadata": {},
   "source": [
    "<h2> 6.1 Box-Covering Algorithms"
   ]
  },
  {
   "cell_type": "markdown",
   "id": "c3b7d730-a463-481f-862f-857a810002a6",
   "metadata": {},
   "source": [
    "* Need to write up the code for generating this as a function"
   ]
  },
  {
   "cell_type": "markdown",
   "id": "6632c999-7778-4560-a352-8dce1af730ce",
   "metadata": {},
   "source": [
    "**Comparing the Random Sequen"
   ]
  },
  {
   "cell_type": "markdown",
   "id": "30d6aa91-35f5-48a3-82db-33667ce1b5a5",
   "metadata": {},
   "source": [
    "<h1>7 Data"
   ]
  },
  {
   "cell_type": "markdown",
   "id": "8c0ff438-d5f7-46fd-8398-2bdfb1fe22e4",
   "metadata": {},
   "source": [
    "<h2> 7.1 Mathematical Models"
   ]
  },
  {
   "cell_type": "markdown",
   "id": "f0ac804b-ded7-4947-983f-6653af197dcd",
   "metadata": {},
   "source": [
    "<h3> 7.1.1 Song-Havlin-Makse (SHM) Model"
   ]
  },
  {
   "cell_type": "code",
   "execution_count": null,
   "id": "96f01013-a6ba-4221-ab57-6b906e22d4d0",
   "metadata": {
    "tags": []
   },
   "outputs": [],
   "source": [
    "# Fractal SHM Networks with parameters m=1, N=8\n",
    "fractal_SHM_1_8_08_ex1 = Graph.Load(\"network-files/models/SHM-model/SHM-model-1-0.8-generation8-example1.gml\")\n",
    "fractal_SHM_1_8_08_ex2 = Graph.Load(\"network-files/models/SHM-model/SHM-model-1-0.8-generation8-example2.gml\")\n",
    "fractal_SHM_1_8_08_ex3 = Graph.Load(\"network-files/models/SHM-model/SHM-model-1-0.8-generation8-example3.gml\")\n",
    "fractal_SHM_1_8_08_ex4 = Graph.Load(\"network-files/models/SHM-model/SHM-model-1-0.8-generation8-example4.gml\")\n",
    "fractal_SHM_1_8_08_ex5 = Graph.Load(\"network-files/models/SHM-model/SHM-model-1-0.8-generation8-example5.gml\")\n",
    "\n",
    "fractal_SHM_1_8_09_ex1 = Graph.Load(\"network-files/models/SHM-model/SHM-model-1-0.9-generation8-example1.gml\")\n",
    "fractal_SHM_1_8_09_ex2 = Graph.Load(\"network-files/models/SHM-model/SHM-model-1-0.9-generation8-example2.gml\")\n",
    "fractal_SHM_1_8_09_ex3 = Graph.Load(\"network-files/models/SHM-model/SHM-model-1-0.9-generation8-example3.gml\")\n",
    "fractal_SHM_1_8_09_ex4 = Graph.Load(\"network-files/models/SHM-model/SHM-model-1-0.9-generation8-example4.gml\")\n",
    "fractal_SHM_1_8_09_ex5 = Graph.Load(\"network-files/models/SHM-model/SHM-model-1-0.9-generation8-example5.gml\")\n",
    "\n",
    "fractal_SHM_1_8_10 = Graph.Load(\"network-files/models/SHM-model/SHM-model-1-1.0-generation8-example1.gml\")\n",
    "\n",
    "\n",
    "# Fractal SHM Networks with parameters m=2, N=6\n",
    "fractal_SHM_2_6_08_ex1 = Graph.Load(\"network-files/models/SHM-model/SHM-model-2-0.8-generation6-example1.gml\")\n",
    "fractal_SHM_2_6_08_ex2 = Graph.Load(\"network-files/models/SHM-model/SHM-model-2-0.8-generation6-example2.gml\")\n",
    "fractal_SHM_2_6_08_ex3 = Graph.Load(\"network-files/models/SHM-model/SHM-model-2-0.8-generation6-example3.gml\")\n",
    "fractal_SHM_2_6_08_ex4 = Graph.Load(\"network-files/models/SHM-model/SHM-model-2-0.8-generation6-example4.gml\")\n",
    "fractal_SHM_2_6_08_ex5 = Graph.Load(\"network-files/models/SHM-model/SHM-model-2-0.8-generation6-example5.gml\")\n",
    "\n",
    "fractal_SHM_2_6_09_ex1 = Graph.Load(\"network-files/models/SHM-model/SHM-model-2-0.9-generation6-example1.gml\")\n",
    "fractal_SHM_2_6_09_ex2 = Graph.Load(\"network-files/models/SHM-model/SHM-model-2-0.9-generation6-example2.gml\")\n",
    "fractal_SHM_2_6_09_ex3 = Graph.Load(\"network-files/models/SHM-model/SHM-model-2-0.9-generation6-example3.gml\")\n",
    "fractal_SHM_2_6_09_ex4 = Graph.Load(\"network-files/models/SHM-model/SHM-model-2-0.9-generation6-example4.gml\")\n",
    "fractal_SHM_2_6_09_ex5 = Graph.Load(\"network-files/models/SHM-model/SHM-model-2-0.9-generation6-example5.gml\")\n",
    "\n",
    "fractal_SHM_2_6_10 = Graph.Load(\"network-files/models/SHM-model/SHM-model-2-1.0-generation6-example1.gml\")\n",
    "\n",
    "\n",
    "\n",
    "# Fractal SHM Networks with parameters m=3, N=5\n",
    "fractal_SHM_3_5_08_ex1 = Graph.Load(\"network-files/models/SHM-model/SHM-model-3-0.8-generation5-example1.gml\")\n",
    "fractal_SHM_3_5_08_ex2 = Graph.Load(\"network-files/models/SHM-model/SHM-model-3-0.8-generation5-example2.gml\")\n",
    "fractal_SHM_3_5_08_ex3 = Graph.Load(\"network-files/models/SHM-model/SHM-model-3-0.8-generation5-example3.gml\")\n",
    "fractal_SHM_3_5_08_ex4 = Graph.Load(\"network-files/models/SHM-model/SHM-model-3-0.8-generation5-example4.gml\")\n",
    "fractal_SHM_3_5_08_ex5 = Graph.Load(\"network-files/models/SHM-model/SHM-model-3-0.8-generation5-example5.gml\")\n",
    "\n",
    "fractal_SHM_3_5_09_ex1 = Graph.Load(\"network-files/models/SHM-model/SHM-model-3-0.9-generation5-example1.gml\")\n",
    "fractal_SHM_3_5_09_ex2 = Graph.Load(\"network-files/models/SHM-model/SHM-model-3-0.9-generation5-example2.gml\")\n",
    "fractal_SHM_3_5_09_ex3 = Graph.Load(\"network-files/models/SHM-model/SHM-model-3-0.9-generation5-example3.gml\")\n",
    "fractal_SHM_3_5_09_ex4 = Graph.Load(\"network-files/models/SHM-model/SHM-model-3-0.9-generation5-example4.gml\")\n",
    "fractal_SHM_3_5_09_ex5 = Graph.Load(\"network-files/models/SHM-model/SHM-model-3-0.9-generation5-example5.gml\")\n",
    "\n",
    "fractal_SHM_3_5_10 = Graph.Load(\"network-files/models/SHM-model/SHM-model-3-1.0-generation5-example1.gml\")\n",
    "\n",
    "\n",
    "# Fractal SHM Networks with parameters m=6, N=4\n",
    "fractal_SHM_6_4_08_ex1 = Graph.Load(\"network-files/models/SHM-model/SHM-model-6-0.8-generation4-example1.gml\")\n",
    "fractal_SHM_6_4_08_ex2 = Graph.Load(\"network-files/models/SHM-model/SHM-model-6-0.8-generation4-example2.gml\")\n",
    "fractal_SHM_6_4_08_ex3 = Graph.Load(\"network-files/models/SHM-model/SHM-model-6-0.8-generation4-example3.gml\")\n",
    "fractal_SHM_6_4_08_ex4 = Graph.Load(\"network-files/models/SHM-model/SHM-model-6-0.8-generation4-example4.gml\")\n",
    "fractal_SHM_6_4_08_ex5 = Graph.Load(\"network-files/models/SHM-model/SHM-model-6-0.8-generation4-example5.gml\")\n",
    "\n",
    "fractal_SHM_6_4_09_ex1 = Graph.Load(\"network-files/models/SHM-model/SHM-model-6-0.9-generation4-example1.gml\")\n",
    "fractal_SHM_6_4_09_ex2 = Graph.Load(\"network-files/models/SHM-model/SHM-model-6-0.9-generation4-example2.gml\")\n",
    "fractal_SHM_6_4_09_ex3 = Graph.Load(\"network-files/models/SHM-model/SHM-model-6-0.9-generation4-example3.gml\")\n",
    "fractal_SHM_6_4_09_ex4 = Graph.Load(\"network-files/models/SHM-model/SHM-model-6-0.9-generation4-example4.gml\")\n",
    "fractal_SHM_6_4_09_ex5 = Graph.Load(\"network-files/models/SHM-model/SHM-model-6-0.9-generation4-example5.gml\")\n",
    "\n",
    "fractal_SHM_6_4_10 = Graph.Load(\"network-files/models/SHM-model/SHM-model-6-1.0-generation4-example1.gml\")\n",
    "\n",
    "\n",
    "# Fractal SHM Networks with parameters m=7, N=4\n",
    "fractal_SHM_7_4_08_ex1 = Graph.Load(\"network-files/models/SHM-model/SHM-model-7-0.8-generation4-example1.gml\")\n",
    "fractal_SHM_7_4_08_ex2 = Graph.Load(\"network-files/models/SHM-model/SHM-model-7-0.8-generation4-example2.gml\")\n",
    "fractal_SHM_7_4_08_ex3 = Graph.Load(\"network-files/models/SHM-model/SHM-model-7-0.8-generation4-example3.gml\")\n",
    "fractal_SHM_7_4_08_ex4 = Graph.Load(\"network-files/models/SHM-model/SHM-model-7-0.8-generation4-example4.gml\")\n",
    "fractal_SHM_7_4_08_ex5 = Graph.Load(\"network-files/models/SHM-model/SHM-model-7-0.8-generation4-example5.gml\")\n",
    "\n",
    "fractal_SHM_7_4_09_ex1 = Graph.Load(\"network-files/models/SHM-model/SHM-model-7-0.9-generation4-example1.gml\")\n",
    "fractal_SHM_7_4_09_ex2 = Graph.Load(\"network-files/models/SHM-model/SHM-model-7-0.9-generation4-example2.gml\")\n",
    "fractal_SHM_7_4_09_ex3 = Graph.Load(\"network-files/models/SHM-model/SHM-model-7-0.9-generation4-example3.gml\")\n",
    "fractal_SHM_7_4_09_ex4 = Graph.Load(\"network-files/models/SHM-model/SHM-model-7-0.9-generation4-example4.gml\")\n",
    "fractal_SHM_7_4_09_ex5 = Graph.Load(\"network-files/models/SHM-model/SHM-model-7-0.9-generation4-example5.gml\")\n",
    "\n",
    "fractal_SHM_7_4_10 = Graph.Load(\"network-files/models/SHM-model/SHM-model-7-1.0-generation4-example1.gml\")\n",
    "\n",
    "                                \n",
    "# All graphs\n",
    "\n",
    "# Verified Fractal\n",
    "fractal_SHM_1_8_graphs = [fractal_SHM_1_8_08_ex1, \n",
    "                      fractal_SHM_1_8_08_ex2,\n",
    "                      fractal_SHM_1_8_08_ex3,\n",
    "                      fractal_SHM_1_8_08_ex4,\n",
    "                      fractal_SHM_1_8_08_ex5,\n",
    "                      fractal_SHM_1_8_09_ex1,\n",
    "                      fractal_SHM_1_8_09_ex2,\n",
    "                      fractal_SHM_1_8_09_ex3,\n",
    "                      fractal_SHM_1_8_09_ex4,\n",
    "                      fractal_SHM_1_8_09_ex5,\n",
    "                      fractal_SHM_1_8_10]\n",
    "                                \n",
    "fractal_SHM_2_6_graphs = [fractal_SHM_2_6_08_ex1, \n",
    "                      fractal_SHM_2_6_08_ex2, \n",
    "                      fractal_SHM_2_6_08_ex3, \n",
    "                      fractal_SHM_2_6_08_ex4,\n",
    "                      fractal_SHM_2_6_08_ex5,\n",
    "                      fractal_SHM_2_6_09_ex1,\n",
    "                      fractal_SHM_2_6_09_ex2,\n",
    "                      fractal_SHM_2_6_09_ex3,\n",
    "                      fractal_SHM_2_6_09_ex4,\n",
    "                      fractal_SHM_2_6_09_ex5,\n",
    "                      fractal_SHM_2_6_10]\n",
    "\n",
    "\n",
    "fractal_SHM_3_5_graphs = [fractal_SHM_3_5_08_ex1, \n",
    "                      fractal_SHM_3_5_08_ex2, \n",
    "                      fractal_SHM_3_5_08_ex3, \n",
    "                      fractal_SHM_3_5_08_ex4,\n",
    "                      fractal_SHM_3_5_08_ex5,\n",
    "                      fractal_SHM_3_5_09_ex1,\n",
    "                      fractal_SHM_3_5_09_ex2,\n",
    "                      fractal_SHM_3_5_09_ex3,\n",
    "                      fractal_SHM_3_5_09_ex4,\n",
    "                      fractal_SHM_3_5_09_ex5,\n",
    "                      fractal_SHM_3_5_10]\n",
    "\n",
    "fractal_SHM_6_4_graphs = [fractal_SHM_6_4_08_ex1, \n",
    "                      fractal_SHM_6_4_08_ex2,\n",
    "                      fractal_SHM_6_4_08_ex3,\n",
    "                      fractal_SHM_6_4_08_ex4,\n",
    "                      fractal_SHM_6_4_08_ex5,\n",
    "                      fractal_SHM_6_4_09_ex1,\n",
    "                      fractal_SHM_6_4_09_ex2,\n",
    "                      fractal_SHM_6_4_09_ex3,\n",
    "                      fractal_SHM_6_4_09_ex4,\n",
    "                      fractal_SHM_6_4_09_ex5,\n",
    "                      fractal_SHM_6_4_10]\n",
    "\n",
    "fractal_SHM_7_4_graphs = [fractal_SHM_7_4_08_ex1, \n",
    "                      fractal_SHM_7_4_08_ex2, \n",
    "                      fractal_SHM_7_4_08_ex3, \n",
    "                      fractal_SHM_7_4_08_ex4,\n",
    "                      fractal_SHM_7_4_08_ex5,\n",
    "                      fractal_SHM_7_4_09_ex1,\n",
    "                      fractal_SHM_7_4_09_ex2,\n",
    "                      fractal_SHM_7_4_09_ex3,\n",
    "                      fractal_SHM_7_4_09_ex4,\n",
    "                      fractal_SHM_7_4_09_ex5,\n",
    "                      fractal_SHM_7_4_10]\n",
    "\n",
    "\n",
    "fractal_SHM_graphs = []\n",
    "fractal_SHM_graphs.extend(fractal_SHM_1_8_graphs)\n",
    "fractal_SHM_graphs.extend(fractal_SHM_2_6_graphs)\n",
    "fractal_SHM_graphs.extend(fractal_SHM_3_5_graphs)\n",
    "fractal_SHM_graphs.extend(fractal_SHM_6_4_graphs)                                \n",
    "fractal_SHM_graphs.extend(fractal_SHM_7_4_graphs)"
   ]
  },
  {
   "cell_type": "code",
   "execution_count": null,
   "id": "f8d1c2a6-4906-4f14-825c-1f94d07d5c97",
   "metadata": {},
   "outputs": [],
   "source": [
    "# Non-Fractal SHM Networks with parameters m=1, N=8\n",
    "non_fractal_SHM_1_8_02_ex1 = Graph.Load(\"network-files/models/SHM-model/SHM-model-1-0.2-generation8-example1.gml\")\n",
    "non_fractal_SHM_1_8_02_ex2 = Graph.Load(\"network-files/models/SHM-model/SHM-model-1-0.2-generation8-example2.gml\")\n",
    "non_fractal_SHM_1_8_02_ex3 = Graph.Load(\"network-files/models/SHM-model/SHM-model-1-0.2-generation8-example3.gml\")\n",
    "non_fractal_SHM_1_8_02_ex4 = Graph.Load(\"network-files/models/SHM-model/SHM-model-1-0.2-generation8-example4.gml\")\n",
    "non_fractal_SHM_1_8_02_ex5 = Graph.Load(\"network-files/models/SHM-model/SHM-model-1-0.2-generation8-example5.gml\")\n",
    "\n",
    "non_fractal_SHM_1_8_01_ex1 = Graph.Load(\"network-files/models/SHM-model/SHM-model-1-0.1-generation8-example1.gml\")\n",
    "non_fractal_SHM_1_8_01_ex2 = Graph.Load(\"network-files/models/SHM-model/SHM-model-1-0.1-generation8-example2.gml\")\n",
    "non_fractal_SHM_1_8_01_ex3 = Graph.Load(\"network-files/models/SHM-model/SHM-model-1-0.1-generation8-example3.gml\")\n",
    "non_fractal_SHM_1_8_01_ex4 = Graph.Load(\"network-files/models/SHM-model/SHM-model-1-0.1-generation8-example4.gml\")\n",
    "non_fractal_SHM_1_8_01_ex5 = Graph.Load(\"network-files/models/SHM-model/SHM-model-1-0.1-generation8-example5.gml\")\n",
    "\n",
    "non_fractal_SHM_1_8_00 = Graph.Load(\"network-files/models/SHM-model/SHM-model-1-0.0-generation8-example1.gml\")\n",
    "\n",
    "\n",
    "# Non fractal SHM Networks with parameters m=2, N=6\n",
    "non_fractal_SHM_2_6_02_ex1 = Graph.Load(\"network-files/models/SHM-model/SHM-model-2-0.2-generation6-example1.gml\")\n",
    "non_fractal_SHM_2_6_02_ex2 = Graph.Load(\"network-files/models/SHM-model/SHM-model-2-0.2-generation6-example2.gml\")\n",
    "non_fractal_SHM_2_6_02_ex3 = Graph.Load(\"network-files/models/SHM-model/SHM-model-2-0.2-generation6-example3.gml\")\n",
    "non_fractal_SHM_2_6_02_ex4 = Graph.Load(\"network-files/models/SHM-model/SHM-model-2-0.2-generation6-example4.gml\")\n",
    "non_fractal_SHM_2_6_02_ex5 = Graph.Load(\"network-files/models/SHM-model/SHM-model-2-0.2-generation6-example5.gml\")\n",
    "\n",
    "non_fractal_SHM_2_6_01_ex1 = Graph.Load(\"network-files/models/SHM-model/SHM-model-2-0.1-generation6-example1.gml\")\n",
    "non_fractal_SHM_2_6_01_ex2 = Graph.Load(\"network-files/models/SHM-model/SHM-model-2-0.1-generation6-example2.gml\")\n",
    "non_fractal_SHM_2_6_01_ex3 = Graph.Load(\"network-files/models/SHM-model/SHM-model-2-0.1-generation6-example3.gml\")\n",
    "non_fractal_SHM_2_6_01_ex4 = Graph.Load(\"network-files/models/SHM-model/SHM-model-2-0.1-generation6-example4.gml\")\n",
    "non_fractal_SHM_2_6_01_ex5 = Graph.Load(\"network-files/models/SHM-model/SHM-model-2-0.1-generation6-example5.gml\")\n",
    "\n",
    "non_fractal_SHM_2_6_00 = Graph.Load(\"network-files/models/SHM-model/SHM-model-2-0.0-generation6-example1.gml\")\n",
    "\n",
    "\n",
    "\n",
    "# Fractal SHM Networks with parameters m=3, N=5\n",
    "non_fractal_SHM_3_5_02_ex1 = Graph.Load(\"network-files/models/SHM-model/SHM-model-3-0.2-generation5-example1.gml\")\n",
    "non_fractal_SHM_3_5_02_ex2 = Graph.Load(\"network-files/models/SHM-model/SHM-model-3-0.2-generation5-example2.gml\")\n",
    "non_fractal_SHM_3_5_02_ex3 = Graph.Load(\"network-files/models/SHM-model/SHM-model-3-0.2-generation5-example3.gml\")\n",
    "non_fractal_SHM_3_5_02_ex4 = Graph.Load(\"network-files/models/SHM-model/SHM-model-3-0.2-generation5-example4.gml\")\n",
    "non_fractal_SHM_3_5_02_ex5 = Graph.Load(\"network-files/models/SHM-model/SHM-model-3-0.2-generation5-example5.gml\")\n",
    "\n",
    "non_fractal_SHM_3_5_01_ex1 = Graph.Load(\"network-files/models/SHM-model/SHM-model-3-0.1-generation5-example1.gml\")\n",
    "non_fractal_SHM_3_5_01_ex2 = Graph.Load(\"network-files/models/SHM-model/SHM-model-3-0.1-generation5-example2.gml\")\n",
    "non_fractal_SHM_3_5_01_ex3 = Graph.Load(\"network-files/models/SHM-model/SHM-model-3-0.1-generation5-example3.gml\")\n",
    "non_fractal_SHM_3_5_01_ex4 = Graph.Load(\"network-files/models/SHM-model/SHM-model-3-0.1-generation5-example4.gml\")\n",
    "non_fractal_SHM_3_5_01_ex5 = Graph.Load(\"network-files/models/SHM-model/SHM-model-3-0.1-generation5-example5.gml\")\n",
    "\n",
    "non_fractal_SHM_3_5_00 = Graph.Load(\"network-files/models/SHM-model/SHM-model-3-0.0-generation5-example1.gml\")\n",
    "\n",
    "\n",
    "# Non-Fractal SHM Networks with parameters m=6, N=4\n",
    "non_fractal_SHM_6_4_02_ex1 = Graph.Load(\"network-files/models/SHM-model/SHM-model-6-0.2-generation4-example1.gml\")\n",
    "non_fractal_SHM_6_4_02_ex2 = Graph.Load(\"network-files/models/SHM-model/SHM-model-6-0.2-generation4-example2.gml\")\n",
    "non_fractal_SHM_6_4_02_ex3 = Graph.Load(\"network-files/models/SHM-model/SHM-model-6-0.2-generation4-example3.gml\")\n",
    "non_fractal_SHM_6_4_02_ex4 = Graph.Load(\"network-files/models/SHM-model/SHM-model-6-0.2-generation4-example4.gml\")\n",
    "non_fractal_SHM_6_4_02_ex5 = Graph.Load(\"network-files/models/SHM-model/SHM-model-6-0.2-generation4-example5.gml\")\n",
    "\n",
    "non_fractal_SHM_6_4_01_ex1 = Graph.Load(\"network-files/models/SHM-model/SHM-model-6-0.1-generation4-example1.gml\")\n",
    "non_fractal_SHM_6_4_01_ex2 = Graph.Load(\"network-files/models/SHM-model/SHM-model-6-0.1-generation4-example2.gml\")\n",
    "non_fractal_SHM_6_4_01_ex3 = Graph.Load(\"network-files/models/SHM-model/SHM-model-6-0.1-generation4-example3.gml\")\n",
    "non_fractal_SHM_6_4_01_ex4 = Graph.Load(\"network-files/models/SHM-model/SHM-model-6-0.1-generation4-example4.gml\")\n",
    "non_fractal_SHM_6_4_01_ex5 = Graph.Load(\"network-files/models/SHM-model/SHM-model-6-0.1-generation4-example5.gml\")\n",
    "\n",
    "non_fractal_SHM_6_4_00 = Graph.Load(\"network-files/models/SHM-model/SHM-model-6-0.0-generation4-example1.gml\")\n",
    "\n",
    "\n",
    "# Fractal SHM Networks with parameters m=7, N=4\n",
    "non_fractal_SHM_7_4_02_ex1 = Graph.Load(\"network-files/models/SHM-model/SHM-model-7-0.2-generation4-example1.gml\")\n",
    "non_fractal_SHM_7_4_02_ex2 = Graph.Load(\"network-files/models/SHM-model/SHM-model-7-0.2-generation4-example2.gml\")\n",
    "non_fractal_SHM_7_4_02_ex3 = Graph.Load(\"network-files/models/SHM-model/SHM-model-7-0.2-generation4-example3.gml\")\n",
    "non_fractal_SHM_7_4_02_ex4 = Graph.Load(\"network-files/models/SHM-model/SHM-model-7-0.2-generation4-example4.gml\")\n",
    "non_fractal_SHM_7_4_02_ex5 = Graph.Load(\"network-files/models/SHM-model/SHM-model-7-0.2-generation4-example5.gml\")\n",
    "\n",
    "non_fractal_SHM_7_4_01_ex1 = Graph.Load(\"network-files/models/SHM-model/SHM-model-7-0.1-generation4-example1.gml\")\n",
    "non_fractal_SHM_7_4_01_ex2 = Graph.Load(\"network-files/models/SHM-model/SHM-model-7-0.1-generation4-example2.gml\")\n",
    "non_fractal_SHM_7_4_01_ex3 = Graph.Load(\"network-files/models/SHM-model/SHM-model-7-0.1-generation4-example3.gml\")\n",
    "non_fractal_SHM_7_4_01_ex4 = Graph.Load(\"network-files/models/SHM-model/SHM-model-7-0.1-generation4-example4.gml\")\n",
    "non_fractal_SHM_7_4_01_ex5 = Graph.Load(\"network-files/models/SHM-model/SHM-model-7-0.1-generation4-example5.gml\")\n",
    "\n",
    "non_fractal_SHM_7_4_00 = Graph.Load(\"network-files/models/SHM-model/SHM-model-7-0.0-generation4-example1.gml\")\n",
    "\n",
    "\n",
    "\n",
    "# All graphs\n",
    "non_fractal_SHM_1_8_graphs = [non_fractal_SHM_1_8_02_ex1, \n",
    "                      non_fractal_SHM_1_8_02_ex2,\n",
    "                      non_fractal_SHM_1_8_02_ex3,\n",
    "                      non_fractal_SHM_1_8_02_ex4,\n",
    "                      non_fractal_SHM_1_8_02_ex5,\n",
    "                      non_fractal_SHM_1_8_01_ex1,\n",
    "                      non_fractal_SHM_1_8_01_ex2,\n",
    "                      non_fractal_SHM_1_8_01_ex3,\n",
    "                      non_fractal_SHM_1_8_01_ex4,\n",
    "                      non_fractal_SHM_1_8_01_ex5,\n",
    "                      non_fractal_SHM_1_8_00]\n",
    "\n",
    "non_fractal_SHM_2_6_graphs = [non_fractal_SHM_2_6_02_ex1, \n",
    "                      non_fractal_SHM_2_6_02_ex2, \n",
    "                      non_fractal_SHM_2_6_02_ex3, \n",
    "                      non_fractal_SHM_2_6_02_ex4,\n",
    "                      non_fractal_SHM_2_6_02_ex5,\n",
    "                      non_fractal_SHM_2_6_01_ex1,\n",
    "                      non_fractal_SHM_2_6_01_ex2,\n",
    "                      non_fractal_SHM_2_6_01_ex3,\n",
    "                      non_fractal_SHM_2_6_01_ex4,\n",
    "                      non_fractal_SHM_2_6_01_ex5,\n",
    "                      non_fractal_SHM_2_6_00]\n",
    "\n",
    "non_fractal_SHM_3_5_graphs = [non_fractal_SHM_3_5_02_ex1, \n",
    "                      non_fractal_SHM_3_5_02_ex2, \n",
    "                      non_fractal_SHM_3_5_02_ex3, \n",
    "                      non_fractal_SHM_3_5_02_ex4,\n",
    "                      non_fractal_SHM_3_5_02_ex5,\n",
    "                      non_fractal_SHM_3_5_01_ex1,\n",
    "                      non_fractal_SHM_3_5_01_ex2,\n",
    "                      non_fractal_SHM_3_5_01_ex3,\n",
    "                      non_fractal_SHM_3_5_01_ex4,\n",
    "                      non_fractal_SHM_3_5_01_ex5,\n",
    "                      non_fractal_SHM_3_5_00]\n",
    "\n",
    "non_fractal_SHM_6_4_graphs = [non_fractal_SHM_6_4_02_ex1, \n",
    "                      non_fractal_SHM_6_4_02_ex2,\n",
    "                      non_fractal_SHM_6_4_02_ex3,\n",
    "                      non_fractal_SHM_6_4_02_ex4,\n",
    "                      non_fractal_SHM_6_4_02_ex5,\n",
    "                      non_fractal_SHM_6_4_01_ex1,\n",
    "                      non_fractal_SHM_6_4_01_ex2,\n",
    "                      non_fractal_SHM_6_4_01_ex3,\n",
    "                      non_fractal_SHM_6_4_01_ex4,\n",
    "                      non_fractal_SHM_6_4_01_ex5,\n",
    "                      non_fractal_SHM_6_4_00]\n",
    "\n",
    "non_fractal_SHM_7_4_graphs = [non_fractal_SHM_7_4_02_ex1, \n",
    "                      non_fractal_SHM_7_4_02_ex2, \n",
    "                      non_fractal_SHM_7_4_02_ex3, \n",
    "                      non_fractal_SHM_7_4_02_ex4,\n",
    "                      non_fractal_SHM_7_4_02_ex5,\n",
    "                      non_fractal_SHM_7_4_01_ex1,\n",
    "                      non_fractal_SHM_7_4_01_ex2,\n",
    "                      non_fractal_SHM_7_4_01_ex3,\n",
    "                      non_fractal_SHM_7_4_01_ex4,\n",
    "                      non_fractal_SHM_7_4_01_ex5,\n",
    "                      non_fractal_SHM_7_4_00]\n",
    "\n",
    "\n",
    "non_fractal_SHM_graphs = []\n",
    "non_fractal_SHM_graphs.extend(non_fractal_SHM_1_8_graphs)\n",
    "non_fractal_SHM_graphs.extend(non_fractal_SHM_2_6_graphs)\n",
    "non_fractal_SHM_graphs.extend(non_fractal_SHM_3_5_graphs)\n",
    "non_fractal_SHM_graphs.extend(non_fractal_SHM_6_4_graphs)\n",
    "non_fractal_SHM_graphs.extend(non_fractal_SHM_7_4_graphs)"
   ]
  },
  {
   "cell_type": "markdown",
   "id": "b24ea8bf-b813-4b27-a161-4f05d410408b",
   "metadata": {},
   "source": [
    "<h3> 7.1.2 Hub Attraction Dynamical Growth (HADG) Model"
   ]
  },
  {
   "cell_type": "code",
   "execution_count": null,
   "id": "5f26a8ae-777f-4ba7-b3b6-cbbd925506e2",
   "metadata": {},
   "outputs": [],
   "source": [
    "# Non-fractal\n",
    "non_fractal_HADG_1_7_00_01_ex1 = Graph.Load(\"network-files/models/HADG-model/HADG-model-1-0.0-0.1-0.5-generation7-example1.gml\")\n",
    "non_fractal_HADG_1_7_00_01_ex2 = Graph.Load(\"network-files/models/HADG-model/HADG-model-1-0.0-0.1-0.5-generation7-example2.gml\")\n",
    "non_fractal_HADG_1_7_00_01_ex3 = Graph.Load(\"network-files/models/HADG-model/HADG-model-1-0.0-0.1-0.5-generation7-example3.gml\")\n",
    "non_fractal_HADG_1_7_00_01_ex4 = Graph.Load(\"network-files/models/HADG-model/HADG-model-1-0.0-0.1-0.5-generation7-example4.gml\")\n",
    "non_fractal_HADG_1_7_00_01_ex5 = Graph.Load(\"network-files/models/HADG-model/HADG-model-1-0.0-0.1-0.5-generation7-example5.gml\")\n",
    "\n",
    "non_fractal_HADG_1_7_00_02_ex1 = Graph.Load(\"network-files/models/HADG-model/HADG-model-1-0.0-0.2-0.5-generation7-example1.gml\")\n",
    "non_fractal_HADG_1_7_00_02_ex2 = Graph.Load(\"network-files/models/HADG-model/HADG-model-1-0.0-0.2-0.5-generation7-example2.gml\")\n",
    "non_fractal_HADG_1_7_00_02_ex3 = Graph.Load(\"network-files/models/HADG-model/HADG-model-1-0.0-0.2-0.5-generation7-example3.gml\")\n",
    "non_fractal_HADG_1_7_00_02_ex4 = Graph.Load(\"network-files/models/HADG-model/HADG-model-1-0.0-0.2-0.5-generation7-example4.gml\")\n",
    "non_fractal_HADG_1_7_00_02_ex5 = Graph.Load(\"network-files/models/HADG-model/HADG-model-1-0.0-0.2-0.5-generation7-example5.gml\")\n",
    "\n",
    "non_fractal_HADG_1_7_01_02_ex1 = Graph.Load(\"network-files/models/HADG-model/HADG-model-1-0.1-0.2-0.5-generation7-example1.gml\")\n",
    "non_fractal_HADG_1_7_01_02_ex2 = Graph.Load(\"network-files/models/HADG-model/HADG-model-1-0.1-0.2-0.5-generation7-example2.gml\")\n",
    "non_fractal_HADG_1_7_01_02_ex3 = Graph.Load(\"network-files/models/HADG-model/HADG-model-1-0.1-0.2-0.5-generation7-example3.gml\")\n",
    "non_fractal_HADG_1_7_01_02_ex4 = Graph.Load(\"network-files/models/HADG-model/HADG-model-1-0.1-0.2-0.5-generation7-example4.gml\")\n",
    "non_fractal_HADG_1_7_01_02_ex5 = Graph.Load(\"network-files/models/HADG-model/HADG-model-1-0.1-0.2-0.5-generation7-example5.gml\")\n",
    "\n",
    "non_fractal_HADG_1_7_graphs = [non_fractal_HADG_1_7_00_01_ex1,\n",
    "                               non_fractal_HADG_1_7_00_01_ex2,\n",
    "                               non_fractal_HADG_1_7_00_01_ex3,\n",
    "                               non_fractal_HADG_1_7_00_01_ex4,\n",
    "                               non_fractal_HADG_1_7_00_01_ex5,\n",
    "                               non_fractal_HADG_1_7_00_02_ex1,\n",
    "                               non_fractal_HADG_1_7_00_02_ex2,\n",
    "                               non_fractal_HADG_1_7_00_02_ex3,\n",
    "                               non_fractal_HADG_1_7_00_02_ex4,\n",
    "                               non_fractal_HADG_1_7_00_02_ex5,\n",
    "                               non_fractal_HADG_1_7_01_02_ex1,\n",
    "                               non_fractal_HADG_1_7_01_02_ex2,\n",
    "                               non_fractal_HADG_1_7_01_02_ex3,\n",
    "                               non_fractal_HADG_1_7_01_02_ex4,\n",
    "                               non_fractal_HADG_1_7_01_02_ex5]\n",
    "\n",
    "# Fractal\n",
    "fractal_HADG_1_7_09_10_ex1 = Graph.Load(\"network-files/models/HADG-model/HADG-model-1-0.9-1.0-0.5-generation7-example1.gml\")\n",
    "fractal_HADG_1_7_09_10_ex2 = Graph.Load(\"network-files/models/HADG-model/HADG-model-1-0.9-1.0-0.5-generation7-example2.gml\")\n",
    "fractal_HADG_1_7_09_10_ex3 = Graph.Load(\"network-files/models/HADG-model/HADG-model-1-0.9-1.0-0.5-generation7-example3.gml\")\n",
    "fractal_HADG_1_7_09_10_ex4 = Graph.Load(\"network-files/models/HADG-model/HADG-model-1-0.9-1.0-0.5-generation7-example4.gml\")\n",
    "fractal_HADG_1_7_09_10_ex5 = Graph.Load(\"network-files/models/HADG-model/HADG-model-1-0.9-1.0-0.5-generation7-example5.gml\")\n",
    "\n",
    "fractal_HADG_1_7_08_10_ex1 = Graph.Load(\"network-files/models/HADG-model/HADG-model-1-0.8-1.0-0.5-generation7-example1.gml\")\n",
    "fractal_HADG_1_7_08_10_ex2 = Graph.Load(\"network-files/models/HADG-model/HADG-model-1-0.8-1.0-0.5-generation7-example2.gml\")\n",
    "fractal_HADG_1_7_08_10_ex3 = Graph.Load(\"network-files/models/HADG-model/HADG-model-1-0.8-1.0-0.5-generation7-example3.gml\")\n",
    "fractal_HADG_1_7_08_10_ex4 = Graph.Load(\"network-files/models/HADG-model/HADG-model-1-0.8-1.0-0.5-generation7-example4.gml\")\n",
    "fractal_HADG_1_7_08_10_ex5 = Graph.Load(\"network-files/models/HADG-model/HADG-model-1-0.8-1.0-0.5-generation7-example5.gml\")\n",
    "\n",
    "fractal_HADG_1_7_08_09_ex1 = Graph.Load(\"network-files/models/HADG-model/HADG-model-1-0.8-0.9-0.5-generation7-example1.gml\")\n",
    "fractal_HADG_1_7_08_09_ex2 = Graph.Load(\"network-files/models/HADG-model/HADG-model-1-0.8-0.9-0.5-generation7-example2.gml\")\n",
    "fractal_HADG_1_7_08_09_ex3 = Graph.Load(\"network-files/models/HADG-model/HADG-model-1-0.8-0.9-0.5-generation7-example3.gml\")\n",
    "fractal_HADG_1_7_08_09_ex4 = Graph.Load(\"network-files/models/HADG-model/HADG-model-1-0.8-0.9-0.5-generation7-example4.gml\")\n",
    "fractal_HADG_1_7_08_09_ex5 = Graph.Load(\"network-files/models/HADG-model/HADG-model-1-0.8-0.9-0.5-generation7-example5.gml\")\n",
    "\n",
    "fractal_HADG_1_7_graphs = [fractal_HADG_1_7_09_10_ex1,\n",
    "                           fractal_HADG_1_7_09_10_ex2,\n",
    "                           fractal_HADG_1_7_09_10_ex3,\n",
    "                           fractal_HADG_1_7_09_10_ex4,\n",
    "                           fractal_HADG_1_7_09_10_ex5,\n",
    "                           fractal_HADG_1_7_08_10_ex1,\n",
    "                           fractal_HADG_1_7_08_10_ex2,\n",
    "                           fractal_HADG_1_7_08_10_ex3,\n",
    "                           fractal_HADG_1_7_08_10_ex4,\n",
    "                           fractal_HADG_1_7_08_10_ex5,\n",
    "                           fractal_HADG_1_7_08_09_ex1,\n",
    "                           fractal_HADG_1_7_08_09_ex2,\n",
    "                           fractal_HADG_1_7_08_09_ex3,\n",
    "                           fractal_HADG_1_7_08_09_ex4,\n",
    "                           fractal_HADG_1_7_08_09_ex5]\n"
   ]
  },
  {
   "cell_type": "code",
   "execution_count": null,
   "id": "0cb479a6-4178-4fa5-be46-163c12035673",
   "metadata": {},
   "outputs": [],
   "source": [
    "# Non-fractal\n",
    "non_fractal_HADG_6_4_00_01_ex1 = Graph.Load(\"network-files/models/HADG-model/HADG-model-6-0.0-0.1-0.5-generation4-example1.gml\")\n",
    "non_fractal_HADG_6_4_00_01_ex2 = Graph.Load(\"network-files/models/HADG-model/HADG-model-6-0.0-0.1-0.5-generation4-example2.gml\")\n",
    "non_fractal_HADG_6_4_00_01_ex3 = Graph.Load(\"network-files/models/HADG-model/HADG-model-6-0.0-0.1-0.5-generation4-example3.gml\")\n",
    "non_fractal_HADG_6_4_00_01_ex4 = Graph.Load(\"network-files/models/HADG-model/HADG-model-6-0.0-0.1-0.5-generation4-example4.gml\")\n",
    "non_fractal_HADG_6_4_00_01_ex5 = Graph.Load(\"network-files/models/HADG-model/HADG-model-6-0.0-0.1-0.5-generation4-example5.gml\")\n",
    "\n",
    "non_fractal_HADG_6_4_00_02_ex1 = Graph.Load(\"network-files/models/HADG-model/HADG-model-6-0.0-0.2-0.5-generation4-example1.gml\")\n",
    "non_fractal_HADG_6_4_00_02_ex2 = Graph.Load(\"network-files/models/HADG-model/HADG-model-6-0.0-0.2-0.5-generation4-example2.gml\")\n",
    "non_fractal_HADG_6_4_00_02_ex3 = Graph.Load(\"network-files/models/HADG-model/HADG-model-6-0.0-0.2-0.5-generation4-example3.gml\")\n",
    "non_fractal_HADG_6_4_00_02_ex4 = Graph.Load(\"network-files/models/HADG-model/HADG-model-6-0.0-0.2-0.5-generation4-example4.gml\")\n",
    "non_fractal_HADG_6_4_00_02_ex5 = Graph.Load(\"network-files/models/HADG-model/HADG-model-6-0.0-0.2-0.5-generation4-example5.gml\")\n",
    "\n",
    "non_fractal_HADG_6_4_01_02_ex1 = Graph.Load(\"network-files/models/HADG-model/HADG-model-6-0.1-0.2-0.5-generation4-example1.gml\")\n",
    "non_fractal_HADG_6_4_01_02_ex2 = Graph.Load(\"network-files/models/HADG-model/HADG-model-6-0.1-0.2-0.5-generation4-example2.gml\")\n",
    "non_fractal_HADG_6_4_01_02_ex3 = Graph.Load(\"network-files/models/HADG-model/HADG-model-6-0.1-0.2-0.5-generation4-example3.gml\")\n",
    "non_fractal_HADG_6_4_01_02_ex4 = Graph.Load(\"network-files/models/HADG-model/HADG-model-6-0.1-0.2-0.5-generation4-example4.gml\")\n",
    "non_fractal_HADG_6_4_01_02_ex5 = Graph.Load(\"network-files/models/HADG-model/HADG-model-6-0.1-0.2-0.5-generation4-example5.gml\")\n",
    "\n",
    "non_fractal_HADG_6_4_graphs = [non_fractal_HADG_6_4_00_01_ex1,\n",
    "                               non_fractal_HADG_6_4_00_01_ex2,\n",
    "                               non_fractal_HADG_6_4_00_01_ex3,\n",
    "                               non_fractal_HADG_6_4_00_01_ex4,\n",
    "                               non_fractal_HADG_6_4_00_01_ex5,\n",
    "                               non_fractal_HADG_6_4_00_02_ex1,\n",
    "                               non_fractal_HADG_6_4_00_02_ex2,\n",
    "                               non_fractal_HADG_6_4_00_02_ex3,\n",
    "                               non_fractal_HADG_6_4_00_02_ex4,\n",
    "                               non_fractal_HADG_6_4_00_02_ex5,\n",
    "                               non_fractal_HADG_6_4_01_02_ex1,\n",
    "                               non_fractal_HADG_6_4_01_02_ex2,\n",
    "                               non_fractal_HADG_6_4_01_02_ex3,\n",
    "                               non_fractal_HADG_6_4_01_02_ex4,\n",
    "                               non_fractal_HADG_6_4_01_02_ex5]\n",
    "\n",
    "# Fractal\n",
    "fractal_HADG_6_4_09_10_ex1 = Graph.Load(\"network-files/models/HADG-model/HADG-model-6-0.9-1.0-0.5-generation4-example1.gml\")\n",
    "fractal_HADG_6_4_09_10_ex2 = Graph.Load(\"network-files/models/HADG-model/HADG-model-6-0.9-1.0-0.5-generation4-example2.gml\")\n",
    "fractal_HADG_6_4_09_10_ex3 = Graph.Load(\"network-files/models/HADG-model/HADG-model-6-0.9-1.0-0.5-generation4-example3.gml\")\n",
    "fractal_HADG_6_4_09_10_ex4 = Graph.Load(\"network-files/models/HADG-model/HADG-model-6-0.9-1.0-0.5-generation4-example4.gml\")\n",
    "fractal_HADG_6_4_09_10_ex5 = Graph.Load(\"network-files/models/HADG-model/HADG-model-6-0.9-1.0-0.5-generation4-example5.gml\")\n",
    "\n",
    "fractal_HADG_6_4_08_10_ex1 = Graph.Load(\"network-files/models/HADG-model/HADG-model-6-0.8-1.0-0.5-generation4-example1.gml\")\n",
    "fractal_HADG_6_4_08_10_ex2 = Graph.Load(\"network-files/models/HADG-model/HADG-model-6-0.8-1.0-0.5-generation4-example2.gml\")\n",
    "fractal_HADG_6_4_08_10_ex3 = Graph.Load(\"network-files/models/HADG-model/HADG-model-6-0.8-1.0-0.5-generation4-example3.gml\")\n",
    "fractal_HADG_6_4_08_10_ex4 = Graph.Load(\"network-files/models/HADG-model/HADG-model-6-0.8-1.0-0.5-generation4-example4.gml\")\n",
    "fractal_HADG_6_4_08_10_ex5 = Graph.Load(\"network-files/models/HADG-model/HADG-model-6-0.8-1.0-0.5-generation4-example5.gml\")\n",
    "\n",
    "fractal_HADG_6_4_08_09_ex1 = Graph.Load(\"network-files/models/HADG-model/HADG-model-6-0.8-0.9-0.5-generation4-example1.gml\")\n",
    "fractal_HADG_6_4_08_09_ex2 = Graph.Load(\"network-files/models/HADG-model/HADG-model-6-0.8-0.9-0.5-generation4-example2.gml\")\n",
    "fractal_HADG_6_4_08_09_ex3 = Graph.Load(\"network-files/models/HADG-model/HADG-model-6-0.8-0.9-0.5-generation4-example3.gml\")\n",
    "fractal_HADG_6_4_08_09_ex4 = Graph.Load(\"network-files/models/HADG-model/HADG-model-6-0.8-0.9-0.5-generation4-example4.gml\")\n",
    "fractal_HADG_6_4_08_09_ex5 = Graph.Load(\"network-files/models/HADG-model/HADG-model-6-0.8-0.9-0.5-generation4-example5.gml\")\n",
    "\n",
    "fractal_HADG_6_4_graphs = [fractal_HADG_6_4_09_10_ex1,\n",
    "                           fractal_HADG_6_4_09_10_ex2,\n",
    "                           fractal_HADG_6_4_09_10_ex3,\n",
    "                           fractal_HADG_6_4_09_10_ex4,\n",
    "                           fractal_HADG_6_4_09_10_ex5,\n",
    "                           fractal_HADG_6_4_08_10_ex1,\n",
    "                           fractal_HADG_6_4_08_10_ex2,\n",
    "                           fractal_HADG_6_4_08_10_ex3,\n",
    "                           fractal_HADG_6_4_08_10_ex4,\n",
    "                           fractal_HADG_6_4_08_10_ex5,\n",
    "                           fractal_HADG_6_4_08_09_ex1,\n",
    "                           fractal_HADG_6_4_08_09_ex2,\n",
    "                           fractal_HADG_6_4_08_09_ex3,\n",
    "                           fractal_HADG_6_4_08_09_ex4,\n",
    "                           fractal_HADG_6_4_08_09_ex5]\n"
   ]
  },
  {
   "cell_type": "markdown",
   "id": "35beff88-8959-4488-940d-743f440ab957",
   "metadata": {},
   "source": [
    "<h3> 7.1.3 $(u,v)$-Flowers"
   ]
  },
  {
   "cell_type": "code",
   "execution_count": null,
   "id": "666b69d2-0ad8-40cf-8dc8-64cea9f9f540",
   "metadata": {
    "tags": []
   },
   "outputs": [],
   "source": [
    "# Fractal (u, v) flowers\n",
    "fractal_7_8_flower = Graph.Load(\"network-files/models/uv-flowers/7_8_flower-generation3.gml\")\n",
    "fractal_3_5_flower = Graph.Load(\"network-files/models/uv-flowers/3_5_flower-generation4.gml\")\n",
    "fractal_4_10_flower = Graph.Load(\"network-files/models/uv-flowers/4_10_flower-generation3.gml\")\n",
    "fractal_6_9_flower = Graph.Load(\"network-files/models/uv-flowers/6_9_flower-generation3.gml\")\n",
    "fractal_5_9_flower = Graph.Load(\"network-files/models/uv-flowers/5_9_flower-generation3.gml\")\n",
    "\n",
    "fractal_flowers = [fractal_7_8_flower, fractal_5_9_flower, fractal_3_5_flower, fractal_4_10_flower, fractal_6_9_flower]"
   ]
  },
  {
   "cell_type": "code",
   "execution_count": null,
   "id": "ef1acca8-2160-41ca-a2fa-a803d780b315",
   "metadata": {
    "tags": []
   },
   "outputs": [],
   "source": [
    "# Non-Fractal (u, v) flowers\n",
    "non_fractal_1_2_flower = Graph.Load(\"network-files/models/uv-flowers/1_2_flower-generation8.gml\")\n",
    "non_fractal_1_3_flower = Graph.Load(\"network-files/models/uv-flowers/1_3_flower-generation6.gml\")\n",
    "non_fractal_1_13_flower = Graph.Load(\"network-files/models/uv-flowers/1_13_flower-generation3.gml\")\n",
    "non_fractal_1_7_flower = Graph.Load(\"network-files/models/uv-flowers/1_7_flower-generation4.gml\")\n",
    "non_fractal_1_14_flower = Graph.Load(\"network-files/models/uv-flowers/1_14_flower-generation3.gml\")\n",
    "\n",
    "non_fractal_flowers = [non_fractal_1_2_flower, non_fractal_1_3_flower, non_fractal_1_13_flower, non_fractal_1_7_flower, non_fractal_1_14_flower]"
   ]
  },
  {
   "cell_type": "markdown",
   "id": "22bc697b-5c41-409a-b52c-913235edc27f",
   "metadata": {},
   "source": [
    "<h1> 8 Empirical Analysis"
   ]
  },
  {
   "cell_type": "markdown",
   "id": "f0f4baf5-32f9-4448-a3bf-f07856aed7fe",
   "metadata": {},
   "source": [
    "Many of the results in this section are plotted against the order of the network."
   ]
  },
  {
   "cell_type": "code",
   "execution_count": null,
   "id": "54de04e4-e11a-4cad-ad38-83041aafbd13",
   "metadata": {},
   "outputs": [],
   "source": [
    "# Initialise empty lists for the order of the networks\n",
    "fractal_Ns = []\n",
    "non_fractal_Ns = []\n",
    "\n",
    "# Find the order of each fractal network\n",
    "for graph in fractal_graphs:\n",
    "    fractal_Ns.append(graph.vcount())\n",
    "    \n",
    "# Find the order of each non-fractal network\n",
    "for graph in non_fractal_graphs:\n",
    "    non_fractal_Ns.append(graph.vcount())"
   ]
  },
  {
   "cell_type": "markdown",
   "id": "efa7a47a-cb55-4058-aaf5-331ee6bdb9e8",
   "metadata": {},
   "source": [
    "<h2> 8.1 Hub-Hub Repulsion"
   ]
  },
  {
   "cell_type": "markdown",
   "id": "14c3f935-9eed-4234-9052-9799868f8746",
   "metadata": {},
   "source": [
    "The following code computes and plots the Hub Connectivity Score of each fractal and non-fractal network, as seen in Figure 17.\n",
    "\n",
    "Networks with no hubs are not plotted."
   ]
  },
  {
   "cell_type": "code",
   "execution_count": null,
   "id": "25beb1fb-c2ad-410c-aef4-cdd9973e0edc",
   "metadata": {},
   "outputs": [],
   "source": [
    "# Initialise an empty list for the fractal networks\n",
    "fractal_HCSs = []\n",
    "\n",
    "# Initialise an empty list for the non-fractal networks\n",
    "non_fractal_HCSs = []\n",
    "\n",
    "# Find the HCS of each fractal network\n",
    "for graph in fractal_graphs:\n",
    "    HCS = calculate_HCS(graph)\n",
    "    fractal_HCSs.append(HCS)\n",
    "    \n",
    "# Find the HCS of each non-fractal network\n",
    "for graph in non_fractal_graphs:\n",
    "    HCS = calculate_HCS(graph)\n",
    "    non_fractal_HCSs.append(HCS)\n",
    "        \n",
    "# Remove NaN values from the lists\n",
    "clean_fractal_Ns, fractal_HCSs = clean_lists_of_NaNs(fractal_Ns, fractal_HCSs)\n",
    "clean_non_fractal_Ns, non_fractal_HCSs = clean_lists_of_NaNs(non_fractal_Ns, non_fractal_HCSs)\n",
    "        \n",
    "# Plot the fractal result against the non-fractal result\n",
    "plot_scatter_graph(fractal_HCSs, non_fractal_HCSs, clean_fractal_Ns, clean_non_fractal_Ns, \"Hub Connectivity Score (HCS)\")"
   ]
  },
  {
   "cell_type": "markdown",
   "id": "78682bb5-d9f5-4236-a489-7ef05344a941",
   "metadata": {},
   "source": [
    "The following code plots the Hub Connectivity Score of the fractal networks against their random uncorrelated counterparts. "
   ]
  },
  {
   "cell_type": "code",
   "execution_count": null,
   "id": "011a695d-6721-425d-87d0-a86e4a6c21cd",
   "metadata": {},
   "outputs": [],
   "source": [
    "random_HCSs = []\n",
    "\n",
    "for graph in fractal_graphs:\n",
    "    random_graph = swap_edges_at_random(graph, graph.ecount())\n",
    "    HCS = calculate_HCS(random_graph)\n",
    "    random_HCSs.append(HCS)\n",
    "    \n",
    "# Remove NaN values from the lists\n",
    "clean_random_Ns, random_HCSs = clean_lists_of_NaNs(fractal_Ns, random_HCSs)\n",
    "\n",
    "plot_scatter_graph_random_networks(fractal_HCSs, random_HCSs, clean_fractal_Ns, clean_random_Ns, \"Hub Connectivity Score (HCS)\")"
   ]
  },
  {
   "cell_type": "markdown",
   "id": "2356d08b-c358-432e-95d8-1301e6ec1b80",
   "metadata": {},
   "source": [
    "**Mean Hub Distances**"
   ]
  },
  {
   "cell_type": "markdown",
   "id": "5970fa13-2bd4-4b32-a2d4-9262e4406a73",
   "metadata": {},
   "source": [
    "The following code generates a figure showing the (normalised) mean hub distances in fractal and non-fractal networks (Figure 18). "
   ]
  },
  {
   "cell_type": "code",
   "execution_count": null,
   "id": "0688bc70-6b44-4411-a182-21809f84b2ee",
   "metadata": {},
   "outputs": [],
   "source": [
    "# Initialise an empty list for the fractal networks\n",
    "fractal_mean_hub_distances = []\n",
    "\n",
    "# Initialise an empty list for the non-fractal networks\n",
    "non_fractal_mean_hub_distances = []\n",
    "\n",
    "# Find the mean hub distance of each fractal network\n",
    "for graph in fractal_graphs:\n",
    "    mean_distance, _ = mean_hub_distance(graph, hubs)\n",
    "    fractal_mean_hub_distances.append(mean_distance)\n",
    "    \n",
    "# Find the mean hub distance of each non-fractal network\n",
    "for graph in non_fractal_graphs:\n",
    "    mean_distance, _ = mean_hub_distance(graph, hubs)\n",
    "    non_fractal_mean_hub_distances.append(mean_distance)\n",
    "        \n",
    "# Remove NaN values from the lists\n",
    "clean_fractal_Ns, fractal_HCSs = clean_lists_of_NaNs(fractal_Ns, fractal_mean_hub_distances)\n",
    "clean_non_fractal_Ns, non_fractal_HCSs = clean_lists_of_NaNs(non_fractal_Ns, non_fractal_mean_hub_distances)\n",
    "        \n",
    "# Plot the fractal result against the non-fractal result\n",
    "plot_scatter_graph(fractal_mean_hub_distances, non_fractal_mean_hub_distances, clean_fractal_Ns, clean_non_fractal_Ns, \"Mean hub distance\", )"
   ]
  },
  {
   "cell_type": "code",
   "execution_count": null,
   "id": "1e566794-1143-4233-a00e-77f838e82e58",
   "metadata": {},
   "outputs": [],
   "source": [
    "# Initialise an empty list for the fractal networks\n",
    "fractal_mean_hub_distances = []\n",
    "\n",
    "# Initialise an empty list for the non-fractal networks\n",
    "non_fractal_mean_hub_distances = []\n",
    "\n",
    "# Find the mean hub distance of each fractal network\n",
    "for graph in fractal_graphs:\n",
    "    mean_distance, _ = mean_hub_distance(graph, hubs, normalised=True)\n",
    "    fractal_mean_hub_distances.append(mean_distance)\n",
    "    \n",
    "# Find the mean hub distance of each non-fractal network\n",
    "for graph in non_fractal_graphs:\n",
    "    mean_distance, _ = mean_hub_distance(graph, hubs, normalised=True)\n",
    "    non_fractal_mean_hub_distances.append(mean_distance)\n",
    "        \n",
    "# Remove NaN values from the lists\n",
    "clean_fractal_Ns, fractal_HCSs = clean_lists_of_NaNs(fractal_Ns, fractal_mean_hub_distances)\n",
    "clean_non_fractal_Ns, non_fractal_HCSs = clean_lists_of_NaNs(non_fractal_Ns, non_fractal_mean_hub_distances)\n",
    "        \n",
    "# Plot the fractal result against the non-fractal result\n",
    "plot_scatter_graph(fractal_mean_hub_distances, non_fractal_mean_hub_distances, clean_fractal_Ns, clean_non_fractal_Ns, \"Normalised mean hub distance\")"
   ]
  },
  {
   "cell_type": "markdown",
   "id": "9d61c5f2-1fcf-45a2-90e6-3f656edf9292",
   "metadata": {},
   "source": [
    "<h2>8.2 Fractality of Skeletons"
   ]
  },
  {
   "cell_type": "markdown",
   "id": "af851dbc-d0ec-4b93-8fc1-1dea2d347728",
   "metadata": {},
   "source": [
    "<h2>8.3 Betweenness Centrality and Degree Correlation"
   ]
  },
  {
   "cell_type": "markdown",
   "id": "2888f55f-1f20-44e3-aa64-5e632fd1d97d",
   "metadata": {},
   "source": [
    "The code in this section plots a scatter graph of the correlation between the degree of nodes and their betweenness centrality (Figure 19). "
   ]
  },
  {
   "cell_type": "code",
   "execution_count": null,
   "id": "f87794e0-9e25-499b-9bc7-e44df8258774",
   "metadata": {},
   "outputs": [],
   "source": [
    "# Initialise an empty list for the fractal networks\n",
    "fractal_correlation = []\n",
    "\n",
    "# Initialise an empty list for the non-fractal networks \n",
    "non_fractal_correlation = []\n",
    "\n",
    "# Find the correlation coefficient for each fractal network\n",
    "for graph in fractal_graphs:\n",
    "    r = calc_betweenness_degree_correlation(graph)\n",
    "    fractal_correlation.append(r)\n",
    "    \n",
    "# Find the correlation coefficient for each non-fractal network\n",
    "for graph in non_fractal_graphs:\n",
    "    r = calc_betweenness_degree_correlation(graph)\n",
    "    non_fractal_correlation.append(r)\n",
    "\n",
    "plot_scatter_graph(fractal_correlation, non_fractal_correlation, fractal_Ns, non_fractal_Ns, \"Pearson correlation coefficient\")"
   ]
  },
  {
   "cell_type": "markdown",
   "id": "e4e53da0-34f7-4bc5-b38f-cafee7162516",
   "metadata": {},
   "source": [
    "We can also plot the degree-betweenness centrality correlation coefficient for the hubs and non-hubs in the network, as in Figure 20."
   ]
  },
  {
   "cell_type": "code",
   "execution_count": null,
   "id": "297f561d-813f-4b6e-b5fb-6ac01b06390d",
   "metadata": {},
   "outputs": [],
   "source": [
    "# Initialise lists for the fractal networks. \n",
    "fractal_hub_correlation = []\n",
    "fractal_non_hub_correlation = []\n",
    "\n",
    "# Iterate through all of the fractal networks.\n",
    "for graph in fractal_graphs:\n",
    "    \n",
    "    # Find the degree-betweenness centrality correlation for hubs.\n",
    "    hub_correlation = calc_betweenness_degree_correlation_hubs(graph)\n",
    "    # Find the degree-betweenness centrality correlation for non-hubs.\n",
    "    non_hub_correlation = calc_betweenness_degree_correlation_non_hubs(graph)\n",
    "    \n",
    "    # Add the correlation coefficients to the lists. \n",
    "    fractal_hub_correlation.append(hub_correlation)\n",
    "    fractal_non_hub_correlation.append(non_hub_correlation)\n",
    "        \n",
    "# Initialise lists for the fractal networks. \n",
    "non_fractal_hub_correlation = []\n",
    "non_fractal_non_hub_correlation = []\n",
    "\n",
    "# Iterate through all of the fractal networks.\n",
    "for graph in non_fractal_graphs:\n",
    "    \n",
    "    # Find the degree-betweenness centrality correlation for hubs.\n",
    "    hub_correlation = calc_betweenness_degree_correlation_hubs(graph)\n",
    "    # Find the degree-betweenness centrality correlation for non-hubs.\n",
    "    non_hub_correlation = calc_betweenness_degree_correlation_non_hubs(graph)\n",
    "    \n",
    "    # Add the correlation coefficients to the lists. \n",
    "    non_fractal_hub_correlation.append(hub_correlation)\n",
    "    non_fractal_non_hub_correlation.append(non_hub_correlation)\n",
    "        \n",
    "# Remove NaN values from the lists\n",
    "clean_fractal_hub_Ns, fractal_hub_correlation = clean_lists_of_NaNs(fractal_Ns, fractal_hub_correlation)\n",
    "clean_fractal_non_hub_Ns, fractal_non_hub_correlation = clean_lists_of_NaNs(fractal_Ns, fractal_non_hub_correlation)\n",
    "clean_non_fractal_hub_Ns, non_fractal_hub_correlation = clean_lists_of_NaNs(fractal_Ns, non_fractal_hub_correlation)\n",
    "clean_non_fractal_non_hub_Ns, non_fractal_non_hub_correlation = clean_lists_of_NaNs(fractal_Ns, non_fractal_non_hub_correlation)\n",
    "\n",
    "plot_scatter_graph(fractal_hub_correlation, non_fractal_hub_correlation, clean_fractal_hub_Ns, clean_non_fractal_hub_Ns, \"Pearson correlation coefficient\")\n",
    "plot_scatter_graph(fractal_non_hub_correlation, non_fractal_non_hub_correlation, clean_fractal_non_hub_Ns, clean_non_fractal_non_hub_Ns, \"Pearson correlation coefficient\")"
   ]
  },
  {
   "cell_type": "markdown",
   "id": "3126a3ed-0c12-4fe9-891b-8ebab57ee309",
   "metadata": {},
   "source": [
    "The following cell finds different attributes of the betweenness centrality distributions of the hubs and non-hubs of fractal and non-fractal networks. "
   ]
  },
  {
   "cell_type": "code",
   "execution_count": null,
   "id": "d65a2d69-f5cf-48f8-87a6-f29032881d44",
   "metadata": {},
   "outputs": [],
   "source": [
    "# Initialise lists for the fractal hub properties\n",
    "fractal_max_hub_bc = []\n",
    "fractal_min_hub_bc = []\n",
    "fractal_mean_hub_bc = []\n",
    "fractal_stdv_hub_bc = []\n",
    "fractal_hub_no_of_high_bc_nodes = []\n",
    "fractal_mean_max_hub_bc = []\n",
    "\n",
    "# Initialise lists for the fractal non-hub properties\n",
    "fractal_max_non_hub_bc = []\n",
    "fractal_min_non_hub_bc = []\n",
    "fractal_mean_non_hub_bc = []\n",
    "fractal_stdv_non_hub_bc = []\n",
    "fractal_non_hub_no_of_high_bc_nodes = []\n",
    "fractal_mean_max_non_hub_bc = []\n",
    "\n",
    "# Initialise lists for the non-fractal hub properties\n",
    "non_fractal_max_hub_bc = []\n",
    "non_fractal_min_hub_bc = []\n",
    "non_fractal_mean_hub_bc = []\n",
    "non_fractal_stdv_hub_bc = []\n",
    "non_fractal_hub_no_of_high_bc_nodes = []\n",
    "non_fractal_mean_max_hub_bc = []\n",
    "\n",
    "# Initialise lists for the non-fractal non-hub properties\n",
    "non_fractal_max_non_hub_bc = []\n",
    "non_fractal_min_non_hub_bc = []\n",
    "non_fractal_mean_non_hub_bc = []\n",
    "non_fractal_stdv_non_hub_bc = []\n",
    "non_fractal_non_hub_no_of_high_bc_nodes = []\n",
    "non_fractal_mean_max_non_hub_bc = []\n",
    "\n",
    "# Iterate through each of the fractal graphs\n",
    "for graph in fractal_graphs:\n",
    "    # Find the betweenness centralities of the hubs and non-hubs in the network\n",
    "    hub_bcs, non_hub_bcs = find_hub_betweenness(graph)\n",
    "    # Find key properties of the hub betweenness centrality distribution\n",
    "    max_hub_bc, min_hub_bc, mean_hub_bc, stdv_hub_bc, hub_no_of_high_bc_nodes, mean_max_hub_bc = analyse_betweenness_centrality(graph, bcs=hub_bcs)\n",
    "    # Find key properties of the non-hub betweenness centrality distribution\n",
    "    max_non_hub_bc, min_non_hub_bc, mean_non_hub_bc, stdv_non_hub_bc, non_hub_no_of_high_bc_nodes, mean_max_non_hub_bc = analyse_betweenness_centrality(graph, bcs=non_hub_bcs)\n",
    "    \n",
    "    # Add the hub properties to their respective lists\n",
    "    fractal_max_hub_bc.append(max_hub_bc)\n",
    "    fractal_min_hub_bc.append(min_hub_bc)\n",
    "    fractal_mean_hub_bc.append(mean_hub_bc)\n",
    "    fractal_stdv_hub_bc.append(stdv_hub_bc)\n",
    "    fractal_hub_no_of_high_bc_nodes.append(hub_no_of_high_bc_nodes)\n",
    "    fractal_mean_max_hub_bc.append(mean_max_hub_bc)\n",
    "\n",
    "    # Add the non-hub properties to their respective lists\n",
    "    fractal_max_non_hub_bc.append(max_non_hub_bc)\n",
    "    fractal_min_non_hub_bc.append(min_non_hub_bc)\n",
    "    fractal_mean_non_hub_bc.append(mean_non_hub_bc)\n",
    "    fractal_stdv_non_hub_bc.append(stdv_non_hub_bc)\n",
    "    fractal_non_hub_no_of_high_bc_nodes.append(non_hub_no_of_high_bc_nodes)\n",
    "    fractal_mean_max_non_hub_bc.append(mean_max_non_hub_bc)\n",
    "    \n",
    "# Iterate through each of the non-fractal graphs\n",
    "for graph in non_fractal_graphs:\n",
    "    # Find the betweenness centralities of the hubs and non-hubs in the network\n",
    "    hub_bcs, non_hub_bcs = find_hub_betweenness(graph)\n",
    "    # Find key properties of the hub betweenness centrality distribution\n",
    "    max_hub_bc, min_hub_bc, mean_hub_bc, stdv_hub_bc, hub_no_of_high_bc_nodes, mean_max_hub_bc = analyse_betweenness_centrality(graph, bcs=hub_bcs)\n",
    "    # Find key properties of the non-hub betweenness centrality distribution\n",
    "    max_non_hub_bc, min_non_hub_bc, mean_non_hub_bc, stdv_non_hub_bc, non_hub_no_of_high_bc_nodes, mean_max_non_hub_bc = analyse_betweenness_centrality(graph, bcs=non_hub_bcs)\n",
    "    \n",
    "    # Add the hub properties to their respective lists\n",
    "    non_fractal_max_hub_bc.append(max_hub_bc)\n",
    "    non_fractal_min_hub_bc.append(min_hub_bc)\n",
    "    non_fractal_mean_hub_bc.append(mean_hub_bc)\n",
    "    non_fractal_stdv_hub_bc.append(stdv_hub_bc)\n",
    "    non_fractal_hub_no_of_high_bc_nodes.append(hub_no_of_high_bc_nodes)\n",
    "    non_fractal_mean_max_hub_bc.append(mean_max_hub_bc)\n",
    "\n",
    "    # Add the non-hub properties to their respective lists\n",
    "    non_fractal_max_non_hub_bc.append(max_non_hub_bc)\n",
    "    non_fractal_min_non_hub_bc.append(min_non_hub_bc)\n",
    "    non_fractal_mean_non_hub_bc.append(mean_non_hub_bc)\n",
    "    non_fractal_stdv_non_hub_bc.append(stdv_non_hub_bc)\n",
    "    non_fractal_non_hub_no_of_high_bc_nodes.append(non_hub_no_of_high_bc_nodes)\n",
    "    non_fractal_mean_max_non_hub_bc.append(mean_max_non_hub_bc)"
   ]
  },
  {
   "cell_type": "markdown",
   "id": "e0402abb-dedd-4ce2-8a4a-93e1941246f2",
   "metadata": {},
   "source": [
    "The next cell plots the mean betweenness centrality of the hubs in the networks."
   ]
  },
  {
   "cell_type": "code",
   "execution_count": null,
   "id": "6c1eabe1-bfc4-4c86-991e-03cabd85889f",
   "metadata": {},
   "outputs": [],
   "source": [
    "plot_scatter_graph(fractal_mean_hub_bc, non_fractal_mean_hub_bc, fractal_Ns, non_fractal_Ns, \"Mean betweenness centrality of hubs\")"
   ]
  },
  {
   "cell_type": "markdown",
   "id": "6030bc5e-beea-47bc-9480-faddd0f583b7",
   "metadata": {},
   "source": [
    "The next cell plots the mean betweenness centrality of the non-hubs in the networks."
   ]
  },
  {
   "cell_type": "code",
   "execution_count": null,
   "id": "e1b63350-5246-4f68-be58-86431b71c603",
   "metadata": {
    "tags": []
   },
   "outputs": [],
   "source": [
    "plot_scatter_graph(fractal_mean_non_hub_bc, non_fractal_mean_non_hub_bc, fractal_Ns, non_fractal_Ns, \"Mean betweenness centrality of non-hubs\")"
   ]
  },
  {
   "cell_type": "markdown",
   "id": "46ef5ef2-228b-403e-81e3-2f8837c48536",
   "metadata": {},
   "source": [
    "The following plots the standard deviation of the betweenness centrality distribution of hubs, as in Figure 21(a)."
   ]
  },
  {
   "cell_type": "code",
   "execution_count": null,
   "id": "19094b6b-5249-433e-9a5c-7d4990673d3b",
   "metadata": {},
   "outputs": [],
   "source": [
    "plot_scatter_graph(fractal_stdv_hub_bc, non_fractal_stdv_hub_bc, fractal_Ns, non_fractal_Ns, \"Standard deviation of betweenness centrality of hubs\")"
   ]
  },
  {
   "cell_type": "markdown",
   "id": "c841e6c2-e738-43d8-83f5-f03a78c87e7d",
   "metadata": {},
   "source": [
    "The following plots the standard deviation of the betweenness centrality distribution of non-hubs, as in Figure 21(b)."
   ]
  },
  {
   "cell_type": "code",
   "execution_count": null,
   "id": "8f9704ca-99c3-4010-8a6b-3c91b7735a87",
   "metadata": {},
   "outputs": [],
   "source": [
    "plot_scatter_graph(fractal_stdv_non_hub_bc, non_fractal_stdv_non_hub_bc, fractal_Ns, non_fractal_Ns, \"Standard deviation of betweenness centrality of non-hubs\")"
   ]
  },
  {
   "cell_type": "markdown",
   "id": "585ac9bc-de6e-4aa8-96e0-c1a842d08b05",
   "metadata": {},
   "source": [
    "The next few figures are not included in the thesis. They plot the maximum betweenness centrality of hubs and non-hubs in fractal and non-fractal networks."
   ]
  },
  {
   "cell_type": "code",
   "execution_count": null,
   "id": "f7b8cb74-3f42-441a-903a-7c71c0d4aa96",
   "metadata": {},
   "outputs": [],
   "source": [
    "plot_scatter_graph(fractal_max_hub_bc, non_fractal_max_hub_bc, fractal_Ns, non_fractal_Ns, \"Maximum betweenness centrality of hubs\")"
   ]
  },
  {
   "cell_type": "code",
   "execution_count": null,
   "id": "f498910d-567e-4909-81a4-80fdca754958",
   "metadata": {},
   "outputs": [],
   "source": [
    "plot_scatter_graph(fractal_max_non_hub_bc, non_fractal_max_non_hub_bc, fractal_Ns, non_fractal_Ns, \"Maximum betweenness centrality of non-hubs\")"
   ]
  },
  {
   "cell_type": "markdown",
   "id": "0591d871-1946-40cb-8380-25c17ab75a40",
   "metadata": {},
   "source": [
    "The following code finds the mean betweenness centrality of the top 10% of hubs in the network. "
   ]
  },
  {
   "cell_type": "code",
   "execution_count": null,
   "id": "304d68da-c4c3-46ad-97ed-43c0d0e545c2",
   "metadata": {},
   "outputs": [],
   "source": [
    "plot_scatter_graph(fractal_mean_max_hub_bc, non_fractal_mean_max_hub_bc, fractal_Ns, non_fractal_Ns, \"Mean betweenness centrality\")"
   ]
  },
  {
   "cell_type": "markdown",
   "id": "22f891f2-e38a-483b-8779-b343743c4cb2",
   "metadata": {},
   "source": [
    "Finally, this cell plots the mean betweenness centrality of the top 10% of non-hubs in the network, as in Figure 23."
   ]
  },
  {
   "cell_type": "code",
   "execution_count": null,
   "id": "71141e57-b4cb-4eaa-a452-647e87f5ae4c",
   "metadata": {},
   "outputs": [],
   "source": [
    "plot_scatter_graph(fractal_mean_max_non_hub_bc, non_fractal_mean_max_non_hub_bc, fractal_Ns, non_fractal_Ns, \"Mean betweenness centrality\")"
   ]
  },
  {
   "cell_type": "markdown",
   "id": "0676b55b-c40f-4622-afb0-3c8f27e6487f",
   "metadata": {},
   "source": [
    "<h2> 8.4 Edge Betweenness Centrality"
   ]
  },
  {
   "cell_type": "markdown",
   "id": "dc86eca2-4e4e-4124-a49e-ac0bd6946da6",
   "metadata": {},
   "source": [
    "The following cell analyses the edge betweenness centrality distribution of fractal and non-fractal graphs."
   ]
  },
  {
   "cell_type": "code",
   "execution_count": null,
   "id": "e773a191-2a17-47e2-9549-bc3abea1513f",
   "metadata": {},
   "outputs": [],
   "source": [
    "# Initialise lists for the fractal hub properties\n",
    "fractal_max_ebc = []\n",
    "fractal_min_ebc = []\n",
    "fractal_mean_ebc = []\n",
    "fractal_stdv_ebc = []\n",
    "fractal_no_of_high_ebc_nodes = []\n",
    "fractal_mean_max_ebc = []\n",
    "\n",
    "# Initialise lists for the non-fractal hub properties\n",
    "non_fractal_max_ebc = []\n",
    "non_fractal_min_ebc = []\n",
    "non_fractal_mean_ebc = []\n",
    "non_fractal_stdv_ebc = []\n",
    "non_fractal_no_of_high_ebc_nodes = []\n",
    "non_fractal_mean_max_ebc = []\n",
    "\n",
    "# Iterate through each of the fractal graphs\n",
    "for graph in fractal_graphs:\n",
    "    # Find the edge betweenness centralities\n",
    "    ebcs = find_edge_betweenness_centralities(graph)\n",
    "    # Find key properties of the hub betweenness centrality distribution\n",
    "    max_bc, min_bc, mean_bc, stdv_bc, no_of_high_bc_nodes, mean_max_bc = analyse_betweenness_centrality(graph, bcs=ebcs)\n",
    "    \n",
    "    # Add the hub properties to their respective lists\n",
    "    fractal_max_ebc.append(max_bc)\n",
    "    fractal_min_ebc.append(min_bc)\n",
    "    fractal_mean_ebc.append(mean_bc)\n",
    "    fractal_stdv_ebc.append(stdv_bc)\n",
    "    fractal_no_of_high_ebc_nodes.append(no_of_high_bc_nodes)\n",
    "    fractal_mean_max_ebc.append(mean_max_bc)\n",
    "    \n",
    "    \n",
    "# Iterate through each of the non-fractal graphs\n",
    "for graph in non_fractal_graphs:\n",
    "    # Find the edge betweenness centralities\n",
    "    ebcs = find_edge_betweenness_centralities(graph)\n",
    "    # Find key properties of the hub betweenness centrality distribution\n",
    "    max_bc, min_bc, mean_bc, stdv_bc, no_of_high_bc_nodes, mean_max_bc = analyse_betweenness_centrality(graph, bcs=ebcs)\n",
    "    \n",
    "    # Add the hub properties to their respective lists\n",
    "    non_fractal_max_ebc.append(max_bc)\n",
    "    non_fractal_min_ebc.append(min_bc)\n",
    "    non_fractal_mean_ebc.append(mean_bc)\n",
    "    non_fractal_stdv_ebc.append(stdv_bc)\n",
    "    non_fractal_no_of_high_ebc_nodes.append(no_of_high_bc_nodes)\n",
    "    non_fractal_mean_max_ebc.append(mean_max_bc)"
   ]
  },
  {
   "cell_type": "markdown",
   "id": "a569a812-3dda-47f3-b7e1-8e4456432df9",
   "metadata": {},
   "source": [
    "Figure 24(a) shows the maximum edge betweenness centralities in the networks."
   ]
  },
  {
   "cell_type": "code",
   "execution_count": null,
   "id": "2febf8dc-4238-4e2b-bae5-60e046a5fa59",
   "metadata": {},
   "outputs": [],
   "source": [
    "plot_scatter_graph(fractal_max_ebc, non_fractal_max_ebc, fractal_Ns, non_fractal_Ns, \"Maximum edge betweenness centrality\")"
   ]
  },
  {
   "cell_type": "markdown",
   "id": "3953f9bc-9e0a-412d-824e-384fe62a7ff8",
   "metadata": {},
   "source": [
    "Figure 24(b) shows the mean edge betweenness centralities in the networks."
   ]
  },
  {
   "cell_type": "code",
   "execution_count": null,
   "id": "5c1e7a1b-6d9a-4267-b88e-cd4e107a752b",
   "metadata": {},
   "outputs": [],
   "source": [
    "plot_scatter_graph(fractal_mean_ebc, non_fractal_mean_ebc, fractal_Ns, non_fractal_Ns, \"Maximum edge betweenness centrality\")"
   ]
  },
  {
   "cell_type": "markdown",
   "id": "9143d586-7d3b-42da-85bc-63d5973a9682",
   "metadata": {},
   "source": [
    "Figure 24(c) shows the number of edges with high betweenness centrality in the networks."
   ]
  },
  {
   "cell_type": "code",
   "execution_count": null,
   "id": "23af8369-4d3d-4339-8924-2e6d43df1653",
   "metadata": {},
   "outputs": [],
   "source": [
    "plot_scatter_graph(fractal_no_of_high_ebc_nodes, non_fractal_no_of_high_ebc_nodes, fractal_Ns, non_fractal_Ns, \"Number of edges with high betweenness centrality\")"
   ]
  },
  {
   "cell_type": "markdown",
   "id": "847aac1d-5630-4a6e-b3d6-3aeaa8aa9b87",
   "metadata": {},
   "source": [
    "The following cell finds the Pearson correlation coefficient between the edge betweenness centrality and the betweenness centrality of the endpoints and the degrees of the endpoints."
   ]
  },
  {
   "cell_type": "code",
   "execution_count": null,
   "id": "207d66aa-e596-4b72-9f7e-99f1fe3e25e8",
   "metadata": {},
   "outputs": [],
   "source": [
    "# Initialise lists for the fractal networks\n",
    "fractal_betweenness_correlation = []\n",
    "fractal_degree_correlation = []\n",
    "\n",
    "# Initialise lists for the non-fractal networks\n",
    "non_fractal_betweenness_correlation = []\n",
    "non_fractal_degree_correlation = []\n",
    "\n",
    "# Find the correlation between the node and edge betweenness centrality for each fractal graph, \n",
    "#    and the correlation between the edge betweenness and degree\n",
    "for graph in fractal_graphs:\n",
    "    betweenness_correlation = edge_vertex_betweenness_correlation(graph)\n",
    "    degree_correlation = edge_betweenness_degree_correlation(graph)\n",
    "    fractal_betweenness_correlation.append(betweenness_correlation)\n",
    "    fractal_degree_correlation.append(degree_correlation)\n",
    "    \n",
    "# Find the correlation between the node and edge betweenness centrality for each non-fractal graph, \n",
    "#    and the correlation between the edge betweenness and degree\n",
    "for graph in non_fractal_graphs:\n",
    "    betweenness_correlation = edge_vertex_betweenness_correlation(graph)\n",
    "    degree_correlation = edge_betweenness_degree_correlation(graph)\n",
    "    non_fractal_betweenness_correlation.append(betweenness_correlation)\n",
    "    non_fractal_degree_correlation.append(degree_correlation)"
   ]
  },
  {
   "cell_type": "markdown",
   "id": "33d67c81-0624-40e5-b28d-7824f5b9c502",
   "metadata": {},
   "source": [
    "Figure 25(a) plots the correlation between the edge betweenness centrality and the betweenness centrality of the endpoints. "
   ]
  },
  {
   "cell_type": "code",
   "execution_count": null,
   "id": "b186a744-02a1-4e83-b348-810069c1650b",
   "metadata": {},
   "outputs": [],
   "source": [
    "plot_scatter_graph(fractal_betweenness_correlation, non_fractal_betweenness_correlation, fractal_Ns, non_fractal_Ns, \"Pearson correlation coefficient\")"
   ]
  },
  {
   "cell_type": "markdown",
   "id": "345c0ebf-4448-4d38-899d-fd3065e55303",
   "metadata": {},
   "source": [
    "Figure 25(b) plots the correlation between the edge betweenness centrality and the degree of the endpoints."
   ]
  },
  {
   "cell_type": "code",
   "execution_count": null,
   "id": "de793a70-2e5b-4d9d-b3ea-11b32d647892",
   "metadata": {},
   "outputs": [],
   "source": [
    "plot_scatter_graph(fractal_degree_correlation, non_fractal_degree_correlation, fractal_Ns, non_fractal_Ns, \"Pearson correlation coefficient\")"
   ]
  },
  {
   "cell_type": "markdown",
   "id": "91ab1fbc-eee3-445c-9a77-fec9c7c866a8",
   "metadata": {
    "tags": []
   },
   "source": [
    "<h1> References"
   ]
  },
  {
   "cell_type": "markdown",
   "id": "dc80b0f2-d022-4922-ae8a-0f2a8862e4c9",
   "metadata": {
    "tags": []
   },
   "source": [
    "[1] K. Hamilton, \"Origins of Fractality in Complex Networks\" *MSc Thesis* "
   ]
  },
  {
   "cell_type": "code",
   "execution_count": null,
   "id": "05ea4fe5-2244-4b5b-ab23-5a5502e6ff15",
   "metadata": {},
   "outputs": [],
   "source": []
  }
 ],
 "metadata": {
  "kernelspec": {
   "display_name": "Python 3 (ipykernel)",
   "language": "python",
   "name": "python3"
  },
  "language_info": {
   "codemirror_mode": {
    "name": "ipython",
    "version": 3
   },
   "file_extension": ".py",
   "mimetype": "text/x-python",
   "name": "python",
   "nbconvert_exporter": "python",
   "pygments_lexer": "ipython3",
   "version": "3.11.7"
  }
 },
 "nbformat": 4,
 "nbformat_minor": 5
}
