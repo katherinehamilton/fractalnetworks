{
 "cells": [
  {
   "cell_type": "markdown",
   "id": "0d4259a8-d7be-4672-8231-d3c4a59e1cc2",
   "metadata": {},
   "source": [
    "<h1> Network Property Analysis"
   ]
  },
  {
   "cell_type": "code",
   "execution_count": 418,
   "id": "86cc16c8-7f6b-4da9-b78a-555316d1395d",
   "metadata": {
    "tags": []
   },
   "outputs": [],
   "source": [
    "from igraph import Graph\n",
    "import igraph\n",
    "import networkx as nx\n",
    "import numpy as np\n",
    "import pandas as pd\n",
    "from scipy.io import mmread\n",
    "import seaborn as sb\n",
    "import time"
   ]
  },
  {
   "cell_type": "markdown",
   "id": "55fc97a0-0090-4944-9a51-4bd6cf9f2d9d",
   "metadata": {},
   "source": [
    "<h2> Tutorial"
   ]
  },
  {
   "cell_type": "markdown",
   "id": "1407dc7d-bfe4-4cd5-8b7f-f3de06395ffa",
   "metadata": {},
   "source": [
    "This area of the notebook can be used to work with the functions given, and some examples are provided.\n",
    "\n",
    "**Reading Graphs**\n",
    "\n",
    "Graphs can be read in from the .gml format."
   ]
  },
  {
   "cell_type": "markdown",
   "id": "aa3801e0-1acd-4185-9114-24b587d0d8bf",
   "metadata": {
    "tags": []
   },
   "source": [
    "<h2> Workspace"
   ]
  },
  {
   "cell_type": "code",
   "execution_count": 488,
   "id": "29e1103a-acd1-4e1c-9adb-be9f5d1e1ec6",
   "metadata": {
    "tags": []
   },
   "outputs": [],
   "source": [
    "fractal_2_3_flower = Graph.Load(\"network-files/models/uv-flowers/23flower-generation5.gml\")\n",
    "fractal_2_6_flower = Graph.Load(\"network-files/models/uv-flowers/26flower-generation4.gml\")\n",
    "fractal_3_5_flower = Graph.Load(\"network-files/models/uv-flowers/35flower-generation4.gml\")\n",
    "fractal_4_10_flower = Graph.Load(\"network-files/models/uv-flowers/410flower-generation3.gml\")\n",
    "\n",
    "SHM_2_6 = Graph.Load(\"network-files/models/SHM-model/SHM-model-2-0.2-generation6-example1.gml\")\n",
    "SHM_3_5 = Graph.Load(\"network-files/models/SHM-model/SHM-model-3-0.2-generation5-example1.gml\")\n",
    "SHM_7_4 = Graph.Load(\"network-files/models/SHM-model/SHM-model-7-0.2-generation4-example1.gml\")\n",
    "SHM_27_3 = Graph.Load(\"network-files/models/SHM-model/SHM-model-27-0.2-generation3-example1.gml\")\n",
    "\n",
    "fractal_graphs_3000 = [fractal_2_3_flower, fractal_2_6_flower, fractal_3_5_flower, fractal_4_10_flower, \n",
    "                       SHM_2_6, SHM_3_5, SHM_7_4, SHM_27_3]"
   ]
  },
  {
   "cell_type": "code",
   "execution_count": 489,
   "id": "97d51bc5-e071-431f-861e-185d4e6f5aab",
   "metadata": {
    "tags": []
   },
   "outputs": [
    {
     "name": "stdout",
     "output_type": "stream",
     "text": [
      "Maximum : 0.30694391120050896, Minimum : 2.7312494264376206e-06, Range : 0.3069411799510825, Mean : 0.011246780429576261.\n",
      "2345 0.5031813962977265\n",
      "Maximum : 0.31602816897279135, Minimum : 6.353657735030563e-06, Range : 0.3160218153150563, Mean : 0.00824495837507334.\n",
      "3512 0.5032259987753663\n",
      "Maximum : 0.28580081953383035, Minimum : 1.022157197985547e-05, Range : 0.2857905979618505, Mean : 0.018801356905746098.\n",
      "3512 0.3532785335297755\n",
      "Maximum : 0.2810617640082921, Minimum : 9.64571500324209e-05, Range : 0.28096530685825966, Mean : 0.027631200011161434.\n",
      "2534 0.3558342013631862\n",
      "Maximum : 0.6119446862996158, Minimum : 0.0, Range : 0.6119446862996158, Mean : 0.00556786455018133.\n",
      "3126 0.5843761633707718\n",
      "Maximum : 0.7330685131195336, Minimum : 0.0, Range : 0.7330685131195336, Mean : 0.0021489672692812448.\n",
      "2402 0.9713021315729671\n",
      "Maximum : 0.7412065248413797, Minimum : 0.0, Range : 0.7412065248413797, Mean : 0.0016158112730844834.\n",
      "3376 0.819106926231954\n",
      "Maximum : 0.7476614631160086, Minimum : 0.0, Range : 0.7476614631160086, Mean : 0.0009282972585862688.\n",
      "3026 0.9959179577260792\n"
     ]
    }
   ],
   "source": [
    "for graph in fractal_graphs_3000:\n",
    "    print(graph.vcount(), calc_betweenness_degree_correlation(graph))"
   ]
  },
  {
   "cell_type": "code",
   "execution_count": 492,
   "id": "5b60e58b-3ef7-4f34-b672-78c4bc452504",
   "metadata": {
    "tags": []
   },
   "outputs": [],
   "source": [
    "# Fractal (u, v)-Flowers with u=v\n",
    "\n",
    "fractal_22_flower = Graph.Load(\"network-files/models/uv-flowers/22flower-generation6.gml\")\n",
    "fractal_44_flower = Graph.Load(\"network-files/models/uv-flowers/44flower-generation4.gml\")\n",
    "fractal_77_flower = Graph.Load(\"network-files/models/uv-flowers/77flower-generation3.gml\")\n",
    "fractal_88_flower = Graph.Load(\"network-files/models/uv-flowers/88flower-generation3.gml\")\n",
    "\n",
    "fractal_graphs_3000_equaluv = [fractal_22_flower, fractal_44_flower, fractal_77_flower, fractal_88_flower]"
   ]
  },
  {
   "cell_type": "code",
   "execution_count": 493,
   "id": "98196d40-b022-40f3-8d8d-a8001072465e",
   "metadata": {
    "tags": []
   },
   "outputs": [
    {
     "name": "stdout",
     "output_type": "stream",
     "text": [
      "Maximum : 0.28550866928750485, Minimum : 0.007542898789237126, Range : 0.2779657704982677, Mean : 0.011928932717739501.\n",
      "2732 0.9980675494849663\n",
      "Maximum : 0.25795485251480693, Minimum : 0.03101337595071574, Range : 0.2269414765640912, Mean : 0.03658866625144428.\n",
      "3512 0.9997355464682851\n",
      "Maximum : 0.25244965507434564, Minimum : 0.062180052688399386, Range : 0.19026960238594626, Mean : 0.06760119068102742.\n",
      "2534 0.9999409113235752\n",
      "Maximum : 0.251886355862291, Minimum : 0.06229039634928802, Range : 0.189595959513003, Mean : 0.06691432252805443.\n",
      "3824 0.9999604093510597\n"
     ]
    }
   ],
   "source": [
    "for graph in fractal_graphs_3000_equaluv:\n",
    "    print(graph.vcount(), calc_betweenness_degree_correlation(graph))"
   ]
  },
  {
   "cell_type": "code",
   "execution_count": 496,
   "id": "24390bc2-56f5-4b29-8936-1891aae116aa",
   "metadata": {
    "tags": []
   },
   "outputs": [],
   "source": [
    "non_fractal_1_2_flower = Graph.Load(\"network-files/models/uv-flowers/12flower-generation8.gml\")\n",
    "non_fractal_1_3_flower = Graph.Load(\"network-files/models/uv-flowers/13flower-generation6.gml\")\n",
    "non_fractal_1_4_flower = Graph.Load(\"network-files/models/uv-flowers/14flower-generation5.gml\")\n",
    "non_fractal_1_7_flower = Graph.Load(\"network-files/models/uv-flowers/17flower-generation4.gml\")\n",
    "\n",
    "non_fractal_graphs_3000 = [non_fractal_1_2_flower, non_fractal_1_3_flower, non_fractal_1_4_flower, non_fractal_1_7_flower]"
   ]
  },
  {
   "cell_type": "code",
   "execution_count": 497,
   "id": "d507bacd-a393-4646-984e-ecd9112499d7",
   "metadata": {
    "tags": []
   },
   "outputs": [
    {
     "name": "stdout",
     "output_type": "stream",
     "text": [
      "Maximum : 0.4166518932694184, Minimum : 0.0, Range : 0.4166518932694184, Mean : 0.001015609933040637.\n",
      "3282 0.9412521551840479\n",
      "Maximum : 0.407192588941298, Minimum : 5.320364163278846e-07, Range : 0.4071920569048817, Mean : 0.002013437901750231.\n",
      "2732 0.890672893275965\n",
      "Maximum : 0.37861947428356174, Minimum : 3.6416659019168274e-07, Range : 0.3786191101169715, Mean : 0.0027213175397528843.\n",
      "2345 0.8624364047855761\n",
      "Maximum : 0.3478756720439263, Minimum : 2.4857434902056564e-06, Range : 0.34787318630043607, Mean : 0.002949767076634217.\n",
      "3512 0.8149954190666113\n"
     ]
    }
   ],
   "source": [
    "for graph in non_fractal_graphs_3000:\n",
    "    print(graph.vcount(), calc_betweenness_degree_correlation(graph))"
   ]
  },
  {
   "cell_type": "code",
   "execution_count": 482,
   "id": "21960f82-2b58-4eab-b141-b3b95e732f75",
   "metadata": {
    "tags": []
   },
   "outputs": [
    {
     "name": "stdout",
     "output_type": "stream",
     "text": [
      "0.30694391120050896\n",
      "2.7312494264376206e-06\n",
      "0.3069411799510825\n",
      "0.011246780429576261\n"
     ]
    },
    {
     "data": {
      "text/plain": [
       "0.5031813962977265"
      ]
     },
     "execution_count": 482,
     "metadata": {},
     "output_type": "execute_result"
    }
   ],
   "source": [
    "calc_betweenness_degree_correlation(fractal_2_3_flower)"
   ]
  },
  {
   "cell_type": "code",
   "execution_count": 483,
   "id": "84749d29-5b03-4598-a1c4-6837ce8feeb9",
   "metadata": {
    "tags": []
   },
   "outputs": [
    {
     "name": "stdout",
     "output_type": "stream",
     "text": [
      "0.37861947428356174\n",
      "3.6416659019168274e-07\n",
      "0.3786191101169715\n",
      "0.0027213175397528843\n"
     ]
    },
    {
     "data": {
      "text/plain": [
       "0.8624364047855761"
      ]
     },
     "execution_count": 483,
     "metadata": {},
     "output_type": "execute_result"
    }
   ],
   "source": [
    "calc_betweenness_degree_correlation(non_fractal_14_flower)"
   ]
  },
  {
   "cell_type": "code",
   "execution_count": 438,
   "id": "967be489-a6b3-4119-bb48-786800b72f1e",
   "metadata": {
    "tags": []
   },
   "outputs": [],
   "source": [
    "iG = Graph.Load(\"network-files/models/uv-flowers/23flower-generation5.gml\")\n",
    "nxG = nx.read_gml(\"network-files/models/uv-flowers/23flower-generation5.gml\")"
   ]
  },
  {
   "cell_type": "code",
   "execution_count": 440,
   "id": "5515361d-3e15-442d-820b-3e1a01544271",
   "metadata": {
    "tags": []
   },
   "outputs": [],
   "source": [
    "iBC = iG.betweenness()\n",
    "nxBC = nx.betweenness_centrality(nxG)"
   ]
  },
  {
   "cell_type": "code",
   "execution_count": 442,
   "id": "79ba0cf0-0fbd-43b5-9887-6e85a410fe84",
   "metadata": {
    "tags": []
   },
   "outputs": [
    {
     "data": {
      "text/plain": [
       "842866.7523809527"
      ]
     },
     "execution_count": 442,
     "metadata": {},
     "output_type": "execute_result"
    }
   ],
   "source": [
    "iBC[0]"
   ]
  },
  {
   "cell_type": "code",
   "execution_count": 448,
   "id": "41552395-21fb-4b3f-ae27-2995830f8b76",
   "metadata": {
    "tags": []
   },
   "outputs": [
    {
     "data": {
      "text/plain": [
       "0.30694391120050896"
      ]
     },
     "execution_count": 448,
     "metadata": {},
     "output_type": "execute_result"
    }
   ],
   "source": [
    "nxBC['0']"
   ]
  },
  {
   "cell_type": "code",
   "execution_count": 450,
   "id": "8081386a-f009-4ce2-ab85-e169f238ab05",
   "metadata": {
    "tags": []
   },
   "outputs": [],
   "source": [
    "nxBC_alt = nx.betweenness_centrality(nxG, normalized=False)"
   ]
  },
  {
   "cell_type": "code",
   "execution_count": 451,
   "id": "3a593ff5-06b8-4b47-a074-58635febfc70",
   "metadata": {
    "tags": []
   },
   "outputs": [
    {
     "data": {
      "text/plain": [
       "842866.7523809527"
      ]
     },
     "execution_count": 451,
     "metadata": {},
     "output_type": "execute_result"
    }
   ],
   "source": [
    "nxBC_alt['0']"
   ]
  },
  {
   "cell_type": "code",
   "execution_count": 458,
   "id": "9bd37449-9eff-4d55-8294-be78c6c26295",
   "metadata": {
    "tags": []
   },
   "outputs": [
    {
     "data": {
      "text/plain": [
       "2345"
      ]
     },
     "execution_count": 458,
     "metadata": {},
     "output_type": "execute_result"
    }
   ],
   "source": [
    "len(nxG.nodes())"
   ]
  },
  {
   "cell_type": "code",
   "execution_count": 472,
   "id": "9ab35b0d-9dc9-482f-850c-10fe81ff7509",
   "metadata": {
    "tags": []
   },
   "outputs": [],
   "source": [
    "normC = 2/((2345-1)*(2345-2))"
   ]
  },
  {
   "cell_type": "code",
   "execution_count": 476,
   "id": "3e201195-d6e0-486e-835c-48ccc46f34b4",
   "metadata": {
    "tags": []
   },
   "outputs": [
    {
     "name": "stdout",
     "output_type": "stream",
     "text": [
      "3.6416659019168274e-07\n"
     ]
    }
   ],
   "source": [
    "print(normC)"
   ]
  },
  {
   "cell_type": "code",
   "execution_count": 478,
   "id": "2cfe151e-39aa-4664-b41f-569a6490332e",
   "metadata": {
    "tags": []
   },
   "outputs": [
    {
     "data": {
      "text/plain": [
       "0.30694391120050896"
      ]
     },
     "execution_count": 478,
     "metadata": {},
     "output_type": "execute_result"
    }
   ],
   "source": [
    "nxBC_alt['0']*normC"
   ]
  },
  {
   "cell_type": "code",
   "execution_count": 454,
   "id": "ac57ecc6-e382-4201-abc1-65efb0afe2cf",
   "metadata": {
    "tags": []
   },
   "outputs": [],
   "source": [
    "ls = [1,2,3,4]"
   ]
  },
  {
   "cell_type": "code",
   "execution_count": 456,
   "id": "5765adf0-5d69-4e6e-80a8-2e9b6f507429",
   "metadata": {
    "tags": []
   },
   "outputs": [
    {
     "ename": "TypeError",
     "evalue": "unsupported operand type(s) for /: 'list' and 'int'",
     "output_type": "error",
     "traceback": [
      "\u001b[1;31m---------------------------------------------------------------------------\u001b[0m",
      "\u001b[1;31mTypeError\u001b[0m                                 Traceback (most recent call last)",
      "Cell \u001b[1;32mIn[456], line 1\u001b[0m\n\u001b[1;32m----> 1\u001b[0m ls\u001b[38;5;241m/\u001b[39m\u001b[38;5;241m2\u001b[39m\n",
      "\u001b[1;31mTypeError\u001b[0m: unsupported operand type(s) for /: 'list' and 'int'"
     ]
    }
   ],
   "source": [
    "ls/2"
   ]
  },
  {
   "cell_type": "markdown",
   "id": "4e687eda-b972-473a-b627-c38af2db9a70",
   "metadata": {},
   "source": [
    "<h1> Functions"
   ]
  },
  {
   "cell_type": "markdown",
   "id": "3fa4f4cd-e432-4046-9f96-5ea4872e1b51",
   "metadata": {},
   "source": [
    "<H2> 1 Degree and Betweenness Centrality"
   ]
  },
  {
   "cell_type": "code",
   "execution_count": 486,
   "id": "fed4fdc7-20a1-482f-99cf-d38d546badc0",
   "metadata": {
    "tags": []
   },
   "outputs": [],
   "source": [
    "def calc_betweenness_degree_correlation(G):\n",
    "    \"\"\"\n",
    "    Calculates the Pearson correlation coefficient for the degree and betweenness centrality of the nodes in a network. \n",
    "    Fractal networks are hypothesised to be less correlated in this regard than non-fractal networks. \n",
    "    \n",
    "    Args:\n",
    "        G (igraph.Graph): The network to be analysed. \n",
    "        \n",
    "    Returns:\n",
    "        rho (float): Pearson's correlation coefficient. \n",
    "    \"\"\"\n",
    "    \n",
    "    # Calculate the betweenness centrality of each node\n",
    "    bc = G.betweenness()\n",
    "    \n",
    "    N = G.vcount()\n",
    "    normalising_constant = 2/((N-1)*(N-2))\n",
    "    bc = [x*normalising_constant for x in bc]\n",
    "    \n",
    "    # Calculate the degree of each node\n",
    "    dd = G.degree()\n",
    "    \n",
    "    print(\"Maximum : {0}, Minimum : {1}, Range : {2}, Mean : {3}.\".format(max(bc), min(bc), max(bc)-min(bc), np.mean(bc)))\n",
    "    \n",
    "    # Convert both to a Pandas Series \n",
    "    bc_series = pd.Series(bc)\n",
    "    dd_series = pd.Series(dd)\n",
    "    \n",
    "    # Return the correlation coefficient for the variables. \n",
    "    return bc_series.corr(dd_series)"
   ]
  },
  {
   "cell_type": "code",
   "execution_count": null,
   "id": "5ce01fba-b7f3-4d1c-9ec8-d975d7ddf6e9",
   "metadata": {},
   "outputs": [],
   "source": [
    "def examine_betweenness(G):\n",
    "    \n",
    "    "
   ]
  },
  {
   "cell_type": "markdown",
   "id": "e0ca4d74-be2d-4a20-a115-0fac74b8f7e2",
   "metadata": {},
   "source": [
    "<h2> 2 Hub-Hub Repulsion"
   ]
  },
  {
   "cell_type": "code",
   "execution_count": null,
   "id": "67056661-a559-499b-b6e2-1f532d470aaf",
   "metadata": {},
   "outputs": [],
   "source": []
  }
 ],
 "metadata": {
  "kernelspec": {
   "display_name": "Python 3 (ipykernel)",
   "language": "python",
   "name": "python3"
  },
  "language_info": {
   "codemirror_mode": {
    "name": "ipython",
    "version": 3
   },
   "file_extension": ".py",
   "mimetype": "text/x-python",
   "name": "python",
   "nbconvert_exporter": "python",
   "pygments_lexer": "ipython3",
   "version": "3.11.7"
  }
 },
 "nbformat": 4,
 "nbformat_minor": 5
}
