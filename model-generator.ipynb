{
 "cells": [
  {
   "cell_type": "markdown",
   "id": "b6fb1de5-4d64-4d38-aed6-faa7736ece1b",
   "metadata": {},
   "source": [
    "<h1> Generate Network Models"
   ]
  },
  {
   "cell_type": "markdown",
   "id": "02b4755a-4302-48c0-b06d-4669344da08b",
   "metadata": {},
   "source": [
    "The code in this notebook generates and analyses fractal and non-fractal network models as described in [4]."
   ]
  },
  {
   "cell_type": "markdown",
   "id": "7237f899-8563-4b3a-a0cb-388646714af6",
   "metadata": {},
   "source": [
    "**Module Imports**"
   ]
  },
  {
   "cell_type": "code",
   "execution_count": 1,
   "id": "90154b54-0f47-4ffc-b089-0d3a75c60212",
   "metadata": {
    "tags": []
   },
   "outputs": [],
   "source": [
    "# Network analysis modules\n",
    "import networkx as nx\n",
    "from igraph import Graph\n",
    "import igraph\n",
    "\n",
    "# Mathematics modules\n",
    "import random\n",
    "import numpy as np\n",
    "import matplotlib.pyplot as plt\n",
    "import math\n",
    "import powerlaw\n",
    "from itertools import combinations\n",
    "\n",
    "# Utility modules\n",
    "import os\n",
    "from operator import itemgetter"
   ]
  },
  {
   "cell_type": "markdown",
   "id": "8ae58fc5-15b9-4daa-9b41-6f31a1ebeaba",
   "metadata": {},
   "source": [
    "<h2> Tutorial"
   ]
  },
  {
   "cell_type": "markdown",
   "id": "a14d168e-6462-433c-acf8-cbef84acb5b6",
   "metadata": {},
   "source": [
    "There are several network models available in this notebook, namely:\n",
    "- Song-Havlin-Makse model\n",
    "- Hub Attraction Dynamical Growth model\n",
    "- $(u, v)$-flowers"
   ]
  },
  {
   "cell_type": "markdown",
   "id": "c09a1857-299d-445a-90f5-7172ac0f81b6",
   "metadata": {},
   "source": [
    "<h3> Song-Havlin-Makse (SHM) Model"
   ]
  },
  {
   "cell_type": "markdown",
   "id": "b560b74b-60bb-42be-903c-562c36e589f7",
   "metadata": {},
   "source": [
    "A SHM network relies on two predetermined parameters, $m$ and $p$, and is generated as follows\n",
    "\n",
    "1. Begin with two nodes connected by a single edge. \n",
    "\n",
    "2. At stage $n$, $m$ offspring are connected to each endpoint of every node. \n",
    "\n",
    "3. Also at stage $n$, each edge in the $(n-1)$-th generation is removed randomly with independent probability $p$ and replaced with an edge between two of the new offspring at the endpoints of this edge.\n",
    "\n",
    "This procedure is repeated $N$ times. "
   ]
  },
  {
   "cell_type": "markdown",
   "id": "113ed473-8a4a-461d-961c-aba439c7af3a",
   "metadata": {
    "tags": []
   },
   "source": [
    "To generate a Song-Havlin-Makse network use `generate_SHM_model`."
   ]
  },
  {
   "cell_type": "code",
   "execution_count": 97,
   "id": "ab6b95e9-f812-4f11-ab00-15cc8ac64b9e",
   "metadata": {
    "tags": []
   },
   "outputs": [],
   "source": [
    "# Generate a SHM network with m=5, p=0.3, N=4.\n",
    "SHM_G = generate_SHM_model(5, 0.3, 4)"
   ]
  },
  {
   "cell_type": "markdown",
   "id": "df72db79-2765-4600-ab4d-fb168a88a5da",
   "metadata": {},
   "source": [
    "Alternatively, we can generate SHM networks for a variety of values of $p$. "
   ]
  },
  {
   "cell_type": "code",
   "execution_count": 117,
   "id": "83c86916-44be-4d51-8000-0f68bda34dcd",
   "metadata": {
    "tags": []
   },
   "outputs": [],
   "source": [
    "# Generate SHM networks with m=3, N=5 and take 21 probabilities, so that p = 0.0, 0.05, 0.10, ..., 0.95, 1.0\n",
    "SHM_graphs = generate_SHM_model_for_all_p(3, 5, prob_N=21)"
   ]
  },
  {
   "cell_type": "markdown",
   "id": "044c25ce-3d39-492f-944f-78e5934f1303",
   "metadata": {},
   "source": [
    "Both of the above methods take the optional Boolean argument `save`, which when `True` saves the networks to a gml file.\n",
    "\n",
    "To find the file path to a saved SHM network use the function `retrieve_SHM_model`."
   ]
  },
  {
   "cell_type": "code",
   "execution_count": 122,
   "id": "2f9ba69f-5316-4451-9877-232fd1ed04a7",
   "metadata": {
    "tags": []
   },
   "outputs": [
    {
     "data": {
      "text/plain": [
       "(<networkx.classes.graph.Graph at 0x1cfedc53fd0>,\n",
       " 'network-files/models/SHM-model/SHM-model-6-0.1-generation3-example1.gml')"
      ]
     },
     "execution_count": 122,
     "metadata": {},
     "output_type": "execute_result"
    }
   ],
   "source": [
    "generate_SHM_model(6, 0.1, 3, save=True)\n",
    "retrieve_SHM_model(6, 0.1, 3, example=1)"
   ]
  },
  {
   "cell_type": "markdown",
   "id": "4c53555d-3306-4d50-bb9d-a640d97a543e",
   "metadata": {},
   "source": [
    "The number of edges in a SHM network with parameters $m$ and $n$ is given by, \n",
    "\\begin{equation}\n",
    " e(G_n) = (1+2m)^{n-1}.\n",
    "\\end{equation}"
   ]
  },
  {
   "cell_type": "code",
   "execution_count": 99,
   "id": "383d2abd-f5dc-40a9-a289-a222d4cefdb1",
   "metadata": {
    "tags": []
   },
   "outputs": [
    {
     "name": "stdout",
     "output_type": "stream",
     "text": [
      "1331\n"
     ]
    }
   ],
   "source": [
    "print(len(SHM_G.edges()))"
   ]
  },
  {
   "cell_type": "markdown",
   "id": "814d3563-a9ab-4b29-a695-5a2cb82f3f00",
   "metadata": {},
   "source": [
    "This can also be calculated using `SHM_no_of_edges`."
   ]
  },
  {
   "cell_type": "code",
   "execution_count": 108,
   "id": "2002ca3d-cbd1-4e1d-a189-55b528918b56",
   "metadata": {
    "tags": []
   },
   "outputs": [
    {
     "name": "stdout",
     "output_type": "stream",
     "text": [
      "1331\n"
     ]
    }
   ],
   "source": [
    "# Calculate the number of edges in a SHM network with m=5, N=4.\n",
    "print(SHM_no_of_edges(5, 4))"
   ]
  },
  {
   "cell_type": "markdown",
   "id": "89e20b8a-6748-496b-8df2-0651326c47d6",
   "metadata": {},
   "source": [
    "The number of nodes in a SHM network with parameters $m$ and $n$ is one more than the number of edges,\n",
    "\\begin{equation}\n",
    " v(G_n) = (1+2m)^{n-1} + 1.\n",
    "\\end{equation}"
   ]
  },
  {
   "cell_type": "code",
   "execution_count": 105,
   "id": "ea7f67b8-ca36-485b-b7d4-37ae200aa320",
   "metadata": {
    "tags": []
   },
   "outputs": [
    {
     "name": "stdout",
     "output_type": "stream",
     "text": [
      "1332\n"
     ]
    }
   ],
   "source": [
    "print(len(SHM_G.nodes()))"
   ]
  },
  {
   "cell_type": "markdown",
   "id": "848c1f4d-901e-4cba-996f-254041010873",
   "metadata": {},
   "source": [
    "This can also be calculated using `SHM_no_of_nodes`."
   ]
  },
  {
   "cell_type": "code",
   "execution_count": 110,
   "id": "07ede587-521b-476c-ab6d-b33b49b9236e",
   "metadata": {
    "tags": []
   },
   "outputs": [
    {
     "name": "stdout",
     "output_type": "stream",
     "text": [
      "1332\n"
     ]
    }
   ],
   "source": [
    "# Calculate the number of nodes in a SHM network with m=5, N=4.\n",
    "print(SHM_no_of_nodes(5, 4))"
   ]
  },
  {
   "cell_type": "markdown",
   "id": "a624da7c-d60b-4b7b-b1d6-9b467cc38804",
   "metadata": {},
   "source": [
    "We can find deterministically the degree distribution of SHM networks for $p=0$ and $p=1$.\n",
    "\n",
    "`SHM_p0_degree_prob(m, d, N)` finds the probability that a node has degree $d$ in a SHM network with parameters $m, N$ and $p=0$.\n",
    "`SHM_p1_degree_prob(m, d, N)` does the same for $p=1$.\n",
    "\n",
    "In a network with $p=0$, nodes can only have degree $(m+1)^k$ for some $k$.\n",
    "In a network with $p=1$, nodes can only have degree $m^k$ or $2m^k$ for some $k$."
   ]
  },
  {
   "cell_type": "code",
   "execution_count": 146,
   "id": "056c6504-091b-42ff-b6ab-41db21d8d328",
   "metadata": {
    "tags": []
   },
   "outputs": [
    {
     "data": {
      "text/plain": [
       "0.031997952131063614"
      ]
     },
     "execution_count": 146,
     "metadata": {},
     "output_type": "execute_result"
    }
   ],
   "source": [
    "SHM_p0_degree_prob(2, 9, 7)"
   ]
  },
  {
   "cell_type": "code",
   "execution_count": 148,
   "id": "5b7e73f7-c0d3-4269-8547-e5235f970d24",
   "metadata": {
    "tags": []
   },
   "outputs": [
    {
     "data": {
      "text/plain": [
       "0"
      ]
     },
     "execution_count": 148,
     "metadata": {},
     "output_type": "execute_result"
    }
   ],
   "source": [
    "SHM_p1_degree_prob(2, 9, 7)"
   ]
  },
  {
   "cell_type": "code",
   "execution_count": 150,
   "id": "141f057f-2810-401c-a6c5-61c4c2e62bc9",
   "metadata": {
    "tags": []
   },
   "outputs": [
    {
     "data": {
      "text/plain": [
       "0"
      ]
     },
     "execution_count": 150,
     "metadata": {},
     "output_type": "execute_result"
    }
   ],
   "source": [
    "SHM_p0_degree_prob(2, 4, 7)"
   ]
  },
  {
   "cell_type": "code",
   "execution_count": 152,
   "id": "db6174d6-e299-4941-b6b4-0628ad87cbfb",
   "metadata": {
    "tags": []
   },
   "outputs": [
    {
     "data": {
      "text/plain": [
       "0.09599385639319083"
      ]
     },
     "execution_count": 152,
     "metadata": {},
     "output_type": "execute_result"
    }
   ],
   "source": [
    "SHM_p1_degree_prob(2, 4, 7)"
   ]
  },
  {
   "cell_type": "markdown",
   "id": "b830c453-bc52-488c-8538-7b66c0fa5a22",
   "metadata": {},
   "source": [
    "We can check that the calculated degree distribution is correct by comparing it to the true distribution of a generated network using `check_SHM_p0_degree_prob` and `check_SHM_p1_degree_prob`."
   ]
  },
  {
   "cell_type": "code",
   "execution_count": 155,
   "id": "fe2b059e-eb18-49a4-9909-fd86098b85d8",
   "metadata": {
    "tags": []
   },
   "outputs": [
    {
     "data": {
      "text/plain": [
       "True"
      ]
     },
     "execution_count": 155,
     "metadata": {},
     "output_type": "execute_result"
    }
   ],
   "source": [
    "check_SHM_p0_degree_prob(2, 9, 7)"
   ]
  },
  {
   "cell_type": "code",
   "execution_count": 157,
   "id": "4cc17f69-190a-4f45-b56c-4b4ace2e096c",
   "metadata": {
    "tags": []
   },
   "outputs": [
    {
     "data": {
      "text/plain": [
       "True"
      ]
     },
     "execution_count": 157,
     "metadata": {},
     "output_type": "execute_result"
    }
   ],
   "source": [
    "check_SHM_p1_degree_prob(2, 4, 7)"
   ]
  },
  {
   "cell_type": "markdown",
   "id": "60f985e4-4425-4862-b669-0d70e92c7980",
   "metadata": {},
   "source": [
    "We can find the entire degree distribution with `SHM_p0_degree_dist(m, N)` and `SHM_p1_degree_dist(m, N)`.\n",
    "The functions return a list of the degrees which appear in the network, and a list of their respective probabilities."
   ]
  },
  {
   "cell_type": "code",
   "execution_count": 162,
   "id": "d6b5b6f2-da18-4ca5-9b0c-73855fdc80d3",
   "metadata": {
    "tags": []
   },
   "outputs": [
    {
     "data": {
      "text/plain": [
       "([1, 5, 25], [0.8780487804878049, 0.0975609756097561, 0.024390243902439025])"
      ]
     },
     "execution_count": 162,
     "metadata": {},
     "output_type": "execute_result"
    }
   ],
   "source": [
    "SHM_p0_degree_dist(4, 3)"
   ]
  },
  {
   "cell_type": "code",
   "execution_count": 166,
   "id": "947a370d-23f5-4ce3-be07-1e3c8b1b6750",
   "metadata": {
    "tags": []
   },
   "outputs": [
    {
     "data": {
      "text/plain": [
       "([1, 2, 4, 8, 16],\n",
       " [0.6585365853658537,\n",
       "  0.21951219512195122,\n",
       "  0.07317073170731707,\n",
       "  0.024390243902439025,\n",
       "  0.024390243902439025])"
      ]
     },
     "execution_count": 166,
     "metadata": {},
     "output_type": "execute_result"
    }
   ],
   "source": [
    "SHM_p1_degree_dist(4, 3)"
   ]
  },
  {
   "cell_type": "markdown",
   "id": "530e756a-35f8-40f8-9532-6f5a9e121c5f",
   "metadata": {},
   "source": [
    "We can check the calculation with `check_SHM_p0_degree_dist(m, N)` and `check_SHM_p1_degree_dist(m, N)`."
   ]
  },
  {
   "cell_type": "code",
   "execution_count": 171,
   "id": "ce7bbcee-bd38-4ff6-8b39-8ccd34313aae",
   "metadata": {
    "tags": []
   },
   "outputs": [
    {
     "data": {
      "text/plain": [
       "True"
      ]
     },
     "execution_count": 171,
     "metadata": {},
     "output_type": "execute_result"
    }
   ],
   "source": [
    "check_SHM_p0_degree_dist(4, 3)"
   ]
  },
  {
   "cell_type": "code",
   "execution_count": 173,
   "id": "1c755bbc-ac60-4fec-9e8a-a818308fc613",
   "metadata": {
    "tags": []
   },
   "outputs": [
    {
     "data": {
      "text/plain": [
       "True"
      ]
     },
     "execution_count": 173,
     "metadata": {},
     "output_type": "execute_result"
    }
   ],
   "source": [
    "check_SHM_p1_degree_dist(4, 3)"
   ]
  },
  {
   "cell_type": "markdown",
   "id": "0cfe4bb6-1acd-4872-a9f2-d3adf788ee52",
   "metadata": {},
   "source": [
    "This works for all values of $m$ and $N$."
   ]
  },
  {
   "cell_type": "code",
   "execution_count": 176,
   "id": "6bc8d645-61bc-4685-9b50-7ff8e6cbc171",
   "metadata": {
    "tags": []
   },
   "outputs": [
    {
     "name": "stdout",
     "output_type": "stream",
     "text": [
      "All distributions are correct!\n"
     ]
    }
   ],
   "source": [
    "correct = True\n",
    "for N in [1,2,3,4,5]:\n",
    "    for m in [2,3,4,5,6,7,8,9,10]:\n",
    "        correct = correct and check_SHM_p0_degree_dist(m, N)\n",
    "if correct:\n",
    "    print(\"All distributions are correct!\")"
   ]
  },
  {
   "cell_type": "code",
   "execution_count": 178,
   "id": "8bcdeb7f-edb5-4cdf-817f-0dde0e0db4bf",
   "metadata": {
    "tags": []
   },
   "outputs": [
    {
     "name": "stdout",
     "output_type": "stream",
     "text": [
      "All distributions are correct!\n"
     ]
    }
   ],
   "source": [
    "correct = True\n",
    "for N in [1,2,3,4,5]:\n",
    "    for m in [2,3,4,5,6,7,8,9,10]:\n",
    "        correct = correct and check_SHM_p1_degree_dist(m, N)\n",
    "if correct:\n",
    "    print(\"All distributions are correct!\")"
   ]
  },
  {
   "cell_type": "markdown",
   "id": "c818825f-5a09-47ef-bba2-f6d034d5060c",
   "metadata": {},
   "source": [
    "SHM networks with parameters $p=0$ and $p=1$ are scale free, that is their degree distributions follow a power law of the form, \n",
    "\\begin{equation} P(k) \\approx k ^ {-\\lambda} \\end{equation}.\n",
    "The value of $\\lambda$ can be approximated by, \n",
    "\\begin{equation}\\lambda = \\frac{\\ln (1+2m)}{\\ln (1+m)}, \\end{equation} when $p=0$ and \\begin{equation}\\lambda = \\frac{\\ln (1+2m)}{\\ln m}, \\end{equation} when $p=1$."
   ]
  },
  {
   "cell_type": "markdown",
   "id": "4cbadd4e-3e2c-412e-966b-f723b0e63873",
   "metadata": {},
   "source": [
    "We can compare the \"true\" value of $\\lambda$ against the approximated value for $p=0$ using `check_SHM_p0_lambda'."
   ]
  },
  {
   "cell_type": "code",
   "execution_count": 547,
   "id": "a1405aa6-ae30-4a47-b64f-c780b0b0d0eb",
   "metadata": {
    "tags": []
   },
   "outputs": [
    {
     "data": {
      "image/png": "[encoded data removed]",
      "text/plain": [
       "<Figure size 800x400 with 1 Axes>"
      ]
     },
     "metadata": {},
     "output_type": "display_data"
    }
   ],
   "source": [
    "empirical, analytical = check_SHM_p0_lambda(10, 10, plot=True, verbose=False)"
   ]
  },
  {
   "cell_type": "markdown",
   "id": "ddcdf5f7-7ba6-4c30-834c-92ea5e1d358b",
   "metadata": {},
   "source": [
    "<h3> Hub Attraction Dynamical Growth (HADG) Model"
   ]
  },
  {
   "cell_type": "markdown",
   "id": "fc89fcb2-ecf3-46f5-9088-691497067fa1",
   "metadata": {},
   "source": [
    "The HADG model [3] is similar to the SHM model with some adaptations. It relies on predetermined parameters $a, b$ and $T$.\n",
    "\n",
    "1. Begin with two nodes connected by a single edge. \n",
    "\n",
    "2. At stage $n$, $m$ offspring are connected to each endpoint of every node. \n",
    "\n",
    "3. Also at stage $n$, each edge $(u,v)$ in the $(n-1)$-th generation is removed randomly with independent probability\n",
    "    \\begin{align}\n",
    "     p_{uv} = \\begin{cases}\n",
    "                 a, & \\text{ if } \\frac{d_{n-1}(u)}{d_{n-1}^\\text{max}} > T \\text{ and } \\frac{d_{n-1}(v)}{d_{n-1}^\\text{max}} > T, \\\\\n",
    "                 b, & \\text { otherwise.}\n",
    "                 \\end{cases}\n",
    "    \\end{align}\n",
    "    where $d_{n-1}(x)$ is the degree of the node $x$ at time $n-1$ and $d_{n-1}^\\text{max}$ is the maximum degree in the network at time $n-1$, and replaced with an edge between two of the new offspring at the endpoints of this edge.\n",
    "    \n",
    "4. At stage $n$, for each node $v$ in the $(n-1)$-th stage $d_{n-1}(v)$ edges are added between the new offspring of $v$.\n",
    "\n",
    "This procedure is repeated $N$ times. \n",
    "\n",
    "To generate a HADG model use `generate_HADG_model`."
   ]
  },
  {
   "cell_type": "code",
   "execution_count": 211,
   "id": "efb44fd9-c320-49f6-acc8-ad5defebd17b",
   "metadata": {
    "tags": []
   },
   "outputs": [],
   "source": [
    "# Generates a HADG network with m=3, a=0.4, b=0.7, T=0.2 and N=5.\n",
    "HADG_G = generate_HADG_model(3, 0.4, 0.7, 0.2, 5)"
   ]
  },
  {
   "cell_type": "markdown",
   "id": "8e81810a-e2a1-4ca9-96e1-bb98399d5637",
   "metadata": {},
   "source": [
    "<h3> $(u,v)$-Flowers"
   ]
  },
  {
   "cell_type": "markdown",
   "id": "42d8add2-1c42-47e7-9385-2ecd94de0c29",
   "metadata": {
    "tags": []
   },
   "source": [
    "A $(u, v)$-flower [1], with $1\\le u<v$, is generated as follows:\n",
    "\n",
    "1. Begin with a cycle graph of length $w= u+v$.\n",
    "\n",
    "2. In the $n$-th generation, replace each edge in the graph from the $(n-1)$-th generation with two parallel paths, one of length $u$ and the other of length $v$.\n",
    "\n",
    "The networks are fractal when $u >1$ and non-fractal when $u=1$."
   ]
  },
  {
   "cell_type": "code",
   "execution_count": 218,
   "id": "6405faf4-d5e0-44d2-ba4e-5402f9538346",
   "metadata": {
    "tags": []
   },
   "outputs": [],
   "source": [
    "# Generate a 5th generation (2,3)-flower\n",
    "fractal_flower_G = generate_uv_flower(2, 3, 5)"
   ]
  },
  {
   "cell_type": "code",
   "execution_count": 220,
   "id": "213d58aa-731e-49d3-a5e2-5d4d58a0a5c4",
   "metadata": {
    "tags": []
   },
   "outputs": [],
   "source": [
    "# Generate a 5th generation (1,3)-flower\n",
    "non_fractal_flower_G = generate_non_fractal_uv_flower(3, 5)"
   ]
  },
  {
   "cell_type": "markdown",
   "id": "c039f2e0-0c01-4bde-9aa4-7690d9ebaeca",
   "metadata": {},
   "source": [
    "<h2> Workspace"
   ]
  },
  {
   "cell_type": "markdown",
   "id": "59c70727-2202-44e2-a5e5-7d23f2d9399e",
   "metadata": {},
   "source": [
    "**Fractal**"
   ]
  },
  {
   "cell_type": "code",
   "execution_count": 225,
   "id": "cd9e2377-c7bf-4191-a151-a79d02d43ff7",
   "metadata": {
    "tags": []
   },
   "outputs": [],
   "source": [
    "# Verified fractal networks\n",
    "\n",
    "fractal_3_12_flower = Graph.Load(\"network-files/models/uv-flowers/3_12flower-generation3.gml\")\n",
    "fractal_2_6_flower = Graph.Load(\"network-files/models/uv-flowers/26flower-generation4.gml\")\n",
    "fractal_3_5_flower = Graph.Load(\"network-files/models/uv-flowers/35flower-generation4.gml\")\n",
    "fractal_4_10_flower = Graph.Load(\"network-files/models/uv-flowers/410flower-generation3.gml\")\n",
    "fractal_6_9_flower = Graph.Load(\"network-files/models/uv-flowers/6_9flower-generation3.gml\")\n",
    "\n",
    "fractal_SHM_2_6 = Graph.Load(\"network-files/models/SHM-model/SHM-model-2-0.8-generation6-example1.gml\")\n",
    "fractal_SHM_3_5 = Graph.Load(\"network-files/models/SHM-model/SHM-model-3-0.8-generation5-example1.gml\")\n",
    "fractal_SHM_7_4 = Graph.Load(\"network-files/models/SHM-model/SHM-model-7-0.8-generation4-example1.gml\")\n",
    "fractal_SHM_27_3 = Graph.Load(\"network-files/models/SHM-model/SHM-model-27-0.8-generation3-example1.gml\")\n",
    "fractal_SHM_28_3 = Graph.Load(\"network-files/models/SHM-model/SHM-model-28-0.8-generation3-example1.gml\")\n",
    "\n",
    "fractal_graphs_3000 = [fractal_3_12_flower, fractal_2_6_flower, fractal_3_5_flower, fractal_4_10_flower, fractal_6_9_flower, \n",
    "                       fractal_SHM_2_6, fractal_SHM_3_5, fractal_SHM_7_4, fractal_SHM_27_3]\n",
    "save_paths = [\"3_12flower-generation3\", \"26flower-generation4\", \"35flower-generation4\", \"410flower-generation3\", \"6_9flower-generation\",\n",
    "              \"SHM-model-2-0.8-generation6-example1\", \"SHM-model-3-0.8-generation5-example1\", \"SHM-model-7-0.8-generation4-example1\", \"SHM-model-27-0.8-generation3-example1\", \"SHM-model-28-0.8-generation3-example1\"]"
   ]
  },
  {
   "cell_type": "markdown",
   "id": "00b5f9e8-a231-4480-843a-cfd803e67e08",
   "metadata": {},
   "source": [
    "**Non-Fractal**"
   ]
  },
  {
   "cell_type": "code",
   "execution_count": 222,
   "id": "be4d0e57-da44-439b-9315-01ac87bc20c0",
   "metadata": {
    "tags": []
   },
   "outputs": [],
   "source": [
    "# Verified non-fractal networks\n",
    "\n",
    "non_fractal_1_2_flower = Graph.Load(\"network-files/models/uv-flowers/12flower-generation8.gml\")\n",
    "non_fractal_1_3_flower = Graph.Load(\"network-files/models/uv-flowers/13flower-generation6.gml\")\n",
    "non_fractal_1_13_flower = Graph.Load(\"network-files/models/uv-flowers/14flower-generation5.gml\")\n",
    "non_fractal_1_7_flower = Graph.Load(\"network-files/models/uv-flowers/17flower-generation4.gml\")\n",
    "non_fractal_1_14_flower = Graph.Load(\"network-files/models/uv-flowers/1_14flower-generation3.gml\")\n",
    "\n",
    "non_fractal_SHM_2_6 = Graph.Load(\"network-files/models/SHM-model/SHM-model-2-0.2-generation6-example1.gml\")\n",
    "non_fractal_SHM_3_5 = Graph.Load(\"network-files/models/SHM-model/SHM-model-3-0.2-generation5-example1.gml\")\n",
    "non_fractal_SHM_7_4 = Graph.Load(\"network-files/models/SHM-model/SHM-model-7-0.2-generation4-example3.gml\")\n",
    "non_fractal_SHM_27_3 = Graph.Load(\"network-files/models/SHM-model/SHM-model-27-0.2-generation3-example1.gml\")\n",
    "non_fractal_SHM_28_3 = Graph.Load(\"network-files/models/SHM-model/SHM-model-28-0.2-generation3-example1.gml\")\n",
    "\n",
    "non_fractal_graphs_3000 = [non_fractal_1_2_flower, non_fractal_1_3_flower, non_fractal_1_13_flower, non_fractal_1_7_flower, non_fractal_1_14_flower,\n",
    "                          non_fractal_SHM_2_6, non_fractal_SHM_3_5, non_fractal_SHM_7_4, non_fractal_SHM_27_3, non_fractal_SHM_28_3]"
   ]
  },
  {
   "cell_type": "markdown",
   "id": "055616a3-3d59-4c88-aefa-e676f5901b91",
   "metadata": {},
   "source": [
    "<h1>Functions"
   ]
  },
  {
   "cell_type": "markdown",
   "id": "57c64c07-4a70-488b-a888-a79556cb5dc7",
   "metadata": {},
   "source": [
    "<h2> 1. Fractal Models"
   ]
  },
  {
   "cell_type": "markdown",
   "id": "5060e93b-298b-4371-b676-a7589d3b0b6f",
   "metadata": {},
   "source": [
    "<h3> 1.1 Song-Havlin-Makse (SHM) Model"
   ]
  },
  {
   "cell_type": "markdown",
   "id": "ea81de1b-db93-4c17-b9ad-d24f0d8fc9bb",
   "metadata": {},
   "source": [
    "A SHM network relies on two predetermined parameters, $m$ and $p$, and is generated as follows\n",
    "\n",
    "1. Begin with two nodes connected by a single edge. \n",
    "\n",
    "2. At stage $n$, $m$ offspring are connected to each endpoint of every node. \n",
    "\n",
    "3. Also at stage $n$, each edge in the $(n-1)$-th generation is removed randomly with independent probability $p$ and replaced with an edge between two of the new offspring at the endpoints of this edge.\n",
    "\n",
    "This procedure is repeated $N$ times. "
   ]
  },
  {
   "cell_type": "markdown",
   "id": "0de6e3e8-4b35-4ea1-a34d-c8a94fcd52f6",
   "metadata": {},
   "source": [
    "**Generate a SHM network with parameters $(m, p, N)$**"
   ]
  },
  {
   "cell_type": "code",
   "execution_count": 3,
   "id": "2e617edb-744c-4973-aa08-871dca303d56",
   "metadata": {
    "tags": []
   },
   "outputs": [],
   "source": [
    "def generate_SHM_model(m, p, N, save=False):\n",
    "    \"\"\"\n",
    "    Generates an n-th generation SHM network with parameters m and p.\n",
    "    \n",
    "    Args:\n",
    "        m (int): The number of offspring added at each stage, as defined by the SHM model [2].\n",
    "        p (float): The probability of rewiring an edge, as defined by the SHM model [2]. \n",
    "        N (int): The number of iterations to perform of the SHM generative process [2].\n",
    "        save (bool) (opt): If True, the file is saved to the network-files folder. Default is False.\n",
    "        \n",
    "    Returns:\n",
    "        G (networkx.Graph): The generated SHM network.\n",
    "    \"\"\"\n",
    "    \n",
    "    # In the first generation the network is a path of length 2. \n",
    "    G = nx.path_graph(2)\n",
    "    \n",
    "    # Generate the next generation N times. \n",
    "    for i in range(N-1):\n",
    "        G = SHM_iteration(G, m, p)\n",
    "        \n",
    "    # Save the file is save is True.\n",
    "    if save==True:\n",
    "        # Save the file in the format SHM-model-m-p-generationN-examplei.gml\n",
    "        # For p != 0 the method is non-deterministic and so multiple examples need to be saved. \n",
    "        count = 1\n",
    "        # Initialise a Boolean variable to False, where False means that it is yet to be saved, and True means it has been saved. \n",
    "        saved = False\n",
    "        \n",
    "        # Iterate while the file is yet to be saved. \n",
    "        while saved == False:\n",
    "            filename = \"SHM-model-\" + str(m) + \"-\" + str(p) + \"-generation\" + str(N) + \"-example\" + str(count) + \".gml\"\n",
    "            filepath = \"network-files/models/SHM-model/\" + filename\n",
    "            # If the count-th example already exists, increment the count by 1 and try to save again.\n",
    "            if not os.path.isfile(filepath):\n",
    "                nx.write_gml(G, filepath)\n",
    "                saved=True\n",
    "            else:\n",
    "                count += 1\n",
    "    \n",
    "    # Return the generated graph\n",
    "    return G"
   ]
  },
  {
   "cell_type": "code",
   "execution_count": 4,
   "id": "5c630ad7-7e9b-4831-b151-6b247aba0d1c",
   "metadata": {
    "tags": []
   },
   "outputs": [],
   "source": [
    "def SHM_iteration(G, m, p):\n",
    "    \"\"\"\n",
    "    Performs one iteration of the generative process for the SHM model.\n",
    "    \n",
    "    Args:\n",
    "        G (networkx.Graph): The network from the previous generation.\n",
    "        m (int): The number of offspring added at each stage, as defined by the SHM model [2].\n",
    "        p (float): The probability of rewiring an edge, as defined by the SHM model [2]. \n",
    "        \n",
    "    Returns:\n",
    "        G (networkx.Graph): The network in the new generation.\n",
    "    \"\"\"\n",
    "    # Find a list of all existing edges in the network.\n",
    "    edges = list(G.edges())\n",
    "    \n",
    "    # For each edge, add m offspring to each endpoint of the edge.\n",
    "    for edge in edges:\n",
    "        G, source_offspring = add_m_offspring(G, edge[0], m)\n",
    "        G, target_offspring = add_m_offspring(G, edge[1], m)\n",
    "        \n",
    "        # With probability p, rewire the original edge.\n",
    "        if random.random() <= p:\n",
    "            rewire_offspring(G, edge, source_offspring, target_offspring)\n",
    "        \n",
    "    # Return the updated network.\n",
    "    return G"
   ]
  },
  {
   "cell_type": "code",
   "execution_count": 7,
   "id": "b08f2ec6-154d-4135-8bd4-7fe5e7311222",
   "metadata": {
    "tags": []
   },
   "outputs": [],
   "source": [
    "def add_m_offspring(G, node, m):\n",
    "    \"\"\"\n",
    "    Adds m offspring to a given node, connected by a single edge.\n",
    "    \n",
    "    Args:\n",
    "        G (networkx.Graph): The network in its current state.\n",
    "        node (int): The node to which the offspring are to be added. \n",
    "        m (int): The number of offspring.\n",
    "        \n",
    "    Returns:\n",
    "        G (networkx.Graph): The updated network.\n",
    "        new_nodes (list): A list of the names of all the new nodes added at the previous stage.\n",
    "    \"\"\"\n",
    "    # Find the number of nodes in the network\n",
    "    N = len(G.nodes())\n",
    "    \n",
    "    # Add new nodes, named for the next available i integers.\n",
    "    new_nodes = [N+i for i in range(m)]\n",
    "    # Create a list of new edges, one connecting each new node to the original node.\n",
    "    new_edges = zip(new_nodes, [node]*m)\n",
    "    \n",
    "    # Add the new edges and vertices\n",
    "    G.add_nodes_from(new_nodes)\n",
    "    G.add_edges_from(new_edges)\n",
    "    \n",
    "    # Return the updated graph, and a list of the new nodes.\n",
    "    return G, new_nodes\n",
    "    "
   ]
  },
  {
   "cell_type": "code",
   "execution_count": 9,
   "id": "4470a0ed-27ae-4efb-b102-962486a41d45",
   "metadata": {
    "tags": []
   },
   "outputs": [],
   "source": [
    "def rewire_offspring(G, edge, source_offspring, target_offspring):\n",
    "    \"\"\"\n",
    "    Rewires a given edge, replacing it with an edge between two randomly chosen offspring of the current endpoints [2].\n",
    "    \n",
    "    Args:\n",
    "        G (networkx.Graph): The network in its current state.\n",
    "        edge (tuple): The edge to be rewired.\n",
    "        source_offspring (list): A list of offspring of the source node.\n",
    "        target_offspring (list): A list of offspring of the target node.\n",
    "        \n",
    "    Returns:\n",
    "        G (networkx.Graph): The updated network.        \n",
    "    \"\"\"\n",
    "    # Remove the original edge.\n",
    "    G.remove_edge(edge[0], edge[1])\n",
    "    \n",
    "    # Choose a new source at random from the original source node's offspring.\n",
    "    new_source = random.choice(source_offspring)\n",
    "    # Choose a new target at random from the original target node's offspring.\n",
    "    new_target = random.choice(target_offspring)\n",
    "    \n",
    "    # Add a new edge between the new source and target.\n",
    "    G.add_edge(new_source, new_target)\n",
    "    \n",
    "    # Return the updated network.\n",
    "    return G"
   ]
  },
  {
   "cell_type": "markdown",
   "id": "a0fe2f1c-4a4e-4793-b5b3-92b81b8e8d67",
   "metadata": {},
   "source": [
    "**Generating SHM Networks for Multiple Probabilities**\n",
    "\n",
    "Sometimes it is useful to generate SHM networks with the same parameters $m$ and $N$, but with different rewiring probabilities $p$. This is particularly true since $p$ determines the network's fractality. "
   ]
  },
  {
   "cell_type": "code",
   "execution_count": 12,
   "id": "d1c5349b-976b-4b40-8971-afabc0c6b2a9",
   "metadata": {
    "tags": []
   },
   "outputs": [],
   "source": [
    "def generate_SHM_model_for_all_p(m, N, prob_N=11, example_N=1, save=False):\n",
    "    \"\"\"\n",
    "    Generate SHM networks for a fixed m and N, for multiple values of p. \n",
    "    \n",
    "    Args:\n",
    "        m (int): The number of offspring added at each stage, as defined by the SHM model [2].\n",
    "        N (int): The number of iterations to perform of the SHM generative process [2].\n",
    "        prob_N (int): The number of probabilities to generate the graph for. Default is 11, so will generate networks with p in [0.0, 0.1, 0.2, ..., 0.9, 1.0]\n",
    "        example (int) (opt): The number of networks of each probability to generate. Default is 1. \n",
    "        save (Bool) (opt): If True, save each of the networks to a .gml file. Default is False.\n",
    "    \n",
    "    Returns:\n",
    "        probabilities (numpy.ndarray): A list of the probabilities which are used.\n",
    "        graphs (list): A list of lists of generated networks. The sublist graphs[i] contains graphs with p=probabilities[i].\n",
    "    \"\"\"\n",
    "    # Generate the list of probabilities p.\n",
    "    probabilities = np.linspace(0, 1, prob_N)\n",
    "    \n",
    "    # Initialise an empty list to store networks.\n",
    "    graphs = []\n",
    "    \n",
    "    # Iterate for each probability.\n",
    "    for p in probabilities:\n",
    "        # Initialise an empty list to store networks with probability p.\n",
    "        p_graphs = []\n",
    "        # Generate such a network and add it to the list.\n",
    "        for i in range(example_N):\n",
    "            G = generate_SHM_model(m, p, N, save=save)\n",
    "            p_graphs.append(G)\n",
    "        # Add the list of networks with probability p to the overall list.\n",
    "        graphs.append(p_graphs)\n",
    "    \n",
    "    # Return a list of probabilities and graphs.\n",
    "    return probabilities, graphs"
   ]
  },
  {
   "cell_type": "markdown",
   "id": "5206a58f-2696-4887-ba12-8a29ac493281",
   "metadata": {},
   "source": [
    "**Finding a Saved SHM Network File**"
   ]
  },
  {
   "cell_type": "code",
   "execution_count": 15,
   "id": "1f54a05d-d746-4985-b164-e7db0c446062",
   "metadata": {
    "tags": []
   },
   "outputs": [],
   "source": [
    "def retrieve_SHM_model(m, p, N, example=1):\n",
    "    \"\"\"\n",
    "    Given the parameters m, p, N and the example number, retrieve the file containing the SHM network. \n",
    "    \n",
    "    Args:\n",
    "        m (int): The number of offspring added at each stage, as defined by the SHM model [2].\n",
    "        p (float): The probability of rewiring an edge, as defined by the SHM model [2]. \n",
    "        N (int): The number of iterations to perform of the SHM generative process [2].\n",
    "        example (int) (opt): In the case of multiple graphs with the same parameters, specifies the example wanted. Default is 1.\n",
    "        \n",
    "    Returns:\n",
    "        G (networkx.Graph): The saved SHM network with the above specified parameters. \n",
    "        filepath + filename (str): The filepath to the network file.\n",
    "    \"\"\"\n",
    "    \n",
    "    # Find the filepath to the model with these parameters. \n",
    "    filename = \"SHM-model-\" + str(m) + \"-\" + str(p) + \"-generation\" + str(N) + \"-example\" + str(example) + \".gml\"\n",
    "    filepath = \"network-files/models/SHM-model/\"\n",
    "\n",
    "    # Read the network.\n",
    "    G = nx.read_gml(filepath+filename)\n",
    "    \n",
    "    # Return the networkx graph.\n",
    "    return G, filepath+filename"
   ]
  },
  {
   "cell_type": "markdown",
   "id": "e9d73132-be43-45ec-a999-1fef9edb5e1b",
   "metadata": {},
   "source": [
    "<h3> 1.2 Hub Attractraction Dynamical Growth (HADG) Model"
   ]
  },
  {
   "cell_type": "markdown",
   "id": "4385c68b-f810-45c2-b62e-1280f906e1ad",
   "metadata": {},
   "source": [
    "The HADG model [3] is similar to the SHM model with some adaptations. It relies on predetermined parameters $a, b$ and $T$.\n",
    "\n",
    "1. Begin with two nodes connected by a single edge. \n",
    "\n",
    "2. At stage $n$, $m$ offspring are connected to each endpoint of every node. \n",
    "\n",
    "3. Also at stage $n$, each edge $(u,v)$ in the $(n-1)$-th generation is removed randomly with independent probability\n",
    "    \\begin{align}\n",
    "     p_{uv} = \\begin{cases}\n",
    "                 a, & \\text{ if } \\frac{d_{n-1}(u)}{d_{n-1}^\\text{max}} > T \\text{ and } \\frac{d_{n-1}(v)}{d_{n-1}^\\text{max}} > T, \\\\\n",
    "                 b, & \\text { otherwise.}\n",
    "                 \\end{cases}\n",
    "    \\end{align}\n",
    "    where $d_{n-1}(x)$ is the degree of the node $x$ at time $n-1$ and $d_{n-1}^\\text{max}$ is the maximum degree in the network at time $n-1$, and replaced with an edge between two of the new offspring at the endpoints of this edge.\n",
    "    \n",
    "4. At stage $n$, for each node $v$ in the $(n-1)$-th stage $d_{n-1}(v)$ edges are added between the new offspring of $v$.\n",
    "\n",
    "This procedure is repeated $N$ times. "
   ]
  },
  {
   "cell_type": "code",
   "execution_count": 19,
   "id": "c424ae82-220a-4aa6-83a4-bcd5ff8f2921",
   "metadata": {
    "tags": []
   },
   "outputs": [],
   "source": [
    "def generate_HADG_model(m, a, b, T, N, save=False):\n",
    "    \"\"\"\n",
    "    Generates an Nth generation HADG network with parameters m, a, b and T [5][3].\n",
    "    \n",
    "    Args:\n",
    "        m (int): The number of offspring added at each stage, as according to [5].\n",
    "        a (float): The probability of rewiring an edge if node degree is over the threshold [5].\n",
    "        b (float): The probability of rewiring an edge otherwise [5].\n",
    "        T (float): The threshold as according to [5].\n",
    "        N (int): The number of iterations to perform of the HADG generative process.\n",
    "        save (Bool) (opt): If True, saved the resulting network to a gml file. Default is False.\n",
    "        \n",
    "    Returns:\n",
    "        G (networkx.Graph): The resulting HADG network.\n",
    "    \"\"\"\n",
    "    # In the first generation the network is a path of length 2. \n",
    "    G = nx.path_graph(2)\n",
    "    \n",
    "    # Apply the generative process N times. \n",
    "    for i in range(N-1):\n",
    "        G = HADG_iteration(G, m, a, b, T)\n",
    "        \n",
    "    # Save the file is save is True.\n",
    "    if save==True:\n",
    "        # Save the file in the format HADG-model-m-p-generationN-examplei.gml\n",
    "        # The method is non-deterministic and so multiple examples need to be saved. \n",
    "        count = 1\n",
    "        # Initialise a Boolean variable to False, where False means that it is yet to be saved, and True means it has been saved. \n",
    "        saved = False\n",
    "        \n",
    "        # Iterate while the file is yet to be saved.\n",
    "        while saved == False:\n",
    "            filename = \"HADG-model-\" + str(m) + \"-\" + str(p) + \"-generation\" + str(N) + \"-example\" + str(count) + \".gml\"\n",
    "            filepath = \"network-files/models/HADG-model/\" + filename\n",
    "            # If the count-th example already exists, increment the count by 1 and try to save again.\n",
    "            if not os.path.isfile(filepath):\n",
    "                nx.write_gml(G, filepath)\n",
    "                saved=True\n",
    "            else:\n",
    "                count += 1\n",
    "    \n",
    "    # Return the generated graph.\n",
    "    return G"
   ]
  },
  {
   "cell_type": "code",
   "execution_count": 207,
   "id": "b8f45022-20ad-4cf8-9a6e-027b53dfa4e9",
   "metadata": {
    "tags": []
   },
   "outputs": [],
   "source": [
    "def HADG_iteration(G, m, a, b, T):\n",
    "    \"\"\"\n",
    "    Performs one iteration of the HADG generative process [5][3]. \n",
    "    \n",
    "    Args:\n",
    "        G (networkx.Graph): The network in its current state. \n",
    "        m (int): The number of offspring added at each stage, as according to [5].\n",
    "        a (float): The probability of rewiring an edge if node degree is over the threshold [5].\n",
    "        b (float): The probability of rewiring an edge otherwise [5].\n",
    "        T (float): The threshold as according to [5].\n",
    "        \n",
    "    Returns:\n",
    "        G (networkx.Graph): The updated network.\n",
    "    \"\"\"\n",
    "    # Initialise a dictionary where each node is a key and each value starts as an empty list. \n",
    "    # This dictionary will store a list of the newly added nodes to which a previously existing node is adjacent.\n",
    "    new_node_dict = dict.fromkeys(list(G.nodes()), [])\n",
    "    \n",
    "    # Find a list of the edges in the previous generation.\n",
    "    edges = list(G.edges())\n",
    "    # Find a list of the node degrees in the previous generation.\n",
    "    degrees = G.degree\n",
    "    \n",
    "    # Iterate through each of the edges in the previous generation. \n",
    "    for edge in edges:\n",
    "        # Add m offspring to the source node of the edge.\n",
    "        G, source_offspring = add_m_offspring(G, edge[0], m)\n",
    "        # Add m offspring to the target node of the edge.\n",
    "        G, target_offspring = add_m_offspring(G, edge[1], m)\n",
    "        \n",
    "        # Find the degree of the source node in the previous generation.\n",
    "        degx = degrees[edge[0]]\n",
    "        # Find the degree of the target node in the previous generation.\n",
    "        degy = degrees[edge[1]]\n",
    "        # Find the maximum degree in the previous generation.\n",
    "        degmax = max([deg[1] for deg in degrees])\n",
    "        \n",
    "        # If the degree of both the source and target node, relative to the maximum degree, are over the threshold then\n",
    "        #    rewire the edge with probability a.\n",
    "        if degx/degmax > T and degy/degmax >T:\n",
    "            if random.random() <= a:\n",
    "                rewire_offspring(G, edge, source_offspring, target_offspring)\n",
    "        # Otherwise rewire the edge with probability b.\n",
    "        else:\n",
    "            if random.random() <= b:\n",
    "                rewire_offspring(G, edge, source_offspring, target_offspring)\n",
    "                \n",
    "        # Update the dictionary of new neighbours for the source node. \n",
    "        source_neighbours = new_node_dict[edge[0]].copy()\n",
    "        source_neighbours.extend(source_offspring)\n",
    "        new_node_dict[edge[0]] = source_neighbours\n",
    "        \n",
    "        # Update the dictionary of new neighbours for the target node.\n",
    "        target_neighbours = new_node_dict[edge[1]].copy()\n",
    "        target_neighbours.extend(target_offspring)\n",
    "        new_node_dict[edge[1]] = target_neighbours\n",
    "        \n",
    "    # Iterate through each of the nodes from the previous generation.\n",
    "    for node in new_node_dict:\n",
    "        # Find the list of new neighbours for that node.\n",
    "        neighbours = new_node_dict[node]\n",
    "        # Find the degree of the node at the previous generation.\n",
    "        deg = degrees[node]\n",
    "        \n",
    "        # Find all possible pairs of new neighbours, i.e. all possible edges between the new offspring of the node.\n",
    "        possible_edges = [i for i in combinations(neighbours, 2)]\n",
    "        \n",
    "        # Choose d random new edges where d is the degree of the node at the previous stage.\n",
    "        new_edges = random.sample(possible_edges, min(deg, len(possible_edges)))\n",
    "        # Add these new edges to the network.\n",
    "        G.add_edges_from(new_edges)\n",
    "        \n",
    "    # Return the updated network.\n",
    "    return G"
   ]
  },
  {
   "cell_type": "markdown",
   "id": "7484efe9-57f1-475b-a11e-6ec5f790a59b",
   "metadata": {},
   "source": [
    "<h3> 1.3 $(u, v)$-Flowers"
   ]
  },
  {
   "cell_type": "markdown",
   "id": "1b928aac-fe2e-495e-bebd-d7ae55f03398",
   "metadata": {},
   "source": [
    "A $(u, v)$-flower [1], with $1<u<v$, is generated as follows:\n",
    "\n",
    "1. Begin with a cycle graph of length $w= u+v$.\n",
    "\n",
    "2. In the $n$-th generation, replace each edge in the graph from the $(n-1)$-th generation with two parallel paths, one of length $u$ and the other of length $v$.\n",
    "\n",
    "This network is self similar because the $n$-th generation contains $w$ copies of the $(n-1)$-th generation.\n",
    "\n",
    "The model is also deterministic."
   ]
  },
  {
   "cell_type": "code",
   "execution_count": 25,
   "id": "7587f2df-a3e5-4f48-9387-55194c03e23f",
   "metadata": {
    "tags": []
   },
   "outputs": [],
   "source": [
    "def generate_uv_flower(u, v, N):\n",
    "    \"\"\"\n",
    "    Generates an n-th generation (u,v)-flower.\n",
    "    \n",
    "    Args:\n",
    "        u (int): Value of u, i.e. path length of one of the parallel paths. \n",
    "        v (int): Value of v, i.e. path length of one of the parallel paths. \n",
    "        N (int): Number of generations.\n",
    "        \n",
    "    Returns:\n",
    "        filepath (str): File path to .gml file containing generated network.\n",
    "    \"\"\"\n",
    "    # Initialise a cycle graph of length w = u + v\n",
    "    G = nx.cycle_graph(u+v)\n",
    "    \n",
    "    # For each of the n generations, perform one iteration of the generative process. \n",
    "    for i in range(N-1):\n",
    "        G = uv_iteration(G, u, v)\n",
    "        \n",
    "    # Save the file in the format uvflower-generationN.gml\n",
    "    filename = str(u) + \"_\" + str(v) + \"flower-generation\" + str(N) + \".gml\"\n",
    "    filepath = \"network-files/models/uv-flowers/\" + filename\n",
    "    nx.write_gml(G, filepath)\n",
    "    \n",
    "    return filepath"
   ]
  },
  {
   "cell_type": "code",
   "execution_count": 27,
   "id": "195a24b1-b212-4706-b505-02c8d2a6f7cd",
   "metadata": {
    "tags": []
   },
   "outputs": [],
   "source": [
    "def uv_iteration(G, u, v):\n",
    "    \"\"\"\n",
    "    Performs one iteration in the (u,v)-flower generation process. \n",
    "    \n",
    "    Args:\n",
    "        G (networkx.Graph): The (u,v)-flower network in its current (t-1)-th generation. \n",
    "        u (int): Value of u, i.e. path length of one of the parallel paths. \n",
    "        v (int): Value of v, i.e. path length of one of the parallel paths. \n",
    "        \n",
    "    Returns:\n",
    "        G (networkx.Graph): The (u,v)-flower network in the t-th generation. \n",
    "        \n",
    "    \"\"\"\n",
    "    # Find a list of all the nodes and edges in the network at the (t-1)-th generation.\n",
    "    nodes = list(G.nodes())\n",
    "    edges = list(G.edges())\n",
    "    \n",
    "    # Remove all the existing edges. \n",
    "    G.remove_edges_from(G.edges())\n",
    "\n",
    "    # Iterate through each of the edges from the network in the (t-1)-th generation.\n",
    "    for edge in edges:\n",
    "        # n is used to store the smallest integer which isn't yet a node label. \n",
    "        # The nodes are labelled 0, ..., n-1, so this is n.\n",
    "        n = len(G.nodes())\n",
    "        \n",
    "        # Replace the edge with a path of length u.\n",
    "        # First find a path graph using these vertices.\n",
    "        Hu, n = add_new_path(u, n, edge)\n",
    "        # Then merge this path graph with the existing network.\n",
    "        G = nx.compose(G, Hu)\n",
    "        \n",
    "        # Replace the edge with a path of length v.\n",
    "        # First find a path graph using these vertices.\n",
    "        Hv, n = add_new_path(v, n, edge)\n",
    "        # Then merge this path graph with the existing network.\n",
    "        G = nx.compose(G, Hv)\n",
    "\n",
    "    # Return the graph after all iterations. \n",
    "    return G"
   ]
  },
  {
   "cell_type": "code",
   "execution_count": 29,
   "id": "963a8936-12de-4681-a0d5-2325e005e245",
   "metadata": {
    "tags": []
   },
   "outputs": [],
   "source": [
    "def add_new_path(l, n, edge):\n",
    "    \"\"\"\n",
    "    Adds a new parallel path to the network, a step in the (u, v)-flower generation process. \n",
    "    \n",
    "    Args:\n",
    "        l (int): The length of the path to be added to the network.\n",
    "        n (int): A counter which stores the next unused integer to label nodes. \n",
    "        edge (tuple): The edge from the network being replaced with parallel paths. \n",
    "        \n",
    "    Returns:\n",
    "        Hl (networkx.Graph): A path graph of length l with vertices labelled correctly. \n",
    "        n (int): A counter which stores the next unused integer to label nodes. \n",
    "    \"\"\"\n",
    "    # Generate a path graph with l edges (and l+1 vertices). \n",
    "    Hl = nx.path_graph(l+1)\n",
    "    \n",
    "    # Create an empty dictionary to be used to relabel the nodes in the path. \n",
    "    l_rlbl = {key:None for key in list(Hl.nodes)}\n",
    "    \n",
    "    # The nodes in the path graph are labelled from 0 to l. \n",
    "    # Thus, the node 0 in this path corresponds to the source node of the original edge,\n",
    "    #   and the node l in this path corresponds to the target node of the original edge.\n",
    "    \n",
    "    # Iterate through all the nodes in the path.\n",
    "    for node in list(Hl.nodes()):\n",
    "        # If the node is 0 in the path, relabel it as the source of the original edge.\n",
    "        if node == 0:\n",
    "            l_rlbl[node] = edge[0]\n",
    "        # If the node is l in the path, relabel it as the source of the original edge.\n",
    "        elif node == l:\n",
    "            l_rlbl[node] = edge[1]\n",
    "        # For all other nodes, relabel it as the next unused integer. \n",
    "        else:\n",
    "            l_rlbl[node] = n\n",
    "            # Increment the counter n, so that n is now the next unused integer. \n",
    "            n += 1\n",
    "            \n",
    "    # Relabel the nodes according to the scheme described above. \n",
    "    Hl = nx.relabel_nodes(Hl, l_rlbl)\n",
    "    \n",
    "    # Return the path graph to be merged with the (u, v)-flower graph, and the counter for the next unused integer for node labels. \n",
    "    return Hl, n"
   ]
  },
  {
   "cell_type": "markdown",
   "id": "87accbd1-494e-4412-9f9d-3bd7bd06a352",
   "metadata": {},
   "source": [
    "<h2> 2. Non-Fractal Models"
   ]
  },
  {
   "cell_type": "markdown",
   "id": "1d058c5e-e9e6-40b0-b6ef-6a0608ddeada",
   "metadata": {},
   "source": [
    "<h3> 2.1 $(u, v)$-Flowers"
   ]
  },
  {
   "cell_type": "markdown",
   "id": "60da0e5d-5a9a-43d4-9c5a-74f22b5b8892",
   "metadata": {},
   "source": [
    "It was shown in [1] that $(u, v)$-flowers with $u=1$ are non-fractal. "
   ]
  },
  {
   "cell_type": "code",
   "execution_count": 34,
   "id": "01162c19-b301-41c1-b9ff-328e87978263",
   "metadata": {
    "tags": []
   },
   "outputs": [],
   "source": [
    "def generate_non_fractal_uv_flower(v, N):\n",
    "    \"\"\"\n",
    "    Generates a non-fractal (u,v)-flower with u=1.\n",
    "    \n",
    "    Args:\n",
    "        v (int): Value of v, i.e. path length of the parallel paths. \n",
    "        N (int): Number of generations.\n",
    "        \n",
    "    Returns:\n",
    "        filepath (str): File path to .gml file containing generated network.\n",
    "    \"\"\"\n",
    "    # Returns the (u,v)-flower found by the fractal generator, but with u hardcoded as 1. \n",
    "    return generate_uv_flower(1, v, N)"
   ]
  },
  {
   "cell_type": "markdown",
   "id": "d727c7ca-0342-4d95-8304-7c2b8cd6eb15",
   "metadata": {},
   "source": [
    "<h1> 3 Verifying Properties"
   ]
  },
  {
   "cell_type": "markdown",
   "id": "0acf2217-fd0e-4fef-89d6-2450b68e753e",
   "metadata": {},
   "source": [
    "<h2> 3.1 SHM Model"
   ]
  },
  {
   "cell_type": "markdown",
   "id": "1e9120ee-a311-4db0-b78c-105549e72aad",
   "metadata": {},
   "source": [
    "**General Properties**"
   ]
  },
  {
   "cell_type": "markdown",
   "id": "a5d7deb1-3bac-4794-be5d-fd039f045d8a",
   "metadata": {
    "tags": []
   },
   "source": [
    "The number of edges in a SHM network with parameters $m$ and $n$ is given by, \n",
    "\\begin{equation}\n",
    " e(G_n) = (1+2m)^{n-1}.\n",
    "\\end{equation}"
   ]
  },
  {
   "cell_type": "code",
   "execution_count": 40,
   "id": "21f240da-9e1f-4493-a064-ef1d1bd0a38d",
   "metadata": {
    "tags": []
   },
   "outputs": [],
   "source": [
    "def SHM_no_of_edges(m, n):\n",
    "    \"\"\"\n",
    "    Finds the number of edges in an n-th generation SHM network with parameter m.\n",
    "    \n",
    "    Args:\n",
    "        m (int): The number of offspring added at each stage, as defined by the SHM model [2].\n",
    "        N (int): The number of iterations to perform of the SHM generative process [2].\n",
    "        \n",
    "    Returns:\n",
    "        (int): The number of edges in the network.\n",
    "    \"\"\"\n",
    "    # A SHM network has (1+2m)^(n-1) edges.\n",
    "    return (1+2*m)**(n-1)"
   ]
  },
  {
   "cell_type": "markdown",
   "id": "22ea0856-0e29-464e-8322-1398c92b6eb4",
   "metadata": {
    "tags": []
   },
   "source": [
    "The number of vertices is one more than the number of edges:\n",
    "\\begin{equation}\n",
    " v(G_n) = (1+2m)^{n-1} + 1.\n",
    "\\end{equation}"
   ]
  },
  {
   "cell_type": "code",
   "execution_count": 43,
   "id": "8c496667-f722-47f9-b35d-9953b744b728",
   "metadata": {
    "tags": []
   },
   "outputs": [],
   "source": [
    "def SHM_no_of_nodes(m, N):\n",
    "    \"\"\"\n",
    "    Finds the number of nodes in an n-th generation SHM network with parameter m.\n",
    "    \n",
    "    Args:\n",
    "        m (int): The number of offspring added at each stage, as defined by the SHM model [2].\n",
    "        N (int): The number of iterations to perform of the SHM generative process [2].\n",
    "        \n",
    "    Returns:\n",
    "        (int): The number of nodes in the network.\n",
    "    \"\"\"\n",
    "    # A SHM network has (1+2m)^(n-1)+1 nodes.\n",
    "    return (1+2*m)**(N-1) + 1"
   ]
  },
  {
   "cell_type": "markdown",
   "id": "1339a624-13cf-4fbf-ac0c-806e9a01d9d1",
   "metadata": {},
   "source": [
    "**Degree Distribution for $p=0$**"
   ]
  },
  {
   "cell_type": "markdown",
   "id": "11237ae0-b92e-411e-b9f3-d64999ba490e",
   "metadata": {},
   "source": [
    "The following code calculates, according to the analytical arguments of [4], the probability $P(d)$ for a degree $d$ in the probability distribution of a SHM network with parameters $m$, $N$ and $p=0$."
   ]
  },
  {
   "cell_type": "code",
   "execution_count": 47,
   "id": "ad63a9ae-fa30-4e24-9c6f-c99111ae5032",
   "metadata": {
    "tags": []
   },
   "outputs": [],
   "source": [
    "def SHM_p0_degree_prob(m, d, N):\n",
    "    \"\"\"\n",
    "    Calculates the probability P(d) for a given degree d in a SHM network with parameters m, N and p=0.\n",
    "    \n",
    "    Args:\n",
    "        m (int): The parameter m in the SHM network model [2]\n",
    "        d (int): The degree to find the probability density P(d) for.\n",
    "        N (int): The parameter N in the SHM network model [2]\n",
    "        \n",
    "    Returns:\n",
    "        (float): The probability P(d) from the degree distribution.\n",
    "    \"\"\"\n",
    "    # The maximum degree in a network with parameters m, N is (1+m)^(N-1) [4].\n",
    "    # Thus for any larger degree d, the probability of a node having degree d is 0.\n",
    "    if d > (1+m) ** (N-1):\n",
    "        return 0\n",
    "    \n",
    "    # All degrees in a SHM network with p=0 are powers of (1+m)\n",
    "    power, is_power = exact_log(d, (1+m)) # Check if d is a power of (1+m) and find the exponent.\n",
    "    \n",
    "    # If d is a power, then we can find P(d).\n",
    "    if is_power:\n",
    "        # Nodes added at stage k have degree d = (1+m)^power = (1+m)^(N-k), so k = N-power.\n",
    "        k = N - power\n",
    "        \n",
    "        # In the first stage, 2 nodes are added.\n",
    "        if k == 1:\n",
    "            no_deg_d = 2\n",
    "            \n",
    "        # In every subsequent stage (1+2m)^(k-1) - (1+2m)^(k-2) nodes are added.\n",
    "        else:\n",
    "            no_deg_d = (1+2*m)**(k-1) - (1+2*m)**(k-2)\n",
    "        \n",
    "        # Find the total number of nodes in the network.\n",
    "        total = SHM_no_of_nodes(m, N)\n",
    "        \n",
    "        # The probability that a node has degree d is the number of nodes with degree d divided by the total number of nodes.\n",
    "        return no_deg_d/total\n",
    "\n",
    "    # For all other degrees, return 0.\n",
    "    else:\n",
    "        return 0"
   ]
  },
  {
   "cell_type": "markdown",
   "id": "13832046-a9ac-44ac-8330-947e72a33be3",
   "metadata": {},
   "source": [
    "The accuracy of the above function can be checked with the following function. It generates a SHM network and checks that the true probability $P(d)$ for degree $d$ is the same as the one calculated by `SHM_p1_degree_prob`."
   ]
  },
  {
   "cell_type": "code",
   "execution_count": 50,
   "id": "b7f311ed-27ab-44c8-81f7-d9ceef167ea2",
   "metadata": {
    "tags": []
   },
   "outputs": [],
   "source": [
    "def check_SHM_p0_degree_prob(m, d, N):\n",
    "    \"\"\"\n",
    "    Checks the accuracy of the calculated degree probability, according to analytical arguments in [4].\n",
    "    \n",
    "    Args:\n",
    "        m (int): The parameter m in the SHM network model [2]\n",
    "        d (int): The degree to find the probability density P(d) for.\n",
    "        N (int): The parameter N in the SHM network model [2]\n",
    "        \n",
    "    Returns:\n",
    "        (Bool): True if the two values agree, and False if they disagree. \n",
    "    \"\"\"\n",
    "    # Generate a SHM network with parameters m, N, p=0.\n",
    "    G = generate_SHM_model(m, 0, N, save=False)\n",
    "    \n",
    "    # Find a list of the degrees in the network.\n",
    "    degrees = [deg[1] for deg in G.degree()]\n",
    "    \n",
    "    # Count the number of nodes with degree d.\n",
    "    no_deg_d = degrees.count(d)\n",
    "    # The probability that a node has degree d is the number of nodes with degree d divided by the total number of nodes.\n",
    "    prob = no_deg_d/len(degrees)\n",
    "    \n",
    "    # Find the calculated probability according to the analytical arguments. \n",
    "    est_prob = SHM_p0_degree_prob(m, d, N)\n",
    "    \n",
    "    # Return True if the values agree, and False if not.\n",
    "    return prob == est_prob"
   ]
  },
  {
   "cell_type": "markdown",
   "id": "1684557d-e390-478a-9a4d-861fdfcd786e",
   "metadata": {
    "tags": []
   },
   "source": [
    "To calculate the entire degree distribution we need to calculate $P(d)$ for all possible $d$."
   ]
  },
  {
   "cell_type": "code",
   "execution_count": 53,
   "id": "1e3f3d43-4fff-4a0b-a54e-ba3010d561c8",
   "metadata": {
    "tags": []
   },
   "outputs": [],
   "source": [
    "def SHM_p0_degree_dist(m, N):\n",
    "    \"\"\"\n",
    "    Calculates the degree distribution of a SHM network with p=0\n",
    "    \n",
    "    Args:\n",
    "        m (int): The parameter m in the SHM network model to test [2]\n",
    "        N (int): The parameter N in the SHM network model [2]\n",
    "        \n",
    "    Returns: \n",
    "        degrees (list): A list of the degrees in the network.\n",
    "        degree_dist (list): A list of probabilities of a node having a given degree. \n",
    "    \"\"\"\n",
    "    # Initialise empty lists for the degrees and the degree distribution\n",
    "    degrees = []\n",
    "    degree_dist = []\n",
    "    \n",
    "    # Iterate through each of the generative stages 1, 2, ..., N\n",
    "    for k in range(N, 0, -1):\n",
    "        # The degree of a node added at time k is (1+m)^(N-k)\n",
    "        d = (1+m) ** (N-k)\n",
    "        # Add the degree d to the list of degrees.\n",
    "        degrees.append(d)\n",
    "        # Add the probability P(d) to the degree distribution.\n",
    "        degree_dist.append(SHM_p0_degree_prob(m, d, N))\n",
    "        \n",
    "    # Return the list of degrees and the degree distribution.\n",
    "    return degrees, degree_dist"
   ]
  },
  {
   "cell_type": "markdown",
   "id": "e9b41992-c2c5-477d-897c-dba0ceedec49",
   "metadata": {},
   "source": [
    "The accuracy of `SHM_p0_degree_dist` is checked using `check_SHM_p0_degree_dist`."
   ]
  },
  {
   "cell_type": "code",
   "execution_count": 56,
   "id": "79b00436-68c2-4c1c-a5ea-4c6c6386d9c5",
   "metadata": {
    "tags": []
   },
   "outputs": [],
   "source": [
    "def check_SHM_p0_degree_dist(m, N):\n",
    "    \"\"\"\n",
    "    Checks the accuracy of the calculated degree distribution, according to analytical arguments in [4].\n",
    "    \n",
    "    Args:\n",
    "        m (int): The parameter m in the SHM network model [2]\n",
    "        N (int): The parameter N in the SHM network model [2]\n",
    "        \n",
    "    Returns:\n",
    "        (Bool): True if the two distributions agree, and False if they disagree. \n",
    "    \"\"\"\n",
    "    # Generate a SHM network with parameters m, N, p=0.\n",
    "    G = generate_SHM_model(m, 0, N, save=False)\n",
    "    # Find the degree distribution.\n",
    "    degrees = [deg[1] for deg in G.degree()]\n",
    "    \n",
    "    # Find a sorted list of degrees without repetition.\n",
    "    unique_degrees = list(set(degrees))\n",
    "    unique_degrees.sort()\n",
    "    \n",
    "    # Initialise an empty list for the degree distribution.\n",
    "    degree_dist = []\n",
    "    \n",
    "    # For each of the degrees, find the number of occurrences and divide that by the total number of nodes.\n",
    "    for d in unique_degrees:\n",
    "        no_deg_d = degrees.count(d)\n",
    "        prob = no_deg_d/len(degrees)\n",
    "        # Add the probability to the degree distribution\n",
    "        degree_dist.append(prob)\n",
    "    \n",
    "    # Find the estimated degree distribution according to the analytical arguments. \n",
    "    _, est_degree_dist = SHM_p0_degree_dist(m, N)\n",
    "    \n",
    "    # Return True if the distributions are the same, and False otherwise. \n",
    "    return degree_dist == est_degree_dist"
   ]
  },
  {
   "cell_type": "markdown",
   "id": "be7b2580-9899-48e9-86fa-77f45f8e479a",
   "metadata": {},
   "source": [
    "**Degree Distribution for $p=1$**"
   ]
  },
  {
   "cell_type": "markdown",
   "id": "749c2568-2713-4b0b-8668-f9b97a68d67f",
   "metadata": {},
   "source": [
    "The following code calculates, according to the analytical arguments of [4], the probability $P(d)$ for a degree $d$ in the probability distribution of a SHM network with parameters $m$, $N$ and $p=1$."
   ]
  },
  {
   "cell_type": "code",
   "execution_count": 60,
   "id": "247a1cc9-e7ef-44a7-b890-6170e4f3e3c3",
   "metadata": {
    "tags": []
   },
   "outputs": [],
   "source": [
    "def SHM_p1_degree_prob(m, d, N):\n",
    "    \"\"\"\n",
    "    Calculates the probability P(d) for a given degree d in a SHM network with parameters m, N and p=1.\n",
    "    \n",
    "    Args:\n",
    "        m (int): The parameter m in the SHM network model [2]\n",
    "        d (int): The degree to find the probability density P(d) for.\n",
    "        N (int): The parameter N in the SHM network model [2]\n",
    "        \n",
    "    Returns:\n",
    "        (float): The probability P(d) from the degree distribution.\n",
    "    \"\"\"\n",
    "    # The maximum degree in a network with parameters m, N is m^(N-1) [4].\n",
    "    # Thus for any larger degree d, the probability of a node having degree d is 0.\n",
    "    if d > (m) ** (N-1):\n",
    "        return 0\n",
    "    \n",
    "    # All degrees in a SHM network are powers of m or 2 times a power of m.\n",
    "    power, is_power = exact_log(d, m) # Check if d is a power of m, and find the exponent.\n",
    "    double_power, is_double_power = exact_log(d/2, m) # Check if 1/2 d is a power of m, and find the exponent. \n",
    "    \n",
    "    # The only case where d and 1/2 are both powers of m is when m = 2.\n",
    "    # In this case, the calculation of the degree distribution is different. \n",
    "    if is_power and is_double_power:\n",
    "        # Find k, where k is the stage that the node is added. \n",
    "        # The degree of the node is d=m^(N-k), so if d=m^power, then power = N-k\n",
    "        k = N - power\n",
    "        \n",
    "        # If the node was added in the first stage, or if the node was added in the second stage by rewired, then k=1.\n",
    "        if k == 1:\n",
    "            # There are four such nodes, the 2 added in the first stage and the 2 rewired in the second stage.\n",
    "            no_deg_d = 4\n",
    "            \n",
    "        # If the node was added in any other stage, then calculate the number of nodes with this degree.\n",
    "        else:\n",
    "            # There are 2(m-1)(1+2m)^(k-2) nodes added in the k-th stage which aren't rewired,\n",
    "            #            and 2(1+2m)^(k-1) nodes added in the (k+1)-th stage which are rewired.\n",
    "            no_deg_d = 2 * (m-1) * (1+2*m)**(k-2) + 2 * (1+2*m)**(k-1)  \n",
    "        \n",
    "        # Find the total number of nodes.\n",
    "        total = SHM_no_of_nodes(m, N)\n",
    "        # The probability of a given node having degree d is the number of nodes with that degree divided by the total number of nodes.\n",
    "        return no_deg_d/total\n",
    "    \n",
    "    # The remaining code deals with all other cases when m != 2.\n",
    "    \n",
    "    # If d is a power of m, then d is the degree of a node added in the k-th stage which is not rewired, \n",
    "    #    where k is such that d = m ^ (n-k)\n",
    "    elif is_power:\n",
    "        # Find k\n",
    "        k = N - power\n",
    "        \n",
    "        # If the node was added in the first stage then k=1.\n",
    "        if k == 1:\n",
    "            # There are two nodes added in the first stage.\n",
    "            no_deg_d = 2\n",
    "            \n",
    "        # Otherwise, the number of nodes added in the k-th stage which aren't rewired is 2(m-1)(1+2m)^(k-2).\n",
    "        else:\n",
    "            no_deg_d = 2 * (m-1) * (1+2*m)**(k-2)\n",
    "            \n",
    "        # Find the total number of nodes.\n",
    "        total = SHM_no_of_nodes(m, N)\n",
    "        # The probability of a given node having degree d is the number of nodes with that degree divided by the total number of nodes.\n",
    "        return no_deg_d/total\n",
    "    \n",
    "    # If 1/2 d is a power of m, then d is the degree of a node added in the k-th stage which is rewired, \n",
    "    #    where k is such that d = 2 m ^ (n-k)\n",
    "    elif is_double_power:\n",
    "        # Find k\n",
    "        k = N - power\n",
    "        \n",
    "        # No nodes are rewired in the first stage, so we do not need to consider that case.\n",
    "        no_deg_d = 2 * (1+2*m)**(k-2)\n",
    "        \n",
    "        # Find the total number of nodes.\n",
    "        total = SHM_no_of_nodes(m, N)\n",
    "        # The probability of a given node having degree d is the number of nodes with that degree divided by the total number of nodes.\n",
    "        return no_deg_d/total\n",
    "    \n",
    "    # If the degree d is a not a power of m, or 1/2 d is not a power of m, then no nodes will have degree d.\n",
    "    # Thus the probability is 0.\n",
    "    else:\n",
    "        return 0"
   ]
  },
  {
   "cell_type": "markdown",
   "id": "e44f59cd-7163-4762-b4bf-368d16f0e09c",
   "metadata": {},
   "source": [
    "The accuracy of the above function can be checked with the following function. It generates a SHM network and checks that the true probability $P(d)$ for degree $d$ is the same as the one calculated by `SHM_p1_degree_prob`."
   ]
  },
  {
   "cell_type": "code",
   "execution_count": 63,
   "id": "b1985914-a2e6-4997-a3be-828eaa0a2aa7",
   "metadata": {
    "tags": []
   },
   "outputs": [],
   "source": [
    "def check_SHM_p1_degree_prob(m, d, N):\n",
    "    \"\"\"\n",
    "    Checks the accuracy of the calculated degree probability, according to analytical arguments in [4].\n",
    "    \n",
    "    Args:\n",
    "        m (int): The parameter m in the SHM network model [2]\n",
    "        d (int): The degree to find the probability density P(d) for.\n",
    "        N (int): The parameter N in the SHM network model [2]\n",
    "        \n",
    "    Returns:\n",
    "        (Bool): True if the two values agree, and False if they disagree. \n",
    "    \"\"\"\n",
    "    # Generate a SHM network with parameters m, N, p=1.\n",
    "    G = generate_SHM_model(m, 1, N, save=False)\n",
    "    \n",
    "    # Find a list of the degrees in the network.\n",
    "    degrees = [deg[1] for deg in G.degree()]\n",
    "    \n",
    "    # Count the number of nodes with degree d.\n",
    "    no_deg_d = degrees.count(d)\n",
    "    # The probability that a node has degree d is the number of nodes with degree d divided by the total number of nodes.\n",
    "    prob = no_deg_d/len(degrees)\n",
    "    \n",
    "    # Find the calculated probability according to the analytical arguments. \n",
    "    est_prob = SHM_p1_degree_prob(m, d, N)\n",
    "    \n",
    "    # Return True if the values agree, and False if not.\n",
    "    return prob == est_prob"
   ]
  },
  {
   "cell_type": "markdown",
   "id": "110c1cf4-64f5-4f18-a22c-814cce83d89a",
   "metadata": {},
   "source": [
    "To calculate the entire degree distribution we need to calculate $P(d)$ for all possible $d$."
   ]
  },
  {
   "cell_type": "code",
   "execution_count": 66,
   "id": "9a3d01f0-38fb-4840-bda4-d619541dd151",
   "metadata": {
    "tags": []
   },
   "outputs": [],
   "source": [
    "def SHM_p1_degree_dist(m, N):\n",
    "    \"\"\"\n",
    "    Calculates the degree distribution of a SHM network with p=0\n",
    "    \n",
    "    Args:\n",
    "        m (int): The parameter m in the SHM network model to test [2]\n",
    "        N (int): The parameter N in the SHM network model [2]\n",
    "        \n",
    "    Returns: \n",
    "        degrees (list): A list of the degrees in the network.\n",
    "        degree_dist (list): A list of probabilities of a node having a given degree, where degree_dist[i] is P(degrees[i])\n",
    "    \"\"\"\n",
    "    # Initialise empty lists for the degrees and degree distribution. \n",
    "    degrees = []\n",
    "    degree_dist = []\n",
    "\n",
    "    # The degree distribution behaves different for m=2, so we consider this case separately.\n",
    "    if m == 2:\n",
    "        # Iterate through each of the generative stages 1, 2, ..., N\n",
    "        for k in range(N, 0, -1):\n",
    "            # The degree of nodes generated at stage k is m^(N-k)\n",
    "            # For m=2, nodes generates at stage k+1 which are rewired also have degree m^(N-k)\n",
    "            d = (m) ** (N-k)\n",
    "            \n",
    "            # Add the degree d to the list of degrees, and the probability P(d) to the degree distribution.\n",
    "            degrees.append(d)\n",
    "            degree_dist.append(SHM_p1_degree_prob(m, d, N))\n",
    "            \n",
    "    # The following code deals with the case when m != 2.\n",
    "    else:\n",
    "        # Iterate through each of the generative stages 1, 2, ..., N\n",
    "        for k in range(N, 0, -1):\n",
    "            \n",
    "            # The degree of nodes generated at stage k is m^(N-k)\n",
    "            d = (m) ** (N-k)\n",
    "            # Add the degree d to the list of degrees, and the probability P(d) to the degree distribution.\n",
    "            degrees.append(d)\n",
    "            degree_dist.append(SHM_p1_degree_prob(m, d, N))\n",
    "            \n",
    "            # For all stages except the first, there are also some nodes which are rewired. \n",
    "            # These have degree 2m^(N-k)\n",
    "            if not k ==1 :\n",
    "                d = 2*(m) ** (N-k)\n",
    "                \n",
    "                # Add the degree d to the list of degrees, and the probability P(d) to the degree distribution.\n",
    "                degrees.append(d)\n",
    "                degree_dist.append(SHM_p1_degree_prob(m, d, N))\n",
    "    \n",
    "    # Return the list of degrees and the degree distribution.\n",
    "    return degrees, degree_dist"
   ]
  },
  {
   "cell_type": "markdown",
   "id": "0b8c85b8-5400-40e7-bb66-e3ecdb2ba708",
   "metadata": {},
   "source": [
    "The accuracy of `SHM_p1_degree_dist` is checked using `check_SHM_p1_degree_dist`."
   ]
  },
  {
   "cell_type": "code",
   "execution_count": 69,
   "id": "a97216cf-984c-4ee5-bb10-8d9d81edb3e8",
   "metadata": {
    "tags": []
   },
   "outputs": [],
   "source": [
    "def check_SHM_p1_degree_dist(m, N):\n",
    "    \"\"\"\n",
    "    Checks the accuracy of the calculated degree distribution, according to analytical arguments in [4].\n",
    "    \n",
    "    Args:\n",
    "        m (int): The parameter m in the SHM network model [2]\n",
    "        N (int): The parameter N in the SHM network model [2]\n",
    "        \n",
    "    Returns:\n",
    "        (Bool): True if the two distributions agree, and False if they disagree. \n",
    "    \"\"\"\n",
    "    # Generate a SHM network with parameters m, N, p=1.\n",
    "    G = generate_SHM_model(m, 1, N, save=False)\n",
    "    # Find the degree distribution.\n",
    "    degrees = [deg[1] for deg in G.degree()]\n",
    "    \n",
    "    # Find a sorted list of degrees without repetition.\n",
    "    unique_degrees = list(set(degrees))\n",
    "    unique_degrees.sort()\n",
    "    \n",
    "    # Initialise an empty list for the degree distribution.\n",
    "    degree_dist = []\n",
    "    \n",
    "    # For each of the degrees, find the number of occurrences and divide that by the total number of nodes.\n",
    "    for d in unique_degrees:\n",
    "        no_deg_d = degrees.count(d)\n",
    "        prob = no_deg_d/len(degrees)\n",
    "        # Add the probability to the degree distribution\n",
    "        degree_dist.append(prob)\n",
    "    \n",
    "    # Find the estimated degree distribution according to the analytical arguments. \n",
    "    _, est_degree_dist = SHM_p1_degree_dist(m, N)\n",
    "\n",
    "    # Return True if the distributions are the same, and False otherwise. \n",
    "    return degree_dist == est_degree_dist"
   ]
  },
  {
   "cell_type": "markdown",
   "id": "5b1e82d4-55b2-4e92-8602-9aed97233cd5",
   "metadata": {},
   "source": [
    "**Scale-Free Property**"
   ]
  },
  {
   "cell_type": "markdown",
   "id": "4a3228e7-7688-42d4-82d2-373b5d3aeed1",
   "metadata": {},
   "source": [
    "If the SHM network is scale-free then its degree distribution follows a power law of the form $P(k) \\sim Ak^{\\lambda}$ where $A$ and $\\lambda$ are constants. Analytical arguments in [4] show that we expect the value of $\\lambda$ to be, \n",
    "\\begin{equation}\\lambda = \\frac{\\ln (1+2m)}{\\ln (1+m)}, \\end{equation} when $p=0$ and \\begin{equation}\\lambda = \\frac{\\ln (1+2m)}{\\ln m}, \\end{equation} when $p=1$."
   ]
  },
  {
   "cell_type": "code",
   "execution_count": 73,
   "id": "4edc2e7a-cfef-4a5a-a779-c162dc3be4a9",
   "metadata": {
    "tags": []
   },
   "outputs": [],
   "source": [
    "def check_SHM_p0_lambda(m_max, N, plot=False, verbose=False):\n",
    "    \"\"\"\n",
    "    Verfies that the analytical result for lambda agrees with the empirical result. \n",
    "    \n",
    "    Args:\n",
    "        m (int): The maximum value of parameter m in the SHM network model to test [2]\n",
    "        N (int): The parameter N in the SHM network model [2]\n",
    "        plot (Bool) (opt): If True, plots a comparison of the results. Default is False.\n",
    "        verbose (Bool) (opt): If True, prints results to terminal. Default is False. \n",
    "        \n",
    "    Returns:\n",
    "        empirical (list): A list of the values of lambda found by fitting a power law distribution to empirical data.\n",
    "        analystical (list): A list of the values of lambda determined by the analytical argument in [4]\n",
    "    \"\"\"\n",
    "     \n",
    "    # Initialise empty lists to store the empirical and analytical results.\n",
    "    empirical = []\n",
    "    analytical = []\n",
    "    power = []\n",
    "    \n",
    "    # Create a list of all possible values of m\n",
    "    ms = [m for m in range(2, 51)]\n",
    "    \n",
    "    # Iterate over each possible m\n",
    "    for m in ms:\n",
    "        # Find the degree distribution\n",
    "        degrees, degree_dist = SHM_p0_degree_dist(m, N)\n",
    "        # Fit a power law curve to the distribution and find the parameters characterising the best fit\n",
    "        best_fit, _ = find_best_fractal_fit(degrees, degree_dist, A_min=0.5, A_max=1.2, c_min = 1, c_max = 1.5, linspace_N=1001)\n",
    "        # Calculate the estimated value of lambda according to analytical results.\n",
    "        est_lambda = math.log(1+2*m) / math.log(1+m)\n",
    "        fit = powerlaw.Fit(degree_dist, discrete=True, verbose=False)\n",
    "        \n",
    "        # Add the results to their respective lists. \n",
    "        empirical.append(best_fit[1])\n",
    "        analytical.append(est_lambda)\n",
    "        power.append(fit.alpha + 0.1)\n",
    "    \n",
    "    # If verbose is True print the results.\n",
    "    if verbose:\n",
    "        print(\"Analytical Result\", analytical)\n",
    "        print(\"Empirical Result\", empirical)\n",
    "        \n",
    "    # If plot is True plot the results. \n",
    "    if plot:\n",
    "        plt.figure(figsize=(8,4))\n",
    "        plt.plot(ms, analytical, label=\"Analytical Result\", color =\"navy\")\n",
    "        plt.plot(ms, empirical, label=\"Empirical Result\", color =\"crimson\")\n",
    "        plt.plot(ms, power, label=\"Powerlaw\", color =\"yellow\")\n",
    "        plt.suptitle(\"Degree Distribution of the Song-Havlin-Makse Network with $p=0$\")\n",
    "        plt.title(\"Comparison of Power Law Coefficient $\\lambda$ found by Empirical and Analytical Methods\", fontsize=10)\n",
    "        plt.xlabel(\"$m$\")\n",
    "        plt.ylabel(\"$\\lambda$\")\n",
    "        plt.legend()\n",
    "        plt.show()\n",
    "    \n",
    "    # Return the results from both methods as lists. \n",
    "    return empirical, analytical"
   ]
  },
  {
   "cell_type": "markdown",
   "id": "3c4d90bb-6d39-42d4-8fda-9cb49916e57b",
   "metadata": {},
   "source": [
    "The function below is incomplete."
   ]
  },
  {
   "cell_type": "code",
   "execution_count": 76,
   "id": "dd60b291-1a26-4430-b17c-9782be416118",
   "metadata": {
    "tags": []
   },
   "outputs": [],
   "source": [
    "def check_SHM_p1_lambda(m_max, N, plot=False, verbose=False):\n",
    "    \"\"\"\n",
    "    Verfies that the analytical result for lambda agrees with the empirical result. \n",
    "    \n",
    "    Args:\n",
    "        m (int): The maximum value of parameter m in the SHM network model to test [2]\n",
    "        N (int): The parameter N in the SHM network model [2]\n",
    "        plot (Bool) (opt): If True, plots a comparison of the results. Default is False.\n",
    "        verbose (Bool) (opt): If True, prints results to terminal. Default is False. \n",
    "        \n",
    "    Returns:\n",
    "        empirical (list): A list of the values of lambda found by fitting a power law distribution to empirical data.\n",
    "        analystical (list): A list of the values of lambda determined by the analytical argument in [4]\n",
    "    \"\"\"\n",
    "     \n",
    "    # Initialise empty lists to store the empirical and analytical results.\n",
    "    empirical = []\n",
    "    analytical = []\n",
    "    #power = []\n",
    "    \n",
    "    # Create a list of all possible values of m\n",
    "    ms = [m for m in range(3, m_max + 1)]\n",
    "    \n",
    "    # Iterate over each possible m\n",
    "    for m in ms:\n",
    "        #print(\"\\n\")\n",
    "        #print(\"m:\", m)\n",
    "        # Find the degree distribution\n",
    "        degrees, degree_dist = SHM_p1_degree_dist(m, N)\n",
    "        #print(degrees, degree_dist)\n",
    "        # Fit a power law curve to the distribution and find the parameters characterising the best fit\n",
    "        best_fit, _ = find_best_fractal_fit(degrees, degree_dist, A_min=0, A_max=100, c_min = 0, c_max = 10, linspace_N=1001)\n",
    "        #print(\"Best Fit:\", best_fit)\n",
    "        #fit = powerlaw.Fit(degree_dist, discrete=True)\n",
    "        #print(\"Powerlaw Fit:\", fit.alpha)\n",
    "        #plt.plot(degrees, degree_dist, label = \"dist\")\n",
    "        #plt.plot(degrees, [best_fit[0]*d**(-best_fit[1]) for d in degrees], label=\"est\")\n",
    "        #plt.legend()\n",
    "        #plt.show()\n",
    "        # Calculate the estimated value of lambda according to analytical results.\n",
    "        est_lambda = math.log(1+2*m) / math.log(m)\n",
    "        #fit = powerlaw.Fit(degree_dist, discrete=True, verbose=False)\n",
    "        #print(\"Lambda:\", est_lambda)\n",
    "        #plt.figure(figsize=(50,25))\n",
    "        #plt.plot(degrees, degree_dist, label=\"True\")\n",
    "        #plt.plot(degrees, [best_fit[0]*d**(-best_fit[1]) for d in degrees], label=\"Best Fit\")\n",
    "        #plt.plot(degrees, [best_fit[0]*d**(-fit.alpha) for d in degrees], label=\"Powerlaw\")\n",
    "        #plt.plot(degrees, [best_fit[0]*d**(-est_lambda) for d in degrees], label=\"Lambda\")\n",
    "        #plt.legend()\n",
    "        #plt.savefig('TEST.png')\n",
    "        ##plt.show()\n",
    "        #print(\"Best Fit SSR:\", sum_of_squares_deviation(degree_dist,  [best_fit[0]*d**(-best_fit[1]) for d in degrees]))\n",
    "        #print(\"Powerlaw SSR:\", sum_of_squares_deviation(degree_dist,  [best_fit[0]*d**(-fit.alpha) for d in degrees]))\n",
    "        #print(\"Lambda SSR:\", sum_of_squares_deviation(degree_dist,  [best_fit[0]*d**(-est_lambda) for d in degrees]))\n",
    "        #print(\"Best Fit SSR:\", sum_of_squares_deviation_test(degree_dist,  [best_fit[0]*d**(-best_fit[1]) for d in degrees]))\n",
    "        #print(\"Powerlaw SSR:\", sum_of_squares_deviation_test(degree_dist,  [best_fit[0]*d**(-fit.alpha) for d in degrees]))\n",
    "        #print(\"Lambda SSR:\", sum_of_squares_deviation_test(degree_dist,  [best_fit[0]*d**(-est_lambda) for d in degrees]))\n",
    "        \n",
    "        \n",
    "        #best_test_fit, test_score = find_best_fractal_fit(degrees, degree_dist, A_min=0, A_max=10, c_min = fit.alpha-0.1, c_max = fit.alpha+0.1, linspace_N=1001)\n",
    "        #print(test_score)\n",
    "        #print(best_test_fit)\n",
    "        # Add the results to their respective lists. \n",
    "        empirical.append(best_fit[1])\n",
    "        analytical.append(est_lambda)\n",
    "        #power.append(fit.alpha)\n",
    "    \n",
    "    # If verbose is True print the results.\n",
    "    if verbose:\n",
    "        print(\"Analytical Result\", analytical)\n",
    "        print(\"Empirical Result\", empirical)\n",
    "        \n",
    "    # If plot is True plot the results. \n",
    "    if plot:\n",
    "        plt.figure(figsize=(8,4))\n",
    "        plt.plot(ms, analytical, label=\"Analytical Result\", color =\"navy\")\n",
    "        plt.plot(ms, empirical, label=\"Empirical Result\", color =\"crimson\")\n",
    "        #plt.plot(ms, power, label=\"Power\", color =\"yellow\")\n",
    "        #plt.plot(ms, [10*m**(-fit.alpha) for m in ms], label = \"Test\")\n",
    "        plt.suptitle(\"Degree Distribution of the Song-Havlin-Makse Network with $p=0$\")\n",
    "        plt.title(\"Comparison of Power Law Coefficient $\\lambda$ found by Empirical and Analytical Methods\", fontsize=10)\n",
    "        plt.xlabel(\"$m$\")\n",
    "        plt.ylabel(\"$\\lambda$\")\n",
    "        plt.legend()\n",
    "        plt.show()\n",
    "    \n",
    "    # Return the results from both methods as lists. \n",
    "    return empirical, analytical"
   ]
  },
  {
   "cell_type": "markdown",
   "id": "890270bb-843a-45a6-acf5-9359bb6d59aa",
   "metadata": {
    "tags": []
   },
   "source": [
    "<h1> 4 Utilities"
   ]
  },
  {
   "cell_type": "markdown",
   "id": "8e82fef2-e3e0-4617-ac5b-d78f441e1b7c",
   "metadata": {},
   "source": [
    "<h2> 4.1 Utility Functions </h2>\n",
    "    \n",
    "The following functions are those which perform routine calculations."
   ]
  },
  {
   "cell_type": "code",
   "execution_count": 80,
   "id": "359c402d-1028-4dfd-aba9-517cf3fb97b7",
   "metadata": {
    "tags": []
   },
   "outputs": [],
   "source": [
    "def exact_log(x, y):\n",
    "    \"\"\"\n",
    "    Finds the exact logarithm of x base y.\n",
    "    \n",
    "    Args:\n",
    "        x (int): The value of x.\n",
    "        y (int): The logarithm base.\n",
    "        \n",
    "    Returns:\n",
    "        power (int): The floor of the power, where y^power = x.\n",
    "        x==1 (Bool): True if x is an exact power of y, False otherwise. \n",
    "    \"\"\"\n",
    "    power = 0\n",
    "    while (x%y == 0):\n",
    "        x = x/y\n",
    "        power += 1\n",
    "    return power, x==1"
   ]
  },
  {
   "cell_type": "markdown",
   "id": "bf78128e-1dfd-4bf4-8361-98dc0d15e080",
   "metadata": {},
   "source": [
    "<h2> 4.2 Box-Covering and Renormalisation"
   ]
  },
  {
   "cell_type": "markdown",
   "id": "6a5e2e04-e073-4770-8c3e-3b810833bad2",
   "metadata": {},
   "source": [
    "The following functions are from the notebook `box-covering.ipynb` and perform tasks related to box-covering and renormalisation of the network. For more details, see the tutorial or docstrings in `box-covering.ipynb`."
   ]
  },
  {
   "cell_type": "code",
   "execution_count": 84,
   "id": "5eceb5ea-457e-475c-ba57-58767fa1b912",
   "metadata": {
    "tags": []
   },
   "outputs": [],
   "source": [
    "def accelerated_MEMB(G, lB):\n",
    "    \"\"\"\n",
    "    Implements the Maximal Excluded Mass Burning algorithm as according to [1], with accelerated performance.\n",
    "    Rather than calculating the excluded mass for all nodes at each stage, calculate the excluded mass of the node with the next highest excluded mass in the previous stage.\n",
    "    Then reject all nodes with excluded mass in the previous stage less than this value (excluded mass can only decrease between stages)\n",
    "    Repeat until only one node is left, and this becomes the next p.\n",
    "    Note: Only works for odd numbers of lB, otherwise it takes rB to be the floor of (lB-1)/2 which is the same as for the odd lB-1.\n",
    "    \n",
    "    Args: \n",
    "        G (igraph.Graph): The network the algorithm is to be applied to. \n",
    "        lB (int): The diameter of the boxes used to cover the network.\n",
    "\n",
    "    Returns: \n",
    "        centres (list): A list of nodes assigned to be centres under the MEMB algorithm. \n",
    "    \"\"\"\n",
    "    \n",
    "    # If the diameter lB is less than or equal to 2, then the maximum radius is 0 and so every node is in its own box.\n",
    "    if lB == 1 or lB == 2:\n",
    "        return list([v[\"label\"] for v in G.vs()])\n",
    "    \n",
    "    # Each box can have diameter of up to lB, so the maximum radius is rB = (lB-1)/2.\n",
    "    rB = int((lB-1)/2)\n",
    "    \n",
    "    # Initialise empty lists for the covered and centre nodes. \n",
    "    centres = []\n",
    "    covered = []\n",
    "    \n",
    "    # The labels of the uncovered nodes are 0, ..., n-1 where n is the order of the network.\n",
    "    uncovered = [i for i in range(G.vcount())]\n",
    "    \n",
    "    # Initialise an empty dictionary for the excluded mass of each node.\n",
    "    excluded_mass = {}\n",
    "    \n",
    "    # For each node, calculate the initial excluded mass by finding the number of neighbours within a radius rB.\n",
    "    for node in G.vs():\n",
    "        excluded_mass[node] = G.neighborhood_size(node, order=rB)\n",
    "        \n",
    "    # Rank the non-centre nodes in order from highest excluded mass to lowest. \n",
    "    ordered_list = sorted(excluded_mass.items(), key=lambda item: item[1], reverse=True)\n",
    "    \n",
    "    # On the initial iteration, set maiden to True.\n",
    "    maiden = True\n",
    "    \n",
    "    # The first value of p is that in the 1st position in the ordered list. \n",
    "    p_value = ordered_list[0]\n",
    "    \n",
    "    # Iterate while there are still uncovered nodes in the network.\n",
    "    while len(uncovered) > 0:\n",
    "\n",
    "        # If it is not the first iteration, then find the values for the next iteration.\n",
    "        if not maiden:\n",
    "            # Find the next p using the method described above. \n",
    "            ordered_list, p_value = find_next_centre(G, covered, rB, ordered_list)\n",
    "            # Reorder the list according to decreasing excluded mass. \n",
    "            # Note at this stage, that some of the nodes have their excluded mass from different stages of the iterative process. \n",
    "            # This does not affect the outcome. \n",
    "            ordered_list = sorted(ordered_list, key=lambda x:x[1], reverse=True).copy()\n",
    "        else:\n",
    "            # If this is the first iteration then reset the maiden variable. \n",
    "            maiden = False\n",
    "    \n",
    "        # Take the label of the node to be the next p. \n",
    "        p = int(p_value[0][\"label\"])\n",
    "        # Add p to the list of centres.\n",
    "        centres.append(p)\n",
    "        # Remove p from the list of non-centres. \n",
    "        ordered_list.remove(p_value)\n",
    "        \n",
    "        # Find the neighbours of the new centre p within a radius rB.\n",
    "        neighbours = G.neighborhood(p, order=rB)\n",
    "        # Cover each of the nodes in this radius, and remove them from the list of uncovered nodes. \n",
    "        for neighbour in neighbours:\n",
    "            if neighbour in uncovered:\n",
    "                covered.append(neighbour)\n",
    "                uncovered.remove(neighbour)\n",
    "    \n",
    "    # Return the list of centres found. \n",
    "    return centres\n",
    "\n",
    "def find_next_centre(G, covered, rB, ordered_list):\n",
    "    \"\"\"\n",
    "    Find the node with the next highest excluded mass to be the next centre. \n",
    "    \n",
    "    Args:\n",
    "        G (igraph.Graph): The network to be analysed. \n",
    "        covered (list): A list of indices for the covered nodes in the network at the current stage. \n",
    "        rB (int): The radius of boxes to be found.\n",
    "        ordered_list (list): A list of tuples containing the nodes of the network and their most recently updated excluded mass, in decreasing order of excluded mass. \n",
    "        \n",
    "    Returns:\n",
    "        ordered_list (list): An updated version of the ordered list.\n",
    "        p (tuple): The new centre value and its excluded mass.\n",
    "    \"\"\"\n",
    "    \n",
    "    # Create a copy of the ordered list in its current state. \n",
    "    working_list = ordered_list.copy()\n",
    "    \n",
    "    # Start from the first node in the list.\n",
    "    index = 0\n",
    "    \n",
    "    # Initialise an empty variable to store the maximum excluded mass.\n",
    "    max_excluded_mass = 0\n",
    "    \n",
    "    # The working list stores all options for the next value of p.\n",
    "    # Iterate whilst there are still multiple options for the next centre p.\n",
    "    while len(working_list)>1:\n",
    "        \n",
    "        # Take the next available node in the list.\n",
    "        node = working_list[index]\n",
    "        \n",
    "        # Update the excluded mass for this node with the new covered nodes. \n",
    "        new_excluded_mass = update_excluded_mass(G, covered, node[0], rB)\n",
    "        \n",
    "        # If this is the new maximum then update the values.\n",
    "        if new_excluded_mass > max_excluded_mass:\n",
    "            max_excluded_mass = new_excluded_mass\n",
    "            \n",
    "            # Remove all nodes from the list of potential centres which have an excluded mass less than the current maximum\n",
    "            working_list = list(filter(lambda x: x[1] > max_excluded_mass, working_list)).copy()\n",
    "            \n",
    "            # Add the current node back to the list if it has been removed. \n",
    "            if node[1] == new_excluded_mass:\n",
    "                working_list.append(node)\n",
    "\n",
    "            # Update the excluded mass for the node in the ordered list. \n",
    "            i = ordered_list.index(node)\n",
    "            ordered_list[i] = (node[0], new_excluded_mass)\n",
    "            \n",
    "            # Update the excluded mass for the node in the working list. \n",
    "            j = working_list.index(node)\n",
    "            working_list[j] = (node[0], new_excluded_mass)\n",
    "            \n",
    "            # Look for the next node in the ordered list.\n",
    "            index = j + 1\n",
    "            \n",
    "        # If the node is not the new maximum, i.e. it is less than some other value, then remove it from the working list.\n",
    "        else:\n",
    "            # Find the node in the list and remove it.\n",
    "            i = ordered_list.index(node)\n",
    "            ordered_list[i] = (node[0], new_excluded_mass)\n",
    "            working_list.pop(index)\n",
    "         \n",
    "    # The final remaining node is the new centre p.\n",
    "    p = working_list[0]\n",
    "\n",
    "    # Return the new centre and the ordered list of nodes. \n",
    "    return ordered_list, p\n",
    "\n",
    "def update_excluded_mass(G, covered, node, rB):\n",
    "    \"\"\"\n",
    "    Update the excluded mass for the given node with the current list of covered nodes. \n",
    "    \n",
    "    Args:\n",
    "        G (igraph.Graph): The network to be analysed. \n",
    "        covered (list): A list of the nodes which are currently covered in the network.\n",
    "        node (igraph.Vertex): The node whose excluded mass is to be updated. \n",
    "        rB (int): The radius of the boxes for the box covering. \n",
    "        \n",
    "    Returns:\n",
    "        excluded_mass (int): The updated excluded mass for the given node. \n",
    "    \"\"\"\n",
    "    # Find all neighbours of the node within radius rB.\n",
    "    neighbourhood = G.neighborhood(node, order=rB)\n",
    "    # Find the number of those which are not yet covered. \n",
    "    excluded_mass = len(set(neighbourhood)-set(covered))\n",
    "    # Return the updated excluded mass. \n",
    "    return excluded_mass"
   ]
  },
  {
   "cell_type": "code",
   "execution_count": 86,
   "id": "f10e7851-69da-4a63-8eb7-c18e629cf7ee",
   "metadata": {
    "tags": []
   },
   "outputs": [],
   "source": [
    "def renormalise_graph(G, boxes, nodes_to_boxes, draw=False):\n",
    "    \"\"\"\n",
    "    Renormalise a graph under a given box-covering.\n",
    "    \n",
    "    Args:\n",
    "        G (igraph.Graph): The network to be analysed. \n",
    "        boxes (dict): A dictionary with boxes as keys and a list of nodes in that box as the value. \n",
    "        nodes_to_boxes (dict): A dictionary with nodes as keys and their corresponding boxes as values. \n",
    "        draw (Bool) (opt): If True then displays the renormalised graph. Default is False. \n",
    "        \n",
    "    Returns: \n",
    "        renormalisedG (networkx.Graph): The network under renormalisation.\n",
    "    \"\"\"\n",
    "    # Initialise an empty graph to be the renormalised graph of G. \n",
    "    renormalisedG = Graph()\n",
    "\n",
    "    # Add one supernode for each of the boxes found under the MEMB algorithm.\n",
    "    box_list = list(boxes.keys())\n",
    "    for box in box_list:\n",
    "        renormalisedG.add_vertices([box])\n",
    "        \n",
    "    for node in renormalisedG.vs():\n",
    "        node[\"label\"] = str(node[\"name\"])\n",
    "        node[\"id\"] = float(node[\"name\"])\n",
    "        \n",
    "\n",
    "    # Iterate through each of the edges in the original graph.\n",
    "    for edge in G.es():\n",
    "        \n",
    "        # Find the nodes originally connected by the edge.\n",
    "        source = edge.source\n",
    "        target = edge.target\n",
    "        \n",
    "        # Find the supernodes these nodes now belong to.\n",
    "        renormalised_source = nodes_to_boxes[int(source)]\n",
    "        renormalised_target = nodes_to_boxes[int(target)]\n",
    "        \n",
    "        # Create a new edge between the supernodes. \n",
    "        renormalisedG.add_edges([(renormalised_source, renormalised_target)])\n",
    "        \n",
    "    # Simplify the graph by removing any self loops (edges from a supernode to itself).\n",
    "    renormalisedG.simplify()\n",
    "\n",
    "    \n",
    "    if draw:\n",
    "        \n",
    "        nxG = renormalisedG.to_networkx()\n",
    "\n",
    "       \n",
    "        nx.draw_kamada_kawai(nxG, node_color = list(nxG.nodes()))\n",
    "        \n",
    "    # Return the renormalised graph.\n",
    "    return renormalisedG\n",
    "\n",
    "def find_boxes_and_renormalise_iteration(G, lB, iter_count=1, filepath=\"graph\", method=accelerated_MEMB, draw=False):\n",
    "    \"\"\"\n",
    "    Performs one iteration of box covering and renormalisation. \n",
    "    Stores all results in new files. \n",
    "    \n",
    "    Args:\n",
    "        G (igraph.Graph): The network to be analysed. \n",
    "        lB (int): The diameter of the boxes for the box covering. \n",
    "        iter_count (int) (opt): The current iteration number. Default is 1 if no value is given.\n",
    "        filepath (str) (opt): The path to which the resulting box covered and renormalised graphs will be saved. Default is \"graph\".\n",
    "        method (func) (opt): The MEMB method used to find the box covering. Default is degree_based_MEMB.\n",
    "        draw (Bool) (opt): If True then display the networks. Default is False.\n",
    "        \n",
    "    Returns:\n",
    "        renormalisedG (igraph.Graph): The network after box renormalisation.\n",
    "    \"\"\"\n",
    "\n",
    "    # Find the list of centres using the given MEMB method.\n",
    "    centres = method(G, lB)\n",
    "    \n",
    "    # Calculate the central distance for each node. \n",
    "    central_distance = find_central_distance(G, centres)\n",
    " \n",
    "    # Assign each node to a box. \n",
    "    nodes_to_boxes = assign_nodes_to_boxes(G, centres, central_distance)\n",
    "    \n",
    "    # Initialise an empty colour map for the box covering visualiation.\n",
    "    colourmap = []\n",
    "    \n",
    "    # For each node, assign it the colour of its box ID.\n",
    "    for node in range(G.vcount()):\n",
    "        colourmap.append(nodes_to_boxes[int(node)])\n",
    "        \n",
    "    nxG = G.to_networkx()\n",
    "        \n",
    "    # If draw is True then display the graph with the colours indicating the box the node belongs to.\n",
    "    if draw:\n",
    "        plt.figure(1)\n",
    "        nx.draw_kamada_kawai(nxG, node_color = colourmap)\n",
    "        plt.figure(2) # Start a second figure for the renormalised graph\n",
    "        \n",
    "    # Find a list of nodes for each of the boxes. \n",
    "    boxes = find_boxes(nodes_to_boxes, centres)\n",
    "    \n",
    "    # Create a file path to store the graph with the box covering.\n",
    "    boxes_file_path = filepath + \"/boxes_iter_\" + str(iter_count) + \".gml\"\n",
    "    # Export the graph to gephi using the boxes to colour the nodes.\n",
    "    #export_to_gephi(nxG, nodes_to_boxes, boxes_file_path)\n",
    "    \n",
    "    # Create a file path to store the renormalised graph.\n",
    "    renormalised_file_path = filepath + \"/renormalised_iter_\" + str(iter_count) + \".gml\"\n",
    "    # Find the renormalised graph and draw it if draw is true.\n",
    "    renormalisedG = renormalise_graph(G, boxes, nodes_to_boxes, draw=draw)\n",
    "    \n",
    "    # The nodes in the renormalised graph should be coloured the same as the boxes they originated from.\n",
    "    # Create a dictionary which assigns each node the colour of the box (which is the same as the name of the supernode/box)\n",
    "    gephi_dict = {}\n",
    "    for node in range(renormalisedG.vcount()):\n",
    "        gephi_dict[node] = node\n",
    "        \n",
    "    nx_renormalisedG = renormalisedG.to_networkx()\n",
    "    \n",
    "    # Export the renormalised graph to gephi.\n",
    "    # export_to_gephi(renormalisedG, gephi_dict, renormalised_file_path)\n",
    "    \n",
    "    # If draw is True then display the graphs.\n",
    "    if draw:\n",
    "        plt.show()\n",
    "        \n",
    "    # Return the renormalised graph.\n",
    "    return renormalisedG\n",
    "\n",
    "def renormalise_iteratively(filepath, lB, method=accelerated_MEMB, draw=False):\n",
    "    \"\"\"\n",
    "    Iteratively finds the box covering and then renormalises the network until only one node is left. \n",
    "    \n",
    "    Args:\n",
    "        filepath (str): The filepath to the network file. \n",
    "        lB (int): The diameter of the boxes for the box covering. \n",
    "        method (func) (opt): The MEMB method used to find the box covering. Default is degree_based_MEMB.\n",
    "        draw (Bool) (opt): If True then display the networks. Default is False.\n",
    "        \n",
    "    Returns:\n",
    "        None\n",
    "    \"\"\"\n",
    "    \n",
    "    # Read the graph in from the given filepath.\n",
    "    G = Graph.Load(filepath)\n",
    "    \n",
    "    # Take the name of the file without the file type extension and folders as the path to save the results to.\n",
    "    savepath = filepath.split('.')[0] # Remove type extension\n",
    "    savepath = savepath.split('/',1)[1] # Remove the network-files folder\n",
    "    savepath = \"result-files/\" + savepath # Add the path to the result files\n",
    "    savepath = savepath + \"_\" + datetime.today().strftime('%d-%m-%Y') # Add todays date to the filepath in case of duplicates. \n",
    "    \n",
    "    if not os.path.exists(savepath):\n",
    "        os.makedirs(savepath) # Make a new folder to store the results\n",
    "    else: # If such a folder already exists then raise an error. \n",
    "        raise ValueError('A folder {0} already exists for this graph today. Please change the name of this folder manually and try again.'.format(savepath))\n",
    "    \n",
    "    # Start with the graph given.\n",
    "    current_graph = G.copy()\n",
    "    # Set a counter for the number of iterations. \n",
    "    iter_count = 1\n",
    "    \n",
    "    # Keep renormalising while there are multiple nodes in the graph.\n",
    "    while current_graph.vcount() > 1:\n",
    "        # Find the box covering and renormalise the graph.\n",
    "        new_graph = find_boxes_and_renormalise_iteration(current_graph, lB, iter_count=iter_count, filepath=savepath, method=method, draw=draw)\n",
    "\n",
    "        # Update the current graph.\n",
    "        current_graph = new_graph.copy()\n",
    "        # Increment the counter. \n",
    "        iter_count += 1\n",
    "        \n",
    "\n",
    "def find_central_distance(G, centres):\n",
    "    \"\"\"\n",
    "    Finds the central distance for each node in a network given a list of centres. \n",
    "    \n",
    "    Args:\n",
    "        G (igraph.Graph): The network to be analysed. \n",
    "        centres (list): A list of centre nodes from the MEMB algorithm. \n",
    "        \n",
    "    Returns:\n",
    "        central_distance (dict): A dictionary containing nodes as keys and their central distance as values. \n",
    "    \"\"\"\n",
    "    \n",
    "    # Initialise an empty dictionary to store the values for the central distance. \n",
    "    central_distance = {}\n",
    "    \n",
    "    # Iterate through each of the nodes in the network.\n",
    "    for v in G.vs():\n",
    "        \n",
    "        # Initialise an empty variable for the shortest path length.\n",
    "        shortest_path_len = None\n",
    "        \n",
    "        # If the node v is a centre then it must have central distance 0, so check for this case to speed up the algorithm.\n",
    "        if int(v[\"label\"]) in centres:\n",
    "            central_distance[v[\"label\"]] = 0\n",
    "            \n",
    "        # For all non-centre nodes v, iterate through the list of all centres. \n",
    "        else:\n",
    "            for u in G.vs():\n",
    "                if int(u[\"label\"]) in centres:\n",
    "                    # Find the shortest path length between the node v and a centre u.\n",
    "                    path_len = G.distances(source=v, target=u)\n",
    "\n",
    "                    # If this is a new minimum, then update the shortest path variable\n",
    "                    if shortest_path_len == None or shortest_path_len > path_len:\n",
    "                        shortest_path_len = path_len\n",
    "            \n",
    "            # Assign the value of the shortest path length to the node in the dictionary.\n",
    "            central_distance[v[\"label\"]] = shortest_path_len[0][0]\n",
    "            \n",
    "    # Once all nodes are checked return the values in the dictionary.\n",
    "    return central_distance        \n",
    "        \n",
    "def assign_nodes_to_boxes(G, centres, central_distance):\n",
    "    \"\"\"\n",
    "    Generates a dictionary assigning each node to a box under the MEMB algorithm. \n",
    "    \n",
    "    Args:\n",
    "        G (igraph.Graph): The network to be analysed. \n",
    "        centres (list): A list of centre nodes according to the MEMB algorithm.\n",
    "        central_distance (dict): A dictionary containing nodes as keys and their central distance as values.\n",
    "        \n",
    "    Returns:\n",
    "        nodes_to_boxes (dict): A dictionary containing nodes as keys and the box they are assigned to as the value.\n",
    "    \"\"\"\n",
    "    \n",
    "    # Initialise an empty dictionary to store the boxes for each node. \n",
    "    nodes_to_boxes = {}\n",
    "    \n",
    "    # Find the list of all nodes which are non-centres. \n",
    "    nodes = G.vs()\n",
    "    node_labels = [v[\"label\"] for v in G.vs()]\n",
    "    non_centres = list(set(node_labels) - set(centres))\n",
    "    \n",
    "    # The following section of code produces a list of non-centres in order of increasing central distance.\n",
    "    sorted_non_centres = [] # Initialise an empty list of non-centres.\n",
    "    sorted_dict = dict(sorted(central_distance.items(), key=itemgetter(1))) # Sort the dictionary of central distances into increasing order.\n",
    "\n",
    "    # Add each node to the list of sorted non-centres in order. \n",
    "    for key in sorted_dict:\n",
    "        if not int(key) in centres:\n",
    "            sorted_non_centres.append(int(key))\n",
    "\n",
    "    id = 0 # The ID of the first box is zero.\n",
    "    # For each of the centres assign a unique box ID.\n",
    "\n",
    "    for node in centres:\n",
    "        nodes_to_boxes[node] = id\n",
    "        id += 1 # Increment the box ID.\n",
    "\n",
    "\n",
    "    # Iterate through each of the non-centres \n",
    "    for node in sorted_non_centres:\n",
    "        # Initialise an empty list of possible boxes the node can belong to.\n",
    "        possible_boxes = []\n",
    "        # Find the neighbours which have central distance strictly less than the current node.\n",
    "        for neighbour in G.neighbors(int(node)):\n",
    "            if central_distance[str(node)] > central_distance[str(neighbour)]:\n",
    "                # For each, add their box to the list of possible boxes for the cu rrent node.\n",
    "                possible_boxes.append(nodes_to_boxes[int(neighbour)])\n",
    "        # Make a random choice from the list of possible boxes and assign that box to the node.\n",
    "        nodes_to_boxes[node] = random.choice(possible_boxes)\n",
    "        \n",
    "    # Once all nodes have been checked return a dictionary containing the mapping from all of the nodes to a box. \n",
    "    return nodes_to_boxes   \n",
    "    \n",
    "def find_boxes(nodes_to_boxes, centres):\n",
    "    \"\"\"\n",
    "    Finds a list of nodes assigned to each box in a network.\n",
    "    \n",
    "    Args:\n",
    "        nodes_to_boxes (dict): A dictionary with nodes as keys and their corresponding boxes as values. \n",
    "        centres (list): A list of the nodes found as centres under the MEMB algorithm. \n",
    "    \n",
    "    Returns:\n",
    "        boxes (dict): A dictionary with boxes as keys and a list of nodes in that box as the value. \n",
    "    \"\"\"\n",
    "    # Initialise an empty dictionary to store the boxes.\n",
    "    boxes = {}\n",
    "    \n",
    "    # The box IDs are 0, ..., k-1 where k is the number of centres. \n",
    "    for i in range(len(centres)): # Iterate over the box IDs.\n",
    "        # Initialise an empty list of nodes.\n",
    "        nodes = []\n",
    "        # Check if each node belongs in the current box.\n",
    "        for node in nodes_to_boxes:\n",
    "            # If it does, add it to the list of nodes.\n",
    "            if nodes_to_boxes[node] == i:\n",
    "                nodes.append(node)\n",
    "                \n",
    "        # Assign the list of nodes to the box. \n",
    "        boxes[i] = nodes\n",
    "        \n",
    "    # Return the dictionary of boxes to nodes. \n",
    "    return boxes"
   ]
  },
  {
   "cell_type": "markdown",
   "id": "ed5fec61-9afd-4ff4-9152-ffe6295b769a",
   "metadata": {},
   "source": [
    "<h2> 4.3 Checking Power-Laws"
   ]
  },
  {
   "cell_type": "markdown",
   "id": "a0fa2b0d-b753-4e12-b794-c8224966767d",
   "metadata": {},
   "source": [
    "The following functions are from the notebook `box-covering.ipynb`, and more details on their use can be found there. They check if a given distribution follows a power-law."
   ]
  },
  {
   "cell_type": "code",
   "execution_count": 90,
   "id": "725d7570-321f-44eb-9c73-cbde3b0435bc",
   "metadata": {
    "tags": []
   },
   "outputs": [],
   "source": [
    "def find_best_fractal_fit(x, y, A_min=0, A_max=10000, c_min = 0, c_max = 12.5, linspace_N=100):\n",
    "    \"\"\"\n",
    "    Finds the best exponential fit according to the sum of squares deviation of the form y = Ax^{-c}\n",
    "    \n",
    "    Args: \n",
    "        x (list): The values of x in the distribution.\n",
    "        y (list): The values of y in the distribution.\n",
    "        A_min (int) (opt): The minimum value of A to be tested. Can be adjusted to find more accurate results. Default is 0.\n",
    "        A_max (int) (opt): The maximum value of A to be tested. Can be adjusted to find more accurate results. Default is 10000.\n",
    "        c_min (int) (opt): The minimum value of c to be tested. Can be adjusted to find more accurate results. Default is 0. \n",
    "        c_max (int) (opt): The maximum value of c to be tested. Can be adjusted to find more accurate results. Default is 12.5. \n",
    "        linspace_N (int) (opt): The number of values of A and c to be checked in the respective ranges. Default is 100.\n",
    "        \n",
    "    Returns:\n",
    "        best_fit (tuple): The coefficients A and c from the best power law approximation. \n",
    "        best_score (float): The sum of squares regression of this approximation.\n",
    "    \"\"\"\n",
    "    # Initialise empty variables for the best fit (i.e. best A and c) and the best SSR score. \n",
    "    best_fit = (None, None)\n",
    "    best_score = None\n",
    "    \n",
    "    # Iterate through linspace_N values of A in the range [A_min, A_max].\n",
    "    for A in np.linspace(A_min, A_max, 100):\n",
    "        # Iterate through linspace_N values of c in the range [c_min, c_max].\n",
    "        for c in np.linspace(c_min, c_max, 100):\n",
    "            \n",
    "            # Find the values of y according to the power law fractal model with parameters A and c.\n",
    "            est_y = [A * i ** (-c) for i in x]\n",
    "            # Calculate the sum of squares regression.\n",
    "            score = sum_of_squares_deviation(y, est_y)\n",
    "            \n",
    "            # If the best score is yet to be updated (i.e. this is the first iteration) then set the current A, c and SSR to the best fit values.\n",
    "            if best_score == None:\n",
    "                best_score = score\n",
    "                best_fit = (A, c)\n",
    "            # If the new SSR score is smaller than the current best, then update the best score and update the best fit to the current A and c.\n",
    "            elif score < best_score:\n",
    "                best_score = score\n",
    "                best_fit = (A, c)\n",
    "    \n",
    "    # Once all values are tried return the best fit and the best score.\n",
    "    return best_fit, best_score\n",
    "\n",
    "def sum_of_squares_deviation(y, est_y):\n",
    "    \"\"\" \n",
    "    Finds the value SSR for the sum of squares regression method using a true and model distribution. \n",
    "    \n",
    "    Args:\n",
    "        y (list): The true or measured distribution.\n",
    "        est_y (list): The model distribution to be compared. \n",
    "    \n",
    "    Returns:\n",
    "        sum_of_squares (float): The sum of squares regression\n",
    "    \"\"\"\n",
    "    sum_of_squares = 0 # Initialise the sum as zero.\n",
    "    # Iterate for each pair of values in the true/model distributions. \n",
    "    for (yi, est_yi) in zip(y, est_y):\n",
    "        # Add to the sum the square of the difference between the two distributions. \n",
    "        sum_of_squares += (est_yi - yi) ** 2\n",
    "    # Return the total sum of the squares. \n",
    "    return sum_of_squares"
   ]
  },
  {
   "cell_type": "markdown",
   "id": "2be53964-78b9-433b-84d3-1222d3b78809",
   "metadata": {},
   "source": [
    "<h1> References"
   ]
  },
  {
   "cell_type": "markdown",
   "id": "9f78dad8-75ab-4a9d-875a-208987c2bf3f",
   "metadata": {},
   "source": [
    "[1] H. D. Rozenfeld, L. K. Gallos, C. Song, and H. A. Makse, “Fractal and transfractal scale-free networks,” in\n",
    "Encyclopedia of Complexity and Systems Science. Springer New York, 2009, pp. 3924–3943"
   ]
  },
  {
   "cell_type": "markdown",
   "id": "9618b553-844c-449b-a943-d8866d33e381",
   "metadata": {
    "tags": []
   },
   "source": [
    "[2] C. Song, S. Havlin, and H. A. Makse, “Origins of fractality in the growth of complex networks,” Nature Physics,\n",
    "vol. 2, pp. 275–281, 2006."
   ]
  },
  {
   "cell_type": "markdown",
   "id": "9dcc7eb4-e71e-4fff-8382-061f18271bc8",
   "metadata": {},
   "source": [
    "[3] L. Kuang, B. Zheng, D. Li, Y. Li, Y. Sun, \"A fractal and scale-free model of complex networks with hub attraction behaviors,\" Science China Information Sciences, vol. 58, pp. 1–10, 2015. "
   ]
  },
  {
   "cell_type": "markdown",
   "id": "c12ad710-be24-4842-8d90-80e257584b54",
   "metadata": {},
   "source": [
    "[4] This will be a reference to my thesis"
   ]
  },
  {
   "cell_type": "markdown",
   "id": "1b80c5f6-07d4-490a-a20f-a6f9d5938326",
   "metadata": {},
   "source": [
    "[5] E. Zakar-Poly ́ak, M. Nagy, and R. Molontay, “Towards a better understanding of the characteristics of fractal\n",
    "networks,” Applied Network Science, vol. 8, pp. 1–34, 2022"
   ]
  },
  {
   "cell_type": "code",
   "execution_count": null,
   "id": "b5f81cc6-581a-4332-b4cf-80b68429d700",
   "metadata": {},
   "outputs": [],
   "source": []
  }
 ],
 "metadata": {
  "kernelspec": {
   "display_name": "Python 3 (ipykernel)",
   "language": "python",
   "name": "python3"
  },
  "language_info": {
   "codemirror_mode": {
    "name": "ipython",
    "version": 3
   },
   "file_extension": ".py",
   "mimetype": "text/x-python",
   "name": "python",
   "nbconvert_exporter": "python",
   "pygments_lexer": "ipython3",
   "version": "3.11.7"
  }
 },
 "nbformat": 4,
 "nbformat_minor": 5
}
