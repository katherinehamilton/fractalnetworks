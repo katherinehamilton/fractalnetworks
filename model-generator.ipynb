{
 "cells": [
  {
   "cell_type": "markdown",
   "id": "b6fb1de5-4d64-4d38-aed6-faa7736ece1b",
   "metadata": {},
   "source": [
    "<h1> Generate Network Models"
   ]
  },
  {
   "cell_type": "code",
   "execution_count": 120,
   "id": "90154b54-0f47-4ffc-b089-0d3a75c60212",
   "metadata": {
    "tags": []
   },
   "outputs": [],
   "source": [
    "import networkx as nx\n",
    "import random\n",
    "import os\n",
    "import numpy as np"
   ]
  },
  {
   "cell_type": "markdown",
   "id": "8ae58fc5-15b9-4daa-9b41-6f31a1ebeaba",
   "metadata": {},
   "source": [
    "<h2> Tutorial"
   ]
  },
  {
   "cell_type": "markdown",
   "id": "c039f2e0-0c01-4bde-9aa4-7690d9ebaeca",
   "metadata": {},
   "source": [
    "<h2> Workspace"
   ]
  },
  {
   "cell_type": "markdown",
   "id": "055616a3-3d59-4c88-aefa-e676f5901b91",
   "metadata": {},
   "source": [
    "<h1>Functions"
   ]
  },
  {
   "cell_type": "markdown",
   "id": "57c64c07-4a70-488b-a888-a79556cb5dc7",
   "metadata": {},
   "source": [
    "<h2> 1. Fractal Models"
   ]
  },
  {
   "cell_type": "markdown",
   "id": "5060e93b-298b-4371-b676-a7589d3b0b6f",
   "metadata": {},
   "source": [
    "<h3> 1.1 Song-Havlin-Makse (SHM) Model"
   ]
  },
  {
   "cell_type": "markdown",
   "id": "ea81de1b-db93-4c17-b9ad-d24f0d8fc9bb",
   "metadata": {},
   "source": [
    "A SHM network relies on two predetermined parameters, $m$ and $p$, and is generated as follows\n",
    "\n",
    "1. Begin with two nodes connected by a single edge. \n",
    "\n",
    "2. At stage $n$, $m$ offspring are connected to each endpoint of every node. \n",
    "\n",
    "3. Also at stage $n$, each edge in the $(n-1)$-th generation is removed randomly with independent probability $p$ and replaced with an edge between two of the new offspring at the endpoints of this edge. "
   ]
  },
  {
   "cell_type": "code",
   "execution_count": 121,
   "id": "d1c5349b-976b-4b40-8971-afabc0c6b2a9",
   "metadata": {
    "tags": []
   },
   "outputs": [],
   "source": [
    "def generate_SHM_model_for_all_p(m, N, prob_N=11, example_N=1, save=False):\n",
    "    \n",
    "    probabilities = np.linspace(0, 1, prob_N)\n",
    "    \n",
    "    graphs = []\n",
    "    \n",
    "    for p in probabilities:\n",
    "        p_graphs = []\n",
    "        for i in range(example_N):\n",
    "            G = generate_SHM_model(m, p, N, save=save)\n",
    "            p_graphs.append(G)\n",
    "        graphs.append(p_graphs)\n",
    "        \n",
    "    return probabilities, graphs"
   ]
  },
  {
   "cell_type": "code",
   "execution_count": 118,
   "id": "1f54a05d-d746-4985-b164-e7db0c446062",
   "metadata": {
    "tags": []
   },
   "outputs": [],
   "source": [
    "def retrieve_SHM_model(m, p, N, example=1):\n",
    "    \"\"\"\n",
    "    Given the parameters m, p, N and the example number, retrieve the file containing the SHM network. \n",
    "    \n",
    "    Args:\n",
    "        m (int): The number of offspring added at each stage, as defined by the SHM model [2].\n",
    "        p (float): The probability of rewiring an edge, as defined by the SHM model [2]. \n",
    "        N (int): The number of iterations to perform of the SHM generative process [2].\n",
    "        example (int): In the case of multiple graphs with the same parameters, specifies the example wanted. \n",
    "        \n",
    "    Returns:\n",
    "        G (networkx.Graph): The SHM Model with the above specified parameters. \n",
    "    \"\"\"\n",
    "    \n",
    "    # Find the filepath to the model with these parameters. \n",
    "    filename = \"SHM-model-\" + str(m) + \"-\" + str(p) + \"-generation\" + str(N) + \"-example\" + str(example) + \".gml\"\n",
    "    filepath = \"network-files/models/SHM-model/\"\n",
    "\n",
    "    # Read the network.\n",
    "    G = nx.read_gml(filepath+filename)\n",
    "    \n",
    "    # Return the networkx graph.\n",
    "    return G"
   ]
  },
  {
   "cell_type": "code",
   "execution_count": 241,
   "id": "2e617edb-744c-4973-aa08-871dca303d56",
   "metadata": {
    "tags": []
   },
   "outputs": [],
   "source": [
    "def generate_SHM_model(m, p, N, save=False):\n",
    "    G = nx.path_graph(2)\n",
    "    \n",
    "    for i in range(N-1):\n",
    "        G = SHM_iteration(G, m, p)\n",
    "        \n",
    "    if save==True:\n",
    "        # Save the file in the format uvflower-generationN.gml\n",
    "        count = 1\n",
    "        saved = False\n",
    "        \n",
    "        while saved == False:\n",
    "            filename = \"SHM-model-\" + str(m) + \"-\" + str(p) + \"-generation\" + str(N) + \"-example\" + str(count) + \".gml\"\n",
    "            filepath = \"network-files/models/SHM-model/\" + filename\n",
    "            if not os.path.isfile(filepath):\n",
    "                nx.write_gml(G, filepath)\n",
    "                saved=True\n",
    "            else:\n",
    "                count += 1\n",
    "    \n",
    "    return G"
   ]
  },
  {
   "cell_type": "code",
   "execution_count": 194,
   "id": "5c630ad7-7e9b-4831-b151-6b247aba0d1c",
   "metadata": {
    "tags": []
   },
   "outputs": [],
   "source": [
    "def SHM_iteration(G, m, p):\n",
    "    \n",
    "    edges = list(G.edges())\n",
    "    \n",
    "    for edge in edges:\n",
    "        G, source_offspring = add_m_offspring(G, edge[0], m)\n",
    "        G, target_offspring = add_m_offspring(G, edge[1], m)\n",
    "        \n",
    "        if random.random() <= p:\n",
    "            rewire_offspring(G, edge, source_offspring, target_offspring)\n",
    "        \n",
    "    return G"
   ]
  },
  {
   "cell_type": "code",
   "execution_count": 192,
   "id": "b08f2ec6-154d-4135-8bd4-7fe5e7311222",
   "metadata": {
    "tags": []
   },
   "outputs": [],
   "source": [
    "def add_m_offspring(G, node, m):\n",
    "    n = len(G.nodes())\n",
    "    \n",
    "    new_nodes = [n+i for i in range(m)]\n",
    "    new_edges = zip(new_nodes, [node]*m)\n",
    "    \n",
    "    G.add_nodes_from(new_nodes)\n",
    "    G.add_edges_from(new_edges)\n",
    "    \n",
    "    return G, new_nodes\n",
    "    "
   ]
  },
  {
   "cell_type": "code",
   "execution_count": 200,
   "id": "4470a0ed-27ae-4efb-b102-962486a41d45",
   "metadata": {
    "tags": []
   },
   "outputs": [],
   "source": [
    "def rewire_offspring(G, edge, source_offspring, target_offspring):\n",
    "    G.remove_edge(edge[0], edge[1])\n",
    "    \n",
    "    new_source = random.choice(source_offspring)\n",
    "    new_target = random.choice(target_offspring)\n",
    "    \n",
    "    G.add_edge(new_source, new_target)\n",
    "    \n",
    "    return G"
   ]
  },
  {
   "cell_type": "markdown",
   "id": "7484efe9-57f1-475b-a11e-6ec5f790a59b",
   "metadata": {},
   "source": [
    "<h3> 1.2 $(u, v)$-Flowers"
   ]
  },
  {
   "cell_type": "markdown",
   "id": "1b928aac-fe2e-495e-bebd-d7ae55f03398",
   "metadata": {},
   "source": [
    "A $(u, v)$-flower [1], with $1<u<v$, is generated as follows:\n",
    "\n",
    "1. Begin with a cycle graph of length $w= u+v$.\n",
    "\n",
    "2. In the $n$-th generation, replace each edge in the graph from the $(n-1)$-th generation with two parallel paths, one of length $u$ and the other of length $v$.\n",
    "\n",
    "This network is self similar because the $n$-th generation contains $w$ copies of the $(n-1)$-th generation.\n",
    "\n",
    "The model is also deterministic."
   ]
  },
  {
   "cell_type": "code",
   "execution_count": 5,
   "id": "7587f2df-a3e5-4f48-9387-55194c03e23f",
   "metadata": {
    "tags": []
   },
   "outputs": [],
   "source": [
    "def generate_uv_flower(u, v, N):\n",
    "    \"\"\"\n",
    "    Generates an n-th generation (u,v)-flower.\n",
    "    \n",
    "    Args:\n",
    "        u (int): Value of u, i.e. path length of one of the parallel paths. \n",
    "        v (int): Value of v, i.e. path length of one of the parallel paths. \n",
    "        N (int): Number of generations.\n",
    "        \n",
    "    Returns:\n",
    "        filepath (str): File path to .gml file containing generated network.\n",
    "    \"\"\"\n",
    "    # Initialise a cycle graph of length w = u + v\n",
    "    G = nx.cycle_graph(u+v)\n",
    "    \n",
    "    # For each of the n generations, perform one iteration of the generative process. \n",
    "    for i in range(N-1):\n",
    "        G = uv_iteration(G, u, v)\n",
    "        \n",
    "    # Save the file in the format uvflower-generationN.gml\n",
    "    filename = str(u) + str(v) + \"flower-generation\" + str(N) + \".gml\"\n",
    "    filepath = \"network-files/models/uv-flowers/\" + filename\n",
    "    nx.write_gml(G, filepath)\n",
    "    \n",
    "    return filepath"
   ]
  },
  {
   "cell_type": "code",
   "execution_count": 7,
   "id": "195a24b1-b212-4706-b505-02c8d2a6f7cd",
   "metadata": {
    "tags": []
   },
   "outputs": [],
   "source": [
    "def uv_iteration(G, u, v):\n",
    "    \"\"\"\n",
    "    Performs one iteration in the (u,v)-flower generation process. \n",
    "    \n",
    "    Args:\n",
    "        G (networkx.Graph): The (u,v)-flower network in its current (t-1)-th generation. \n",
    "        u (int): Value of u, i.e. path length of one of the parallel paths. \n",
    "        v (int): Value of v, i.e. path length of one of the parallel paths. \n",
    "        \n",
    "    Returns:\n",
    "        G (networkx.Graph): The (u,v)-flower network in the t-th generation. \n",
    "        \n",
    "    \"\"\"\n",
    "    # Find a list of all the nodes and edges in the network at the (t-1)-th generation.\n",
    "    nodes = list(G.nodes())\n",
    "    edges = list(G.edges())\n",
    "    \n",
    "    # Remove all the existing edges. \n",
    "    G.remove_edges_from(G.edges())\n",
    "\n",
    "    # Iterate through each of the edges from the network in the (t-1)-th generation.\n",
    "    for edge in edges:\n",
    "        # n is used to store the smallest integer which isn't yet a node label. \n",
    "        # The nodes are labelled 0, ..., n-1, so this is n.\n",
    "        n = len(G.nodes())\n",
    "        \n",
    "        # Replace the edge with a path of length u.\n",
    "        # First find a path graph using these vertices.\n",
    "        Hu, n = add_new_path(u, n, edge)\n",
    "        # Then merge this path graph with the existing network.\n",
    "        G = nx.compose(G, Hu)\n",
    "        \n",
    "        # Replace the edge with a path of length v.\n",
    "        # First find a path graph using these vertices.\n",
    "        Hv, n = add_new_path(v, n, edge)\n",
    "        # Then merge this path graph with the existing network.\n",
    "        G = nx.compose(G, Hv)\n",
    "\n",
    "    # Return the graph after all iterations. \n",
    "    return G"
   ]
  },
  {
   "cell_type": "code",
   "execution_count": 15,
   "id": "963a8936-12de-4681-a0d5-2325e005e245",
   "metadata": {
    "tags": []
   },
   "outputs": [],
   "source": [
    "def add_new_path(l, n, edge):\n",
    "    \"\"\"\n",
    "    Adds a new parallel path to the network, a step in the (u, v)-flower generation process. \n",
    "    \n",
    "    Args:\n",
    "        l (int): The length of the path to be added to the network.\n",
    "        n (int): A counter which stores the next unused integer to label nodes. \n",
    "        edge (tuple): The edge from the network being replaced with parallel paths. \n",
    "        \n",
    "    Returns:\n",
    "        Hl (networkx.Graph): A path graph of length l with vertices labelled correctly. \n",
    "        n (int): A counter which stores the next unused integer to label nodes. \n",
    "    \"\"\"\n",
    "    # Generate a path graph with l edges (and l+1 vertices). \n",
    "    Hl = nx.path_graph(l+1)\n",
    "    \n",
    "    # Create an empty dictionary to be used to relabel the nodes in the path. \n",
    "    l_rlbl = {key:None for key in list(Hl.nodes)}\n",
    "    \n",
    "    # The nodes in the path graph are labelled from 0 to l. \n",
    "    # Thus, the node 0 in this path corresponds to the source node of the original edge,\n",
    "    #   and the node l in this path corresponds to the target node of the original edge.\n",
    "    \n",
    "    # Iterate through all the nodes in the path.\n",
    "    for node in list(Hl.nodes()):\n",
    "        # If the node is 0 in the path, relabel it as the source of the original edge.\n",
    "        if node == 0:\n",
    "            l_rlbl[node] = edge[0]\n",
    "        # If the node is l in the path, relabel it as the source of the original edge.\n",
    "        elif node == l:\n",
    "            l_rlbl[node] = edge[1]\n",
    "        # For all other nodes, relabel it as the next unused integer. \n",
    "        else:\n",
    "            l_rlbl[node] = n\n",
    "            # Increment the counter n, so that n is now the next unused integer. \n",
    "            n += 1\n",
    "            \n",
    "    # Relabel the nodes according to the scheme described above. \n",
    "    Hl = nx.relabel_nodes(Hl, l_rlbl)\n",
    "    \n",
    "    # Return the path graph to be merged with the (u, v)-flower graph, and the counter for the next unused integer for node labels. \n",
    "    return Hl, n"
   ]
  },
  {
   "cell_type": "markdown",
   "id": "87accbd1-494e-4412-9f9d-3bd7bd06a352",
   "metadata": {},
   "source": [
    "<h2> 2. Non-Fractal Models"
   ]
  },
  {
   "cell_type": "markdown",
   "id": "1d058c5e-e9e6-40b0-b6ef-6a0608ddeada",
   "metadata": {},
   "source": [
    "<h2> 2.1 $(u, v)$-Flowers"
   ]
  },
  {
   "cell_type": "markdown",
   "id": "60da0e5d-5a9a-43d4-9c5a-74f22b5b8892",
   "metadata": {},
   "source": [
    "It was shown in [1] that $(u, v)$-flowers with $u=1$ are non-fractal. "
   ]
  },
  {
   "cell_type": "code",
   "execution_count": 101,
   "id": "01162c19-b301-41c1-b9ff-328e87978263",
   "metadata": {
    "tags": []
   },
   "outputs": [],
   "source": [
    "def generate_non_fractal_uv_flower(v, N):\n",
    "    \"\"\"\n",
    "    Generates a non-fractal (u,v)-flower with u=1.\n",
    "    \n",
    "    Args:\n",
    "        v (int): Value of v, i.e. path length of the parallel paths. \n",
    "        N (int): Number of generations.\n",
    "        \n",
    "    Returns:\n",
    "        filepath (str): File path to .gml file containing generated network.\n",
    "    \"\"\"\n",
    "    # Returns the (u,v)-flower found by the fractal generator, but with u hardcoded as 1. \n",
    "    return generate_uv_flower(1, v, N)"
   ]
  },
  {
   "cell_type": "markdown",
   "id": "2be53964-78b9-433b-84d3-1222d3b78809",
   "metadata": {},
   "source": [
    "<h1> References"
   ]
  },
  {
   "cell_type": "markdown",
   "id": "9f78dad8-75ab-4a9d-875a-208987c2bf3f",
   "metadata": {},
   "source": [
    "[1] H. D. Rozenfeld, L. K. Gallos, C. Song, and H. A. Makse, “Fractal and transfractal scale-free networks,” in\n",
    "Encyclopedia of Complexity and Systems Science. Springer New York, 2009, pp. 3924–3943"
   ]
  },
  {
   "cell_type": "code",
   "execution_count": null,
   "id": "303c006e-5f9a-40e0-b968-f9acae841d56",
   "metadata": {},
   "outputs": [],
   "source": []
  }
 ],
 "metadata": {
  "kernelspec": {
   "display_name": "Python 3 (ipykernel)",
   "language": "python",
   "name": "python3"
  },
  "language_info": {
   "codemirror_mode": {
    "name": "ipython",
    "version": 3
   },
   "file_extension": ".py",
   "mimetype": "text/x-python",
   "name": "python",
   "nbconvert_exporter": "python",
   "pygments_lexer": "ipython3",
   "version": "3.11.7"
  }
 },
 "nbformat": 4,
 "nbformat_minor": 5
}
